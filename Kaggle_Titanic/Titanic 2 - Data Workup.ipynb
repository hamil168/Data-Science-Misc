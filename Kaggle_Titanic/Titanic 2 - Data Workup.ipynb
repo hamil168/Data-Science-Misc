{
 "cells": [
  {
   "cell_type": "markdown",
   "metadata": {},
   "source": [
    "# Data Processing for the Kaggle Titanic Dataset\n",
    "Author: Benjamin D Hamilton\n",
    "\n",
    "The purpose of this workbook is to examine the features for the Titanic training set\n",
    "Transform them, and create new features for exploration with the model\n",
    "\n",
    "The previous study I performed (the Capstone for my Microsoft Certification) focused on exploring models, using a straightforward processing set for the data.\n",
    "\n",
    "This study focuses deliberately on things like encoding variables, feature analysis and outlier handling. Lots of it!\n",
    "\n",
    "The exploration here will be the basis for the pipeline used to treat the data for modelling."
   ]
  },
  {
   "cell_type": "code",
   "execution_count": 233,
   "metadata": {},
   "outputs": [],
   "source": [
    "#Import packages\n",
    "import pandas as pd\n",
    "import numpy as np\n",
    "\n",
    "import matplotlib.pyplot as plt\n",
    "import matplotlib.gridspec as grd\n",
    "%matplotlib inline\n",
    "\n",
    "import seaborn as sns\n",
    "sns.set_style('whitegrid')\n",
    "\n",
    "import re"
   ]
  },
  {
   "cell_type": "markdown",
   "metadata": {},
   "source": [
    "### Data Dictionary\n",
    "\n",
    "***Initial Variable Definition Key***\n",
    "\n",
    "- survival\t-- Survival\t0 = No, 1 = Yes\n",
    "- pclass\t-- Ticket class\t1 = 1st, 2 = 2nd, 3 = 3rd\n",
    "\n",
    "\n",
    "- sex\tSex\t\n",
    "    Age\tAge in years\t\n",
    "- sibsp\t# of siblings / spouses aboard the Titanic\t\n",
    "- parch\t# of parents / children aboard the Titanic\t\n",
    "- ticket\tTicket number\t\n",
    "- fare\tPassenger fare\t\n",
    "- cabin\tCabin number\t\n",
    "- embarked\tPort of Embarkation\tC = Cherbourg, Q = Queenstown, S = Southampton\n",
    "\n",
    "***Variable Notes***\n",
    "\n",
    "\n",
    "***pclass:*** A proxy for socio-economic status (SES)\n",
    "1st = Upper\n",
    "2nd = Middle\n",
    "3rd = Lower\n",
    "\n",
    "***age:*** Age is fractional if less than 1. If the age is estimated, is it in the form of xx.5\n",
    "\n",
    "***sibsp:*** The dataset defines family relations in this way...\n",
    "Sibling = brother, sister, stepbrother, stepsister\n",
    "Spouse = husband, wife (mistresses and fiancés were ignored)\n",
    "\n",
    "***parch:*** The dataset defines family relations in this way...\n",
    "Parent = mother, father\n",
    "Child = daughter, son, stepdaughter, stepson\n",
    "Some children travelled only with a nanny, therefore parch=0 for them.\n",
    "\n",
    "### ***Generated Features (A summary of what this workbook does)***\n",
    "#### Note: Dropping features will be dealt with in a later notebook.\n",
    "\n",
    "- ***Title*** = (str) Title extracted from passenger name (Mr Miss Dr Lady, etc)\n",
    "- ***Last_Name*** = (str) Last name extracted from passenger name\n",
    "- ***Last_Name_Count*** = (int) Total number of people sharing that last name\n",
    "- ***Military*** = 1 if passenger has a military rank for a title, else 0\n",
    "- ***Nobility*** = 1 if passenger has a nobility title, else 0\n",
    "- ***Reverend*** = 1 if passenger has reverend for a title, else 0\n",
    "- ***Doctor*** = 1 if passenger has Dr for a title, else 0\n",
    "\n",
    "\n",
    "- ***Title_New*** (and ***MMMM***) = (str) Gender based titles (Mr, Mrs, Master, Miss)\n",
    "    - When one of these 4 was not given (ex: for a doctor or reverend), one was assigned\n",
    "    \n",
    "Dummies for ***Title_New***:\n",
    "- ***Master*** = 1 if passenger title is Master, exclusive to young men\n",
    "- ***Miss*** = 1 if passenger is assigned Miss in MMMM, else 0\n",
    "- ***Mrs*** = 1 if passenger is assigned Mrs in MMMM, else 0\n",
    "- ***Mr*** = 1 if passenger is assigned Mr title, else 0\n",
    "- Notes: Only 3 of the 4 are needed in models where colinearity is a problem\n",
    "\n",
    "- ***female*** = 1 if passenger is female, else 0\n",
    "- ***male*** = 1 if passenger is male, else 0\n",
    "\n",
    "Dummies for ***Embarked***:\n",
    "- ***Emb_C*** = 1 if Embarked was \"C\", else 0\n",
    "- ***Emb_Q*** = 1 if Embarked was \"Q\", else 0\n",
    "- ***Emb_S*** = 1 if Embarked was \"S\", else 0 \n",
    "- Notes:\n",
    "    - Two data were missing. They were easily imputed.\n",
    "    - Only 2 of the 3 are used if colinearity is a problem\n",
    "    - 2 data were \"Q\", so it is most likely to be dropped later\n",
    "\n",
    "Encoding for ***Cabin***:\n",
    "- ***Has Cabin*** = 1 if data is present, 0 if not (Cabin has many NAN's)\n",
    "- ***Cabin Letter*** = First letter of the Cabin feature: many each from A, B, C, D, E, F... four from G... one T \n",
    "- ***A, B, C, D, E, F, G, T*** = Binary dummy variables for ***Cabin Letter***\n",
    "- ***G_Level*** = 1 if G is located anywhere in sample's ***Cabin*** feature (not just first letter), 7 total\n",
    "\n",
    "Encoding for ***PClass***:\n",
    "- ***Class_1, Class_2, Class_3*** = binary dummy variables for PClass\n",
    "\n",
    "***Age*** Outliers and Imputation Handling:\n",
    "- ***Age_No_Out***: ***Age*** Outlier boundary is 3-sigma, outliers are brought to 3-sigma line\n",
    "- ***Age_Imp_Mean***: NANs (>100) are imputed with feature mean\n",
    "- ***Age_Imp_Median***: NANs are imputed with feature median\n",
    "- ***Age_Cat_1***: ***Age*** (no outlier treatment) split into 8 hierarchcal categories (the _1 is in case I try other splits)\n",
    "\n",
    "***Fare*** Outliers and Imputation Handling:\n",
    "- ***Fare_No_Out***: ***Fare*** outliers brought within 3 sigma boundary\n",
    "    - Note: this manipulation shrinks the mean, range and sigma, creating new (though less extreme) outliers\n",
    "- ***Fare_No_Out_2***: ***Fare_No_Out*** outliers brought with its 3 sigma boundary\n",
    "    - Note: Again, this creates new outliers, but they are much less extreme than those for ***Fare***\n",
    "- ***Fare_Log***: Logrithm of ***Fare***+1 (outliers intact) to make the data less skewed\n",
    "- ***Fare_Log_No_out***: ***Fare_Log*** Treated for outliers in the same way as the others\n",
    "- ***Free_Ticket***: 1 if the Fare was 0, which also meant the Fare_Log was 0 (Fare_Log = Log(Fare+1))\n",
    "\n",
    "Exploring ***Family***:\n",
    "- ***Family***: Sum of SibSp (Sibling/Spouse) and Parch (Parent/Child) variables, +1 for the passenger themself.\n",
    "    - In theory, # of important people onboard\n",
    "- ***Family_Log***: Log of ***Family***, because distribution is skewed\n",
    "- ***Family_Inv***: Reciprocal of ***Family***, just because I'm curious\n",
    "\n",
    "Fare Individualization - split fare cost equally over each person on the same ticket\n",
    "- ***Ticket_Ct***: Number of people in the training data who share a ticket number\n",
    "- ***Fare_Indiv***: ***Fare*** divided by the larger of ***Family*** or ***Ticket_Ct***\n",
    "    - ***Family*** accounts for all cases except where unrelated people share a ticket\n",
    "    - ***Ticket_Ct*** is the alternative, but may have some error if a ticketmate is in the test set"
   ]
  },
  {
   "cell_type": "markdown",
   "metadata": {},
   "source": [
    "## LET'S BEGIN:\n",
    "\n",
    "TODO\n",
    "- Import data\n",
    "- Screen basic infomation"
   ]
  },
  {
   "cell_type": "code",
   "execution_count": 234,
   "metadata": {},
   "outputs": [
    {
     "data": {
      "text/html": [
       "<div>\n",
       "<style scoped>\n",
       "    .dataframe tbody tr th:only-of-type {\n",
       "        vertical-align: middle;\n",
       "    }\n",
       "\n",
       "    .dataframe tbody tr th {\n",
       "        vertical-align: top;\n",
       "    }\n",
       "\n",
       "    .dataframe thead th {\n",
       "        text-align: right;\n",
       "    }\n",
       "</style>\n",
       "<table border=\"1\" class=\"dataframe\">\n",
       "  <thead>\n",
       "    <tr style=\"text-align: right;\">\n",
       "      <th></th>\n",
       "      <th>PassengerId</th>\n",
       "      <th>Survived</th>\n",
       "      <th>Pclass</th>\n",
       "      <th>Name</th>\n",
       "      <th>Sex</th>\n",
       "      <th>Age</th>\n",
       "      <th>SibSp</th>\n",
       "      <th>Parch</th>\n",
       "      <th>Ticket</th>\n",
       "      <th>Fare</th>\n",
       "      <th>Cabin</th>\n",
       "      <th>Embarked</th>\n",
       "    </tr>\n",
       "  </thead>\n",
       "  <tbody>\n",
       "    <tr>\n",
       "      <th>0</th>\n",
       "      <td>1</td>\n",
       "      <td>0</td>\n",
       "      <td>3</td>\n",
       "      <td>Braund, Mr. Owen Harris</td>\n",
       "      <td>male</td>\n",
       "      <td>22.0</td>\n",
       "      <td>1</td>\n",
       "      <td>0</td>\n",
       "      <td>A/5 21171</td>\n",
       "      <td>7.2500</td>\n",
       "      <td>NaN</td>\n",
       "      <td>S</td>\n",
       "    </tr>\n",
       "    <tr>\n",
       "      <th>1</th>\n",
       "      <td>2</td>\n",
       "      <td>1</td>\n",
       "      <td>1</td>\n",
       "      <td>Cumings, Mrs. John Bradley (Florence Briggs Th...</td>\n",
       "      <td>female</td>\n",
       "      <td>38.0</td>\n",
       "      <td>1</td>\n",
       "      <td>0</td>\n",
       "      <td>PC 17599</td>\n",
       "      <td>71.2833</td>\n",
       "      <td>C85</td>\n",
       "      <td>C</td>\n",
       "    </tr>\n",
       "    <tr>\n",
       "      <th>2</th>\n",
       "      <td>3</td>\n",
       "      <td>1</td>\n",
       "      <td>3</td>\n",
       "      <td>Heikkinen, Miss. Laina</td>\n",
       "      <td>female</td>\n",
       "      <td>26.0</td>\n",
       "      <td>0</td>\n",
       "      <td>0</td>\n",
       "      <td>STON/O2. 3101282</td>\n",
       "      <td>7.9250</td>\n",
       "      <td>NaN</td>\n",
       "      <td>S</td>\n",
       "    </tr>\n",
       "  </tbody>\n",
       "</table>\n",
       "</div>"
      ],
      "text/plain": [
       "   PassengerId  Survived  Pclass  \\\n",
       "0            1         0       3   \n",
       "1            2         1       1   \n",
       "2            3         1       3   \n",
       "\n",
       "                                                Name     Sex   Age  SibSp  \\\n",
       "0                            Braund, Mr. Owen Harris    male  22.0      1   \n",
       "1  Cumings, Mrs. John Bradley (Florence Briggs Th...  female  38.0      1   \n",
       "2                             Heikkinen, Miss. Laina  female  26.0      0   \n",
       "\n",
       "   Parch            Ticket     Fare Cabin Embarked  \n",
       "0      0         A/5 21171   7.2500   NaN        S  \n",
       "1      0          PC 17599  71.2833   C85        C  \n",
       "2      0  STON/O2. 3101282   7.9250   NaN        S  "
      ]
     },
     "execution_count": 234,
     "metadata": {},
     "output_type": "execute_result"
    }
   ],
   "source": [
    "#Import training data\n",
    "train = pd.read_csv('./datasets/train.csv')\n",
    "\n",
    "train.head(3)"
   ]
  },
  {
   "cell_type": "code",
   "execution_count": 235,
   "metadata": {},
   "outputs": [
    {
     "name": "stdout",
     "output_type": "stream",
     "text": [
      "<class 'pandas.core.frame.DataFrame'>\n",
      "RangeIndex: 891 entries, 0 to 890\n",
      "Data columns (total 12 columns):\n",
      "PassengerId    891 non-null int64\n",
      "Survived       891 non-null int64\n",
      "Pclass         891 non-null int64\n",
      "Name           891 non-null object\n",
      "Sex            891 non-null object\n",
      "Age            714 non-null float64\n",
      "SibSp          891 non-null int64\n",
      "Parch          891 non-null int64\n",
      "Ticket         891 non-null object\n",
      "Fare           891 non-null float64\n",
      "Cabin          204 non-null object\n",
      "Embarked       889 non-null object\n",
      "dtypes: float64(2), int64(5), object(5)\n",
      "memory usage: 83.6+ KB\n"
     ]
    }
   ],
   "source": [
    "train.info()"
   ]
  },
  {
   "cell_type": "code",
   "execution_count": 236,
   "metadata": {},
   "outputs": [
    {
     "data": {
      "text/plain": [
       "PassengerId      0\n",
       "Survived         0\n",
       "Pclass           0\n",
       "Name             0\n",
       "Sex              0\n",
       "Age            177\n",
       "SibSp            0\n",
       "Parch            0\n",
       "Ticket           0\n",
       "Fare             0\n",
       "Cabin          687\n",
       "Embarked         2\n",
       "dtype: int64"
      ]
     },
     "execution_count": 236,
     "metadata": {},
     "output_type": "execute_result"
    }
   ],
   "source": [
    "#Large quantities of nulls in age and cabin\n",
    "train.isnull().sum()"
   ]
  },
  {
   "cell_type": "markdown",
   "metadata": {},
   "source": [
    "# Name: Passenger Title Features\n",
    "\n",
    "TODO: \n",
    "- Extract Titles from Name\n",
    "- Extract Last Name from Name\n",
    "- Add Column of Last Name Multiplicity -> \n",
    "    - interested in how it differs from the Sibling/Spouse, Parent, and Aggregate Values"
   ]
  },
  {
   "cell_type": "code",
   "execution_count": 237,
   "metadata": {},
   "outputs": [],
   "source": [
    "#This regex expression will extract titles from the name feature\n",
    "#using the comma, space and period as anchors\n",
    "#ie: 'Lastname, Title. Firstname' becomes ', Title.'\n",
    "p = re.compile(',\\s[a-zA-Z0-9_]*')\n",
    "\n",
    "train['Title'] = train.Name.apply(lambda x: p.search(str(x)).group()[2:])\n",
    "\n",
    "#Another regex expression that gets the last name from the name feature\n",
    "#by using the comma as an anchor\n",
    "#ie: 'Lastname, Title. Firstname' becomes 'Lastname,\"\n",
    "q = re.compile('[\\S ]*,')\n",
    "\n",
    "train['Last_Name'] = train.Name.apply(lambda x: q.search(str(x)).group()[:-1])\n",
    "\n",
    "#Add column of last name multiplicity\n",
    "train['Last_Name_Count'] = train.Last_Name.apply(lambda x: train.Last_Name.value_counts().loc[str(x)])"
   ]
  },
  {
   "cell_type": "markdown",
   "metadata": {},
   "source": [
    "TODO:\n",
    " \n",
    "- Create secondary binary categories for titles with common backgrounds (military, nobility, reverend, doctor)"
   ]
  },
  {
   "cell_type": "code",
   "execution_count": 238,
   "metadata": {},
   "outputs": [],
   "source": [
    "ranking = ['Capt','Col','Major']\n",
    "train['Military'] = train.Title.apply(lambda x: (x in ranking) * 1)  #the 1 makes it 1 and 0\n",
    "\n",
    "nobility = ['Sir','Lady','Jonkheer','Don','Duchess','the']  #'the' is the actual duchess entry here\n",
    "train['Nobility'] = train.Title.apply(lambda x: (x in nobility) * 1)\n",
    "\n",
    "reverend = ['Rev']\n",
    "train['Reverend'] = train.Title.apply(lambda x: (x in reverend) * 1)\n",
    "\n",
    "doctor = ['Dr']\n",
    "train['Doctor'] = train.Title.apply(lambda x: (x in doctor) * 1)"
   ]
  },
  {
   "cell_type": "markdown",
   "metadata": {},
   "source": [
    "TODO:\n",
    "- Use gender and gender-based titles to assign every passenger one of Miss, Mrs, Mr, Master\n",
    "- Note for test set workup: titles with multiple words (\"the duchess\") not supported by my simple regex "
   ]
  },
  {
   "cell_type": "code",
   "execution_count": 239,
   "metadata": {},
   "outputs": [],
   "source": [
    "#New text column name\n",
    "train['Title_New'] = train.Title\n",
    "\n",
    "#Replace Mlle with Miss\n",
    "#Replace Mme with Mrs\n",
    "#Replace Ms with Miss\n",
    "titles_dict = {'Mlle': 'Miss', 'Mme': 'Mrs', 'Ms': 'Miss'}\n",
    "train.Title_New.replace(titles_dict, inplace = True) #Needs inplace = True\n",
    "\n"
   ]
  },
  {
   "cell_type": "code",
   "execution_count": 240,
   "metadata": {
    "scrolled": true
   },
   "outputs": [],
   "source": [
    "#There was 1 female doctor\n",
    "#2 female nobles included \"the\" duchess. My regex only caught the first word so I compensate for that here\n",
    "#Keep an eye out for strange titles in the test set!\n",
    "train.loc[train[(train.Title_New == 'Dr') & (train.Sex=='female')].index,'Title_New'] = 'Mrs'\n",
    "train.loc[train[(train.Title_New == 'Lady') | (train.Title_New=='the')].index,'Title_New'] = 'Mrs'\n",
    "\n",
    "#Men are a bit easier because all boys are automatically called Master\n",
    "#Thus, any non-Master men becomes a Mr\n",
    "train.loc[train[(train.Sex == 'male') & (train.Title != 'Master')].index,'Title_New'] = 'Mr'\n",
    "\n",
    "#Copy the feature for easy in bookkeeping during workup\n",
    "train['MMMM']=train.Title_New"
   ]
  },
  {
   "cell_type": "code",
   "execution_count": 241,
   "metadata": {},
   "outputs": [
    {
     "data": {
      "text/plain": [
       "array(['Mr', 'Mrs', 'Miss', 'Master'], dtype=object)"
      ]
     },
     "execution_count": 241,
     "metadata": {},
     "output_type": "execute_result"
    }
   ],
   "source": [
    "train.Title_New.unique()"
   ]
  },
  {
   "cell_type": "markdown",
   "metadata": {},
   "source": [
    "TODO:\n",
    "- Create dummy variables for the 4 gender titles \n",
    "    - NB: 1 may need deleting later to prevent colinearity\n",
    "- Create Dummies for gender \n",
    "    - 1 will definitely be deleted later\n",
    "- Create dummies for Embarkation Point \n",
    "    - 1 may be deleted later"
   ]
  },
  {
   "cell_type": "code",
   "execution_count": 242,
   "metadata": {},
   "outputs": [],
   "source": [
    "train = pd.concat([train,pd.get_dummies(train.MMMM)],axis=1)     #Gender titles\n",
    "train = pd.concat([train,pd.get_dummies(train.Sex)],axis=1)      #Gender"
   ]
  },
  {
   "cell_type": "code",
   "execution_count": 243,
   "metadata": {},
   "outputs": [
    {
     "data": {
      "text/html": [
       "<div>\n",
       "<style scoped>\n",
       "    .dataframe tbody tr th:only-of-type {\n",
       "        vertical-align: middle;\n",
       "    }\n",
       "\n",
       "    .dataframe tbody tr th {\n",
       "        vertical-align: top;\n",
       "    }\n",
       "\n",
       "    .dataframe thead th {\n",
       "        text-align: right;\n",
       "    }\n",
       "</style>\n",
       "<table border=\"1\" class=\"dataframe\">\n",
       "  <thead>\n",
       "    <tr style=\"text-align: right;\">\n",
       "      <th></th>\n",
       "      <th>PassengerId</th>\n",
       "      <th>Survived</th>\n",
       "      <th>Pclass</th>\n",
       "      <th>Name</th>\n",
       "      <th>Sex</th>\n",
       "      <th>Age</th>\n",
       "      <th>SibSp</th>\n",
       "      <th>Parch</th>\n",
       "      <th>Ticket</th>\n",
       "      <th>Fare</th>\n",
       "      <th>...</th>\n",
       "      <th>Reverend</th>\n",
       "      <th>Doctor</th>\n",
       "      <th>Title_New</th>\n",
       "      <th>MMMM</th>\n",
       "      <th>Master</th>\n",
       "      <th>Miss</th>\n",
       "      <th>Mr</th>\n",
       "      <th>Mrs</th>\n",
       "      <th>female</th>\n",
       "      <th>male</th>\n",
       "    </tr>\n",
       "  </thead>\n",
       "  <tbody>\n",
       "    <tr>\n",
       "      <th>0</th>\n",
       "      <td>1</td>\n",
       "      <td>0</td>\n",
       "      <td>3</td>\n",
       "      <td>Braund, Mr. Owen Harris</td>\n",
       "      <td>male</td>\n",
       "      <td>22.0</td>\n",
       "      <td>1</td>\n",
       "      <td>0</td>\n",
       "      <td>A/5 21171</td>\n",
       "      <td>7.2500</td>\n",
       "      <td>...</td>\n",
       "      <td>0</td>\n",
       "      <td>0</td>\n",
       "      <td>Mr</td>\n",
       "      <td>Mr</td>\n",
       "      <td>0</td>\n",
       "      <td>0</td>\n",
       "      <td>1</td>\n",
       "      <td>0</td>\n",
       "      <td>0</td>\n",
       "      <td>1</td>\n",
       "    </tr>\n",
       "    <tr>\n",
       "      <th>1</th>\n",
       "      <td>2</td>\n",
       "      <td>1</td>\n",
       "      <td>1</td>\n",
       "      <td>Cumings, Mrs. John Bradley (Florence Briggs Th...</td>\n",
       "      <td>female</td>\n",
       "      <td>38.0</td>\n",
       "      <td>1</td>\n",
       "      <td>0</td>\n",
       "      <td>PC 17599</td>\n",
       "      <td>71.2833</td>\n",
       "      <td>...</td>\n",
       "      <td>0</td>\n",
       "      <td>0</td>\n",
       "      <td>Mrs</td>\n",
       "      <td>Mrs</td>\n",
       "      <td>0</td>\n",
       "      <td>0</td>\n",
       "      <td>0</td>\n",
       "      <td>1</td>\n",
       "      <td>1</td>\n",
       "      <td>0</td>\n",
       "    </tr>\n",
       "  </tbody>\n",
       "</table>\n",
       "<p>2 rows × 27 columns</p>\n",
       "</div>"
      ],
      "text/plain": [
       "   PassengerId  Survived  Pclass  \\\n",
       "0            1         0       3   \n",
       "1            2         1       1   \n",
       "\n",
       "                                                Name     Sex   Age  SibSp  \\\n",
       "0                            Braund, Mr. Owen Harris    male  22.0      1   \n",
       "1  Cumings, Mrs. John Bradley (Florence Briggs Th...  female  38.0      1   \n",
       "\n",
       "   Parch     Ticket     Fare ...  Reverend Doctor Title_New MMMM  Master  \\\n",
       "0      0  A/5 21171   7.2500 ...         0      0        Mr   Mr       0   \n",
       "1      0   PC 17599  71.2833 ...         0      0       Mrs  Mrs       0   \n",
       "\n",
       "   Miss  Mr  Mrs  female male  \n",
       "0     0   1    0       0    1  \n",
       "1     0   0    1       1    0  \n",
       "\n",
       "[2 rows x 27 columns]"
      ]
     },
     "execution_count": 243,
     "metadata": {},
     "output_type": "execute_result"
    }
   ],
   "source": [
    "train.head(2)"
   ]
  },
  {
   "cell_type": "code",
   "execution_count": 244,
   "metadata": {},
   "outputs": [
    {
     "data": {
      "text/plain": [
       "array(['S', 'C', 'Q', nan], dtype=object)"
      ]
     },
     "execution_count": 244,
     "metadata": {},
     "output_type": "execute_result"
    }
   ],
   "source": [
    "train.Embarked.unique()"
   ]
  },
  {
   "cell_type": "code",
   "execution_count": 245,
   "metadata": {},
   "outputs": [],
   "source": [
    "train = pd.concat([train,pd.get_dummies(train.Embarked,prefix='Emb')],axis=1)   #Embarkation Point"
   ]
  },
  {
   "cell_type": "code",
   "execution_count": 246,
   "metadata": {},
   "outputs": [
    {
     "data": {
      "text/plain": [
       "Index(['PassengerId', 'Survived', 'Pclass', 'Name', 'Sex', 'Age', 'SibSp',\n",
       "       'Parch', 'Ticket', 'Fare', 'Cabin', 'Embarked', 'Title', 'Last_Name',\n",
       "       'Last_Name_Count', 'Military', 'Nobility', 'Reverend', 'Doctor',\n",
       "       'Title_New', 'MMMM', 'Master', 'Miss', 'Mr', 'Mrs', 'female', 'male',\n",
       "       'Emb_C', 'Emb_Q', 'Emb_S'],\n",
       "      dtype='object')"
      ]
     },
     "execution_count": 246,
     "metadata": {},
     "output_type": "execute_result"
    }
   ],
   "source": [
    "train.columns"
   ]
  },
  {
   "cell_type": "markdown",
   "metadata": {},
   "source": [
    "# Cabin\n",
    "TODO:\n",
    "- Create a feature for if Cabin Data is present (most of it is missing)\n",
    "- Extract First Cabin Letter from Cabin Feature\n",
    "    - Some cabins have multiple letters (suites), usually on the same level so first letter will suffice\n",
    "    - Main cabins are on A, B, C, D, E, F\n",
    "    - Rarely: T\n",
    "    - G occurs very rarely and sometimes after other letters. It is categorized separately."
   ]
  },
  {
   "cell_type": "code",
   "execution_count": 247,
   "metadata": {},
   "outputs": [
    {
     "data": {
      "text/plain": [
       "687"
      ]
     },
     "execution_count": 247,
     "metadata": {},
     "output_type": "execute_result"
    }
   ],
   "source": [
    "#Count missing data\n",
    "train.Cabin.isnull().sum()"
   ]
  },
  {
   "cell_type": "code",
   "execution_count": 248,
   "metadata": {},
   "outputs": [
    {
     "data": {
      "text/plain": [
       "array([nan, 'C85', 'C123', 'E46', 'G6', 'C103', 'D56', 'A6', 'C23 C25 C27',\n",
       "       'B78', 'D33', 'B30', 'C52', 'B28', 'C83', 'F33', 'F G73', 'E31',\n",
       "       'A5', 'D10 D12', 'D26', 'C110', 'B58 B60', 'E101', 'F E69', 'D47',\n",
       "       'B86', 'F2', 'C2', 'E33', 'B19', 'A7', 'C49', 'F4', 'A32', 'B4',\n",
       "       'B80', 'A31', 'D36', 'D15', 'C93', 'C78', 'D35', 'C87', 'B77',\n",
       "       'E67', 'B94', 'C125', 'C99', 'C118', 'D7', 'A19', 'B49', 'D',\n",
       "       'C22 C26', 'C106', 'C65', 'E36', 'C54', 'B57 B59 B63 B66', 'C7',\n",
       "       'E34', 'C32', 'B18', 'C124', 'C91', 'E40', 'T', 'C128', 'D37',\n",
       "       'B35', 'E50', 'C82', 'B96 B98', 'E10', 'E44', 'A34', 'C104', 'C111',\n",
       "       'C92', 'E38', 'D21', 'E12', 'E63', 'A14', 'B37', 'C30', 'D20',\n",
       "       'B79', 'E25', 'D46', 'B73', 'C95', 'B38', 'B39', 'B22', 'C86',\n",
       "       'C70', 'A16', 'C101', 'C68', 'A10', 'E68', 'B41', 'A20', 'D19',\n",
       "       'D50', 'D9', 'A23', 'B50', 'A26', 'D48', 'E58', 'C126', 'B71',\n",
       "       'B51 B53 B55', 'D49', 'B5', 'B20', 'F G63', 'C62 C64', 'E24', 'C90',\n",
       "       'C45', 'E8', 'B101', 'D45', 'C46', 'D30', 'E121', 'D11', 'E77',\n",
       "       'F38', 'B3', 'D6', 'B82 B84', 'D17', 'A36', 'B102', 'B69', 'E49',\n",
       "       'C47', 'D28', 'E17', 'A24', 'C50', 'B42', 'C148'], dtype=object)"
      ]
     },
     "execution_count": 248,
     "metadata": {},
     "output_type": "execute_result"
    }
   ],
   "source": [
    "#List of every cabin in the data that is shown\n",
    "train.Cabin.unique()"
   ]
  },
  {
   "cell_type": "code",
   "execution_count": 249,
   "metadata": {},
   "outputs": [],
   "source": [
    "train['Has_Cabin'] = ~train.Cabin.isnull() * 1\n",
    "\n",
    "#Extract the cabin letter into the new feature\n",
    "#If a sample has no cabin info, leave a null\n",
    "train['Cabin_Letter'] = train.Cabin\n",
    "train.loc[train[~train.Cabin_Letter.isnull()].index,'Cabin_Letter'] = \\\n",
    "train[~train.Cabin_Letter.isnull()].Cabin_Letter.apply(lambda x: re.search('[A-Z]',str(x)).group())\n",
    "\n",
    "#Cabin letter Dummies\n",
    "train = pd.concat([train,pd.get_dummies(train.Cabin_Letter)],axis=1)\n",
    "\n",
    "#G!\n",
    "train['G_Level'] = train.Cabin.str.contains('G') * 1"
   ]
  },
  {
   "cell_type": "code",
   "execution_count": 250,
   "metadata": {},
   "outputs": [
    {
     "data": {
      "text/plain": [
       "array([nan, 'C', 'E', 'G', 'D', 'A', 'B', 'F', 'T'], dtype=object)"
      ]
     },
     "execution_count": 250,
     "metadata": {},
     "output_type": "execute_result"
    }
   ],
   "source": [
    "train.Cabin_Letter.unique()"
   ]
  },
  {
   "cell_type": "code",
   "execution_count": 251,
   "metadata": {},
   "outputs": [
    {
     "data": {
      "text/plain": [
       "C    59\n",
       "B    47\n",
       "D    33\n",
       "E    32\n",
       "A    15\n",
       "F    13\n",
       "G     4\n",
       "T     1\n",
       "Name: Cabin_Letter, dtype: int64"
      ]
     },
     "execution_count": 251,
     "metadata": {},
     "output_type": "execute_result"
    }
   ],
   "source": [
    "train.Cabin_Letter.value_counts()\n",
    "#Note 4 G here = 4 cabin entries started with G"
   ]
  },
  {
   "cell_type": "code",
   "execution_count": 252,
   "metadata": {},
   "outputs": [
    {
     "data": {
      "text/plain": [
       "7"
      ]
     },
     "execution_count": 252,
     "metadata": {},
     "output_type": "execute_result"
    }
   ],
   "source": [
    "train.G_Level.sum()\n",
    "#Note 7 G here means 3 of them were embedded in cabin info"
   ]
  },
  {
   "cell_type": "markdown",
   "metadata": {},
   "source": [
    "### Class Dummies\n",
    "TODO:\n",
    "- 3 classes are given as 1, 2, 3. Will keep that.\n",
    "- Create 3 class dummies."
   ]
  },
  {
   "cell_type": "code",
   "execution_count": 253,
   "metadata": {},
   "outputs": [],
   "source": [
    "Class_Dummies = pd.get_dummies(train.Pclass,prefix='Class',prefix_sep='_')\n",
    "train = pd.concat([train,Class_Dummies],axis=1)"
   ]
  },
  {
   "cell_type": "code",
   "execution_count": 254,
   "metadata": {},
   "outputs": [
    {
     "data": {
      "text/html": [
       "<div>\n",
       "<style scoped>\n",
       "    .dataframe tbody tr th:only-of-type {\n",
       "        vertical-align: middle;\n",
       "    }\n",
       "\n",
       "    .dataframe tbody tr th {\n",
       "        vertical-align: top;\n",
       "    }\n",
       "\n",
       "    .dataframe thead th {\n",
       "        text-align: right;\n",
       "    }\n",
       "</style>\n",
       "<table border=\"1\" class=\"dataframe\">\n",
       "  <thead>\n",
       "    <tr style=\"text-align: right;\">\n",
       "      <th></th>\n",
       "      <th>PassengerId</th>\n",
       "      <th>Survived</th>\n",
       "      <th>Pclass</th>\n",
       "      <th>Name</th>\n",
       "      <th>Sex</th>\n",
       "      <th>Age</th>\n",
       "      <th>SibSp</th>\n",
       "      <th>Parch</th>\n",
       "      <th>Ticket</th>\n",
       "      <th>Fare</th>\n",
       "      <th>...</th>\n",
       "      <th>C</th>\n",
       "      <th>D</th>\n",
       "      <th>E</th>\n",
       "      <th>F</th>\n",
       "      <th>G</th>\n",
       "      <th>T</th>\n",
       "      <th>G_Level</th>\n",
       "      <th>Class_1</th>\n",
       "      <th>Class_2</th>\n",
       "      <th>Class_3</th>\n",
       "    </tr>\n",
       "  </thead>\n",
       "  <tbody>\n",
       "    <tr>\n",
       "      <th>0</th>\n",
       "      <td>1</td>\n",
       "      <td>0</td>\n",
       "      <td>3</td>\n",
       "      <td>Braund, Mr. Owen Harris</td>\n",
       "      <td>male</td>\n",
       "      <td>22.0</td>\n",
       "      <td>1</td>\n",
       "      <td>0</td>\n",
       "      <td>A/5 21171</td>\n",
       "      <td>7.2500</td>\n",
       "      <td>...</td>\n",
       "      <td>0</td>\n",
       "      <td>0</td>\n",
       "      <td>0</td>\n",
       "      <td>0</td>\n",
       "      <td>0</td>\n",
       "      <td>0</td>\n",
       "      <td>NaN</td>\n",
       "      <td>0</td>\n",
       "      <td>0</td>\n",
       "      <td>1</td>\n",
       "    </tr>\n",
       "    <tr>\n",
       "      <th>1</th>\n",
       "      <td>2</td>\n",
       "      <td>1</td>\n",
       "      <td>1</td>\n",
       "      <td>Cumings, Mrs. John Bradley (Florence Briggs Th...</td>\n",
       "      <td>female</td>\n",
       "      <td>38.0</td>\n",
       "      <td>1</td>\n",
       "      <td>0</td>\n",
       "      <td>PC 17599</td>\n",
       "      <td>71.2833</td>\n",
       "      <td>...</td>\n",
       "      <td>1</td>\n",
       "      <td>0</td>\n",
       "      <td>0</td>\n",
       "      <td>0</td>\n",
       "      <td>0</td>\n",
       "      <td>0</td>\n",
       "      <td>0</td>\n",
       "      <td>1</td>\n",
       "      <td>0</td>\n",
       "      <td>0</td>\n",
       "    </tr>\n",
       "    <tr>\n",
       "      <th>2</th>\n",
       "      <td>3</td>\n",
       "      <td>1</td>\n",
       "      <td>3</td>\n",
       "      <td>Heikkinen, Miss. Laina</td>\n",
       "      <td>female</td>\n",
       "      <td>26.0</td>\n",
       "      <td>0</td>\n",
       "      <td>0</td>\n",
       "      <td>STON/O2. 3101282</td>\n",
       "      <td>7.9250</td>\n",
       "      <td>...</td>\n",
       "      <td>0</td>\n",
       "      <td>0</td>\n",
       "      <td>0</td>\n",
       "      <td>0</td>\n",
       "      <td>0</td>\n",
       "      <td>0</td>\n",
       "      <td>NaN</td>\n",
       "      <td>0</td>\n",
       "      <td>0</td>\n",
       "      <td>1</td>\n",
       "    </tr>\n",
       "    <tr>\n",
       "      <th>3</th>\n",
       "      <td>4</td>\n",
       "      <td>1</td>\n",
       "      <td>1</td>\n",
       "      <td>Futrelle, Mrs. Jacques Heath (Lily May Peel)</td>\n",
       "      <td>female</td>\n",
       "      <td>35.0</td>\n",
       "      <td>1</td>\n",
       "      <td>0</td>\n",
       "      <td>113803</td>\n",
       "      <td>53.1000</td>\n",
       "      <td>...</td>\n",
       "      <td>1</td>\n",
       "      <td>0</td>\n",
       "      <td>0</td>\n",
       "      <td>0</td>\n",
       "      <td>0</td>\n",
       "      <td>0</td>\n",
       "      <td>0</td>\n",
       "      <td>1</td>\n",
       "      <td>0</td>\n",
       "      <td>0</td>\n",
       "    </tr>\n",
       "    <tr>\n",
       "      <th>4</th>\n",
       "      <td>5</td>\n",
       "      <td>0</td>\n",
       "      <td>3</td>\n",
       "      <td>Allen, Mr. William Henry</td>\n",
       "      <td>male</td>\n",
       "      <td>35.0</td>\n",
       "      <td>0</td>\n",
       "      <td>0</td>\n",
       "      <td>373450</td>\n",
       "      <td>8.0500</td>\n",
       "      <td>...</td>\n",
       "      <td>0</td>\n",
       "      <td>0</td>\n",
       "      <td>0</td>\n",
       "      <td>0</td>\n",
       "      <td>0</td>\n",
       "      <td>0</td>\n",
       "      <td>NaN</td>\n",
       "      <td>0</td>\n",
       "      <td>0</td>\n",
       "      <td>1</td>\n",
       "    </tr>\n",
       "  </tbody>\n",
       "</table>\n",
       "<p>5 rows × 44 columns</p>\n",
       "</div>"
      ],
      "text/plain": [
       "   PassengerId  Survived  Pclass  \\\n",
       "0            1         0       3   \n",
       "1            2         1       1   \n",
       "2            3         1       3   \n",
       "3            4         1       1   \n",
       "4            5         0       3   \n",
       "\n",
       "                                                Name     Sex   Age  SibSp  \\\n",
       "0                            Braund, Mr. Owen Harris    male  22.0      1   \n",
       "1  Cumings, Mrs. John Bradley (Florence Briggs Th...  female  38.0      1   \n",
       "2                             Heikkinen, Miss. Laina  female  26.0      0   \n",
       "3       Futrelle, Mrs. Jacques Heath (Lily May Peel)  female  35.0      1   \n",
       "4                           Allen, Mr. William Henry    male  35.0      0   \n",
       "\n",
       "   Parch            Ticket     Fare   ...    C  D  E  F  G  T  G_Level  \\\n",
       "0      0         A/5 21171   7.2500   ...    0  0  0  0  0  0      NaN   \n",
       "1      0          PC 17599  71.2833   ...    1  0  0  0  0  0        0   \n",
       "2      0  STON/O2. 3101282   7.9250   ...    0  0  0  0  0  0      NaN   \n",
       "3      0            113803  53.1000   ...    1  0  0  0  0  0        0   \n",
       "4      0            373450   8.0500   ...    0  0  0  0  0  0      NaN   \n",
       "\n",
       "   Class_1  Class_2 Class_3  \n",
       "0        0        0       1  \n",
       "1        1        0       0  \n",
       "2        0        0       1  \n",
       "3        1        0       0  \n",
       "4        0        0       1  \n",
       "\n",
       "[5 rows x 44 columns]"
      ]
     },
     "execution_count": 254,
     "metadata": {},
     "output_type": "execute_result"
    }
   ],
   "source": [
    "train.head()"
   ]
  },
  {
   "cell_type": "code",
   "execution_count": 255,
   "metadata": {},
   "outputs": [
    {
     "data": {
      "text/plain": [
       "Index(['PassengerId', 'Survived', 'Pclass', 'Name', 'Sex', 'Age', 'SibSp',\n",
       "       'Parch', 'Ticket', 'Fare', 'Cabin', 'Embarked', 'Title', 'Last_Name',\n",
       "       'Last_Name_Count', 'Military', 'Nobility', 'Reverend', 'Doctor',\n",
       "       'Title_New', 'MMMM', 'Master', 'Miss', 'Mr', 'Mrs', 'female', 'male',\n",
       "       'Emb_C', 'Emb_Q', 'Emb_S', 'Has_Cabin', 'Cabin_Letter', 'A', 'B', 'C',\n",
       "       'D', 'E', 'F', 'G', 'T', 'G_Level', 'Class_1', 'Class_2', 'Class_3'],\n",
       "      dtype='object')"
      ]
     },
     "execution_count": 255,
     "metadata": {},
     "output_type": "execute_result"
    }
   ],
   "source": [
    "train.columns"
   ]
  },
  {
   "cell_type": "markdown",
   "metadata": {},
   "source": [
    "# Age Features\n",
    "TODO:\n",
    "- Examine Age spreads\n",
    "- Apply 3 std dev outlier identification\n",
    "- Treat Outliers by resetting them as the maximum age before outliers"
   ]
  },
  {
   "cell_type": "code",
   "execution_count": 256,
   "metadata": {},
   "outputs": [],
   "source": [
    "#No_Out means no outlier. Start with the base age feature.\n",
    "train['Age_No_Out']=train.Age"
   ]
  },
  {
   "cell_type": "code",
   "execution_count": 257,
   "metadata": {},
   "outputs": [
    {
     "data": {
      "text/plain": [
       "<matplotlib.axes._subplots.AxesSubplot at 0x24a7da201d0>"
      ]
     },
     "execution_count": 257,
     "metadata": {},
     "output_type": "execute_result"
    },
    {
     "data": {
      "image/png": "[encoded data removed]",
      "text/plain": [
       "<matplotlib.figure.Figure at 0x24a7da43320>"
      ]
     },
     "metadata": {},
     "output_type": "display_data"
    }
   ],
   "source": [
    "#examine age distribution\n",
    "train.Age_No_Out.hist(bins=30)"
   ]
  },
  {
   "cell_type": "markdown",
   "metadata": {},
   "source": [
    "- There is a clear bump for young people\n",
    "- Long tail out to 80 or so\n",
    "- May want to treat those separately if I can."
   ]
  },
  {
   "cell_type": "code",
   "execution_count": 258,
   "metadata": {
    "scrolled": true
   },
   "outputs": [
    {
     "data": {
      "text/plain": [
       "<matplotlib.axes._subplots.AxesSubplot at 0x24a7da67780>"
      ]
     },
     "execution_count": 258,
     "metadata": {},
     "output_type": "execute_result"
    },
    {
     "data": {
      "image/png": "[encoded data removed]",
      "text/plain": [
       "<matplotlib.figure.Figure at 0x24a7dab7908>"
      ]
     },
     "metadata": {},
     "output_type": "display_data"
    }
   ],
   "source": [
    "#Take a look without the young people\n",
    "sns.distplot(train.Age_No_Out[train.Age_No_Out >= 12 ],kde=True,bins=30)"
   ]
  },
  {
   "cell_type": "code",
   "execution_count": 259,
   "metadata": {},
   "outputs": [
    {
     "data": {
      "text/plain": [
       "count    646.000000\n",
       "mean      32.334365\n",
       "std       12.613717\n",
       "min       12.000000\n",
       "25%       22.000000\n",
       "50%       30.000000\n",
       "75%       40.000000\n",
       "max       80.000000\n",
       "Name: Age_No_Out, dtype: float64"
      ]
     },
     "execution_count": 259,
     "metadata": {},
     "output_type": "execute_result"
    }
   ],
   "source": [
    "train_stats = train.Age_No_Out[train.Age_No_Out >= 12 ].dropna().describe()\n",
    "train_stats"
   ]
  },
  {
   "cell_type": "code",
   "execution_count": 260,
   "metadata": {},
   "outputs": [
    {
     "name": "stdout",
     "output_type": "stream",
     "text": [
      "69.8\n",
      "-5.799999999999997\n",
      "7\n"
     ]
    }
   ],
   "source": [
    "#3 std dev outlier range...\n",
    "#This is a back of the envelope calculation\n",
    "print(32 + 3 * 12.6)\n",
    "print(32 - 3 * 12.6)\n",
    "print(train.Age_No_Out[train.Age_No_Out > 67.8].count())"
   ]
  },
  {
   "cell_type": "code",
   "execution_count": 261,
   "metadata": {},
   "outputs": [
    {
     "name": "stdout",
     "output_type": "stream",
     "text": [
      "59.0\n",
      "5.0\n",
      "33\n"
     ]
    }
   ],
   "source": [
    "#Calculate what the outliers should be reduced to\n",
    "#1.5 x IQR\n",
    "#Also back of the envelope\n",
    "print(32 + 1.5 * 18)\n",
    "print(32 - 1.5 * 18)\n",
    "print(train.Age_No_Out[train.Age_No_Out > 57].count())"
   ]
  },
  {
   "cell_type": "markdown",
   "metadata": {},
   "source": [
    "- Create a new column in train called Age_No_Out\n",
    "- It will remove the outliers and bring to the max of the 3 sigma range\n",
    "- This will change the stats a bit. Keep that in mind for later."
   ]
  },
  {
   "cell_type": "code",
   "execution_count": 262,
   "metadata": {},
   "outputs": [],
   "source": [
    "#Use a copy so I don't mess up the original\n",
    "#Temp_df is the column of Fares from the training set\n",
    "def std_dev_outlier_remover(df,column):\n",
    "    \"\"\"Input: data frame, column name of feature to handle\n",
    "    Output: The column with update values to set as a dataframe column\"\"\"\n",
    "    Temp_df = pd.DataFrame(train[[column]].copy()) \n",
    "\n",
    "    #Calculate the outlier band:\n",
    "    train_stats = Temp_df.dropna().describe()\n",
    "    avg = train_stats.loc['mean']\n",
    "    sig3 = 3 * train_stats.loc['std']\n",
    "    max_band = avg + sig3\n",
    "    min_band = avg - sig3\n",
    "\n",
    "    #The dataset \n",
    "    #For each element (i) in the list of fares (Temp_df)....\n",
    "    for i in range(0,len(Temp_df)):\n",
    "\n",
    "\n",
    "        #Create a small 2 element array (min_max) that returns (T,F) if the elemnt is > max allowed\n",
    "        # (F,T) if it is < min allowed\n",
    "        # (F,F) if the element is not an outlier\n",
    "        # (T,T) is impossible\n",
    "        min_max = np.array([(Temp_df.iloc[i].values > max_band),(Temp_df.iloc[i].values < min_band)])\n",
    "\n",
    "        #Create a small 2 element array that returns...\n",
    "        #(a,b), a is True if element i is not null, False if it is null\n",
    "        #b is True if min_max contains any True\n",
    "        k = np.array([(~Temp_df.isnull().iloc[i].values), (min_max.any())])\n",
    "\n",
    "        #If the element i from temp_df is an outlier and not null\n",
    "        #ie. k.all() = True\n",
    "        #Then set the outlier value to the band itself\n",
    "        #NB: the outliers only exist outside the max_band (cannot have negative fares)\n",
    "        #so only the max_band is treated.\n",
    "        if k.all():\n",
    "            Temp_df.iloc[i] = max_band\n",
    "\n",
    "    #Create a new feature for Fares w/ no Outliers\n",
    "    return Temp_df\n",
    "    \n",
    "#train['Age_No_Out'] = Temp_df\n",
    "    "
   ]
  },
  {
   "cell_type": "code",
   "execution_count": 263,
   "metadata": {},
   "outputs": [],
   "source": [
    "train['Age_No_Out'] = std_dev_outlier_remover(train,'Age')"
   ]
  },
  {
   "cell_type": "markdown",
   "metadata": {},
   "source": [
    "TODO:\n",
    "- Take a look at Age stats and nulls\n",
    "- Add imputed age columns for later comparison (if desired)"
   ]
  },
  {
   "cell_type": "code",
   "execution_count": 264,
   "metadata": {},
   "outputs": [
    {
     "name": "stdout",
     "output_type": "stream",
     "text": [
      "No-Outlier Age w/ Nulls: \n",
      " count    714.000000\n",
      "mean      29.688694\n",
      "std       14.492933\n",
      "min        0.420000\n",
      "25%       20.125000\n",
      "50%       28.000000\n",
      "75%       38.000000\n",
      "max       73.278610\n",
      "Name: Age_No_Out, dtype: float64\n",
      "Nulls:  177\n"
     ]
    }
   ],
   "source": [
    "AIStats = train.Age_No_Out.describe()\n",
    "AINull = train.Age_No_Out.isnull().sum()\n",
    "print(\"No-Outlier Age w/ Nulls: \\n\", AIStats)  #mean has dropped a bit ~2-3 yrs compared with above. Expected.\n",
    "print(\"Nulls: \", AINull)   #Nulls are still there. Need to imput them."
   ]
  },
  {
   "cell_type": "markdown",
   "metadata": {},
   "source": [
    "**AGE IMPUTATION 1: Replace Nulls w/ Mean of Feature**"
   ]
  },
  {
   "cell_type": "code",
   "execution_count": 265,
   "metadata": {},
   "outputs": [],
   "source": [
    "train['Age_Imp_Mean'] = train.Age_No_Out.fillna(AIStats.loc['mean'])"
   ]
  },
  {
   "cell_type": "code",
   "execution_count": 266,
   "metadata": {},
   "outputs": [
    {
     "name": "stdout",
     "output_type": "stream",
     "text": [
      "No-Outlier Age w/ Mean Imputation\n",
      "Nulls: 0\n",
      "count    891.000000\n",
      "mean      29.688694\n",
      "std       12.971973\n",
      "min        0.420000\n",
      "25%       22.000000\n",
      "50%       29.688694\n",
      "75%       35.000000\n",
      "max       73.278610\n",
      "Name: Age_Imp_Mean, dtype: float64\n"
     ]
    }
   ],
   "source": [
    "#works...\n",
    "print(\"No-Outlier Age w/ Mean Imputation\")\n",
    "print(\"Nulls:\",train.Age_Imp_Mean.isnull().sum())\n",
    "print(train.Age_Imp_Mean.describe())"
   ]
  },
  {
   "cell_type": "markdown",
   "metadata": {},
   "source": [
    "**AGE IMPUTATION 2: Replace Nulls w/ Median of Feature**"
   ]
  },
  {
   "cell_type": "code",
   "execution_count": 267,
   "metadata": {},
   "outputs": [
    {
     "name": "stdout",
     "output_type": "stream",
     "text": [
      "No-Outlier Age w/ Median Imputation\n",
      "Nulls: 0\n",
      "count    891.000000\n",
      "mean      29.353229\n",
      "std       12.989479\n",
      "min        0.420000\n",
      "25%       22.000000\n",
      "50%       28.000000\n",
      "75%       35.000000\n",
      "max       73.278610\n",
      "Name: Age_Imp_Median, dtype: float64\n"
     ]
    }
   ],
   "source": [
    "train['Age_Imp_Median'] = train.Age_No_Out.fillna(AIStats.loc['50%'])\n",
    "print(\"No-Outlier Age w/ Median Imputation\")\n",
    "print(\"Nulls:\", train.Age_Imp_Median.isnull().sum())\n",
    "print(train.Age_Imp_Median.describe())\n",
    "\n",
    "#Values change, only a little bit."
   ]
  },
  {
   "cell_type": "markdown",
   "metadata": {},
   "source": [
    "**Age Imputation bucket list: create a model for age imputation (someday)** "
   ]
  },
  {
   "cell_type": "markdown",
   "metadata": {},
   "source": [
    "TODO: \n",
    "    - Hierarchical Categorical Age Feature\n",
    "    - Categories are selected that seem reasonable at a glance, can be readdressed later.\n",
    "    - 8 categories, numbered 0 to 7 representing:\n",
    "    - [0 to 5], [5.01 to 10.5], [10.51 to 15.5], [15.51 to 25.5] ... [55.51 to 100]"
   ]
  },
  {
   "cell_type": "code",
   "execution_count": 268,
   "metadata": {},
   "outputs": [],
   "source": [
    "#AGE CATEGORIES\n",
    "bins = [0,5.01,10.51,15.51,25.51,35.51,45.51,55.51,100]\n",
    "cat_names = [0,1,2,3,4,5,6,7]\n",
    "train['Age_Cat_1']=pd.cut(train.Age_No_Out,bins,labels=cat_names)  #deals with NAN by keeping them\n"
   ]
  },
  {
   "cell_type": "code",
   "execution_count": 269,
   "metadata": {},
   "outputs": [
    {
     "data": {
      "image/png": "[encoded data removed]",
      "text/plain": [
       "<matplotlib.figure.Figure at 0x24a7daf7198>"
      ]
     },
     "metadata": {},
     "output_type": "display_data"
    }
   ],
   "source": [
    "train.Age_Cat_1.hist(bins=30)\n",
    "plt.xlabel('Age Category')\n",
    "plt.ylabel('# of Passengers')\n",
    "plt.show()"
   ]
  },
  {
   "cell_type": "markdown",
   "metadata": {
    "collapsed": true
   },
   "source": [
    "# Fare Features"
   ]
  },
  {
   "cell_type": "markdown",
   "metadata": {},
   "source": [
    "The goal here is to create some fare features to explore during modelling."
   ]
  },
  {
   "cell_type": "markdown",
   "metadata": {
    "collapsed": true
   },
   "source": [
    "TODO: \n",
    "- Get some basic fare statitstics"
   ]
  },
  {
   "cell_type": "code",
   "execution_count": 270,
   "metadata": {},
   "outputs": [
    {
     "name": "stdout",
     "output_type": "stream",
     "text": [
      "Nulls:  0\n",
      "count    891.000000\n",
      "mean      32.204208\n",
      "std       49.693429\n",
      "min        0.000000\n",
      "25%        7.910400\n",
      "50%       14.454200\n",
      "75%       31.000000\n",
      "max      512.329200\n",
      "Name: Fare, dtype: float64\n"
     ]
    }
   ],
   "source": [
    "FareStats = train.Fare.describe()\n",
    "\n",
    "print(\"Nulls: \", train.Fare.isnull().sum())\n",
    "print(FareStats)"
   ]
  },
  {
   "cell_type": "code",
   "execution_count": 271,
   "metadata": {},
   "outputs": [
    {
     "name": "stdout",
     "output_type": "stream",
     "text": [
      "3 stdev upper limit:  181.26999999999998\n",
      "Fares above 3 std dev:  20\n",
      "1.5xIQR upper limit:  66.83500000000001\n",
      "Fares above 1.5xIQR:  42\n"
     ]
    }
   ],
   "source": [
    "#Back of the envelope outlier calculations\n",
    "#3stdev\n",
    "print(\"3 stdev upper limit: \", 32.2 + 3 * 49.69)\n",
    "#print(\"lower limit:\", 32.2 - 3 * 49.69)\n",
    "print(\"Fares above 3 std dev: \", train.Fare[train.Fare > 181.27].count())\n",
    "\n",
    "#1.5 x IQR\n",
    "print(\"1.5xIQR upper limit: \", 32.2 + 1.5 * (31 - 7.91))\n",
    "#print(\"lower limit:\",32.2 - 1.5 * (31 - 7.91))\n",
    "print(\"Fares above 1.5xIQR: \", train.Fare[train.Fare > 114].count())"
   ]
  },
  {
   "cell_type": "code",
   "execution_count": 272,
   "metadata": {},
   "outputs": [
    {
     "data": {
      "text/plain": [
       "Text(0,0.5,'Passengers in Bin')"
      ]
     },
     "execution_count": 272,
     "metadata": {},
     "output_type": "execute_result"
    },
    {
     "data": {
      "image/png": "[encoded data removed]",
      "text/plain": [
       "<matplotlib.figure.Figure at 0x24a7db5df98>"
      ]
     },
     "metadata": {},
     "output_type": "display_data"
    }
   ],
   "source": [
    "train.Fare.hist(bins=40)\n",
    "plt.xlabel('Fare Cost (40 bins)')\n",
    "plt.ylabel('Passengers in Bin')\n",
    "#Way skewed!"
   ]
  },
  {
   "cell_type": "markdown",
   "metadata": {},
   "source": [
    "TODO:\n",
    "- Fare Outlier Treatment\n",
    "    - 3 std dev limit\n",
    "    - fares in excess will be brought to upper limit"
   ]
  },
  {
   "cell_type": "code",
   "execution_count": 273,
   "metadata": {},
   "outputs": [
    {
     "name": "stdout",
     "output_type": "stream",
     "text": [
      "181.26999999999998\n",
      "20\n"
     ]
    }
   ],
   "source": [
    "#3sig\n",
    "print(32.2 + 3 * 49.69)\n",
    "print(train.Fare[train.Fare > 181.27].count())"
   ]
  },
  {
   "cell_type": "code",
   "execution_count": 274,
   "metadata": {},
   "outputs": [],
   "source": [
    "train['Fare_No_Out'] = std_dev_outlier_remover(train,'Fare')"
   ]
  },
  {
   "cell_type": "code",
   "execution_count": 275,
   "metadata": {},
   "outputs": [
    {
     "data": {
      "text/plain": [
       "count    891.000000\n",
       "mean      30.003893\n",
       "std       36.989591\n",
       "min        0.000000\n",
       "25%        7.910400\n",
       "50%       14.454200\n",
       "75%       31.000000\n",
       "max      181.284494\n",
       "Name: Fare_No_Out, dtype: float64"
      ]
     },
     "execution_count": 275,
     "metadata": {},
     "output_type": "execute_result"
    }
   ],
   "source": [
    "train.Fare_No_Out.describe()"
   ]
  },
  {
   "cell_type": "code",
   "execution_count": 276,
   "metadata": {},
   "outputs": [
    {
     "data": {
      "text/plain": [
       "Text(0,0.5,'Passengers in Bin')"
      ]
     },
     "execution_count": 276,
     "metadata": {},
     "output_type": "execute_result"
    },
    {
     "data": {
      "image/png": "[encoded data removed]",
      "text/plain": [
       "<matplotlib.figure.Figure at 0x24a7dce4be0>"
      ]
     },
     "metadata": {},
     "output_type": "display_data"
    }
   ],
   "source": [
    "train.Fare_No_Out.hist(bins=40)\n",
    "plt.xlabel('Fare Cost (40 bins), No Outliers')\n",
    "plt.ylabel('Passengers in Bin')\n",
    "#Looks quite a bit different from original\n",
    "#Still quite skewed, there may be more to do here."
   ]
  },
  {
   "cell_type": "markdown",
   "metadata": {},
   "source": [
    "TODO:\n",
    "- Add a second consecutive Outlier Treatment\n",
    "- Same method\n",
    "- Stored as an additional feature for later exploration"
   ]
  },
  {
   "cell_type": "code",
   "execution_count": 277,
   "metadata": {},
   "outputs": [],
   "source": [
    "train['Fare_No_Out_2'] = std_dev_outlier_remover(train,'Fare_No_Out')"
   ]
  },
  {
   "cell_type": "code",
   "execution_count": 278,
   "metadata": {},
   "outputs": [
    {
     "data": {
      "text/plain": [
       "count    891.000000\n",
       "mean      28.943399\n",
       "std       33.054160\n",
       "min        0.000000\n",
       "25%        7.910400\n",
       "50%       14.454200\n",
       "75%       31.000000\n",
       "max      140.972666\n",
       "Name: Fare_No_Out_2, dtype: float64"
      ]
     },
     "execution_count": 278,
     "metadata": {},
     "output_type": "execute_result"
    }
   ],
   "source": [
    "train.Fare_No_Out_2.describe()"
   ]
  },
  {
   "cell_type": "code",
   "execution_count": 279,
   "metadata": {},
   "outputs": [
    {
     "data": {
      "text/plain": [
       "Text(0,0.5,'Passengers in Bin')"
      ]
     },
     "execution_count": 279,
     "metadata": {},
     "output_type": "execute_result"
    },
    {
     "data": {
      "image/png": "[encoded data removed]",
      "text/plain": [
       "<matplotlib.figure.Figure at 0x24a7dda0b38>"
      ]
     },
     "metadata": {},
     "output_type": "display_data"
    }
   ],
   "source": [
    "train.Fare_No_Out_2.hist(bins=40)\n",
    "plt.xlabel('Fare Cost (40 bins), No Outliers, 2 Treatments')\n",
    "plt.ylabel('Passengers in Bin')\n",
    "#Curious about the impact of having that growing stack at ~140\n",
    "#Skew is still pretty bad.\n",
    "#Time to log."
   ]
  },
  {
   "cell_type": "markdown",
   "metadata": {},
   "source": [
    "**Bucket-List: Categorize the fares (maybe someday)**"
   ]
  },
  {
   "cell_type": "markdown",
   "metadata": {},
   "source": [
    "**FARE LOGARITHMS**\n",
    "\n",
    "TODO\n",
    "- Create Log Fare Features\n",
    "- It should help with that skew problem"
   ]
  },
  {
   "cell_type": "markdown",
   "metadata": {},
   "source": [
    "**...turns out, there are a number of fare = 0, nuking the logarithm**\n",
    "\n",
    "TODO:\n",
    "- Add 1 to all the Fares\n",
    "- Also note that this is calculated from the Fares prior to their outlier treatment"
   ]
  },
  {
   "cell_type": "code",
   "execution_count": 280,
   "metadata": {},
   "outputs": [],
   "source": [
    "dft = pd.DataFrame(np.log(train.Fare+1))"
   ]
  },
  {
   "cell_type": "code",
   "execution_count": 281,
   "metadata": {},
   "outputs": [
    {
     "data": {
      "text/plain": [
       "Fare    0.0\n",
       "dtype: float64"
      ]
     },
     "execution_count": 281,
     "metadata": {},
     "output_type": "execute_result"
    }
   ],
   "source": [
    "dft.min()"
   ]
  },
  {
   "cell_type": "code",
   "execution_count": 282,
   "metadata": {},
   "outputs": [
    {
     "data": {
      "text/plain": [
       "Fare    0\n",
       "dtype: int64"
      ]
     },
     "execution_count": 282,
     "metadata": {},
     "output_type": "execute_result"
    }
   ],
   "source": [
    "dft.isnull().sum()"
   ]
  },
  {
   "cell_type": "code",
   "execution_count": 283,
   "metadata": {},
   "outputs": [
    {
     "data": {
      "image/png": "[encoded data removed]",
      "text/plain": [
       "<matplotlib.figure.Figure at 0x24a7dda0ac8>"
      ]
     },
     "metadata": {},
     "output_type": "display_data"
    }
   ],
   "source": [
    "dft.hist(bins=30)\n",
    "plt.title('Log of Fares')\n",
    "plt.xlabel('Log(Fare), 20  bins')\n",
    "plt.ylabel('Passenger Count')\n",
    "plt.show()"
   ]
  },
  {
   "cell_type": "code",
   "execution_count": 284,
   "metadata": {
    "scrolled": true
   },
   "outputs": [
    {
     "data": {
      "text/html": [
       "<div>\n",
       "<style scoped>\n",
       "    .dataframe tbody tr th:only-of-type {\n",
       "        vertical-align: middle;\n",
       "    }\n",
       "\n",
       "    .dataframe tbody tr th {\n",
       "        vertical-align: top;\n",
       "    }\n",
       "\n",
       "    .dataframe thead th {\n",
       "        text-align: right;\n",
       "    }\n",
       "</style>\n",
       "<table border=\"1\" class=\"dataframe\">\n",
       "  <thead>\n",
       "    <tr style=\"text-align: right;\">\n",
       "      <th></th>\n",
       "      <th>PassengerId</th>\n",
       "      <th>Survived</th>\n",
       "      <th>Pclass</th>\n",
       "      <th>Name</th>\n",
       "      <th>Sex</th>\n",
       "      <th>Age</th>\n",
       "      <th>SibSp</th>\n",
       "      <th>Parch</th>\n",
       "      <th>Ticket</th>\n",
       "      <th>Fare</th>\n",
       "      <th>...</th>\n",
       "      <th>G_Level</th>\n",
       "      <th>Class_1</th>\n",
       "      <th>Class_2</th>\n",
       "      <th>Class_3</th>\n",
       "      <th>Age_No_Out</th>\n",
       "      <th>Age_Imp_Mean</th>\n",
       "      <th>Age_Imp_Median</th>\n",
       "      <th>Age_Cat_1</th>\n",
       "      <th>Fare_No_Out</th>\n",
       "      <th>Fare_No_Out_2</th>\n",
       "    </tr>\n",
       "  </thead>\n",
       "  <tbody>\n",
       "    <tr>\n",
       "      <th>179</th>\n",
       "      <td>180</td>\n",
       "      <td>0</td>\n",
       "      <td>3</td>\n",
       "      <td>Leonard, Mr. Lionel</td>\n",
       "      <td>male</td>\n",
       "      <td>36.0</td>\n",
       "      <td>0</td>\n",
       "      <td>0</td>\n",
       "      <td>LINE</td>\n",
       "      <td>0.0</td>\n",
       "      <td>...</td>\n",
       "      <td>NaN</td>\n",
       "      <td>0</td>\n",
       "      <td>0</td>\n",
       "      <td>1</td>\n",
       "      <td>36.0</td>\n",
       "      <td>36.000000</td>\n",
       "      <td>36.0</td>\n",
       "      <td>5.0</td>\n",
       "      <td>0.0</td>\n",
       "      <td>0.0</td>\n",
       "    </tr>\n",
       "    <tr>\n",
       "      <th>263</th>\n",
       "      <td>264</td>\n",
       "      <td>0</td>\n",
       "      <td>1</td>\n",
       "      <td>Harrison, Mr. William</td>\n",
       "      <td>male</td>\n",
       "      <td>40.0</td>\n",
       "      <td>0</td>\n",
       "      <td>0</td>\n",
       "      <td>112059</td>\n",
       "      <td>0.0</td>\n",
       "      <td>...</td>\n",
       "      <td>0</td>\n",
       "      <td>1</td>\n",
       "      <td>0</td>\n",
       "      <td>0</td>\n",
       "      <td>40.0</td>\n",
       "      <td>40.000000</td>\n",
       "      <td>40.0</td>\n",
       "      <td>5.0</td>\n",
       "      <td>0.0</td>\n",
       "      <td>0.0</td>\n",
       "    </tr>\n",
       "    <tr>\n",
       "      <th>271</th>\n",
       "      <td>272</td>\n",
       "      <td>1</td>\n",
       "      <td>3</td>\n",
       "      <td>Tornquist, Mr. William Henry</td>\n",
       "      <td>male</td>\n",
       "      <td>25.0</td>\n",
       "      <td>0</td>\n",
       "      <td>0</td>\n",
       "      <td>LINE</td>\n",
       "      <td>0.0</td>\n",
       "      <td>...</td>\n",
       "      <td>NaN</td>\n",
       "      <td>0</td>\n",
       "      <td>0</td>\n",
       "      <td>1</td>\n",
       "      <td>25.0</td>\n",
       "      <td>25.000000</td>\n",
       "      <td>25.0</td>\n",
       "      <td>3.0</td>\n",
       "      <td>0.0</td>\n",
       "      <td>0.0</td>\n",
       "    </tr>\n",
       "    <tr>\n",
       "      <th>277</th>\n",
       "      <td>278</td>\n",
       "      <td>0</td>\n",
       "      <td>2</td>\n",
       "      <td>Parkes, Mr. Francis \"Frank\"</td>\n",
       "      <td>male</td>\n",
       "      <td>NaN</td>\n",
       "      <td>0</td>\n",
       "      <td>0</td>\n",
       "      <td>239853</td>\n",
       "      <td>0.0</td>\n",
       "      <td>...</td>\n",
       "      <td>NaN</td>\n",
       "      <td>0</td>\n",
       "      <td>1</td>\n",
       "      <td>0</td>\n",
       "      <td>NaN</td>\n",
       "      <td>29.688694</td>\n",
       "      <td>28.0</td>\n",
       "      <td>NaN</td>\n",
       "      <td>0.0</td>\n",
       "      <td>0.0</td>\n",
       "    </tr>\n",
       "    <tr>\n",
       "      <th>302</th>\n",
       "      <td>303</td>\n",
       "      <td>0</td>\n",
       "      <td>3</td>\n",
       "      <td>Johnson, Mr. William Cahoone Jr</td>\n",
       "      <td>male</td>\n",
       "      <td>19.0</td>\n",
       "      <td>0</td>\n",
       "      <td>0</td>\n",
       "      <td>LINE</td>\n",
       "      <td>0.0</td>\n",
       "      <td>...</td>\n",
       "      <td>NaN</td>\n",
       "      <td>0</td>\n",
       "      <td>0</td>\n",
       "      <td>1</td>\n",
       "      <td>19.0</td>\n",
       "      <td>19.000000</td>\n",
       "      <td>19.0</td>\n",
       "      <td>3.0</td>\n",
       "      <td>0.0</td>\n",
       "      <td>0.0</td>\n",
       "    </tr>\n",
       "  </tbody>\n",
       "</table>\n",
       "<p>5 rows × 50 columns</p>\n",
       "</div>"
      ],
      "text/plain": [
       "     PassengerId  Survived  Pclass                             Name   Sex  \\\n",
       "179          180         0       3              Leonard, Mr. Lionel  male   \n",
       "263          264         0       1            Harrison, Mr. William  male   \n",
       "271          272         1       3     Tornquist, Mr. William Henry  male   \n",
       "277          278         0       2      Parkes, Mr. Francis \"Frank\"  male   \n",
       "302          303         0       3  Johnson, Mr. William Cahoone Jr  male   \n",
       "\n",
       "      Age  SibSp  Parch  Ticket  Fare      ...      G_Level Class_1 Class_2  \\\n",
       "179  36.0      0      0    LINE   0.0      ...          NaN       0       0   \n",
       "263  40.0      0      0  112059   0.0      ...            0       1       0   \n",
       "271  25.0      0      0    LINE   0.0      ...          NaN       0       0   \n",
       "277   NaN      0      0  239853   0.0      ...          NaN       0       1   \n",
       "302  19.0      0      0    LINE   0.0      ...          NaN       0       0   \n",
       "\n",
       "    Class_3  Age_No_Out  Age_Imp_Mean  Age_Imp_Median  Age_Cat_1  Fare_No_Out  \\\n",
       "179       1        36.0     36.000000            36.0        5.0          0.0   \n",
       "263       0        40.0     40.000000            40.0        5.0          0.0   \n",
       "271       1        25.0     25.000000            25.0        3.0          0.0   \n",
       "277       0         NaN     29.688694            28.0        NaN          0.0   \n",
       "302       1        19.0     19.000000            19.0        3.0          0.0   \n",
       "\n",
       "    Fare_No_Out_2  \n",
       "179           0.0  \n",
       "263           0.0  \n",
       "271           0.0  \n",
       "277           0.0  \n",
       "302           0.0  \n",
       "\n",
       "[5 rows x 50 columns]"
      ]
     },
     "execution_count": 284,
     "metadata": {},
     "output_type": "execute_result"
    }
   ],
   "source": [
    "train[train.Fare == 0].head()"
   ]
  },
  {
   "cell_type": "markdown",
   "metadata": {},
   "source": [
    "TODO:\n",
    "- Add the feature to the main dataframe\n",
    "- Check out basic stats\n",
    "- Then look at the outliers"
   ]
  },
  {
   "cell_type": "code",
   "execution_count": 285,
   "metadata": {},
   "outputs": [],
   "source": [
    "#Add the feature to the training set dataframe\n",
    "train['Fare_Log'] = pd.DataFrame(np.log(train.Fare+1))"
   ]
  },
  {
   "cell_type": "code",
   "execution_count": 286,
   "metadata": {},
   "outputs": [
    {
     "data": {
      "text/plain": [
       "count    891.000000\n",
       "mean       2.962246\n",
       "std        0.969048\n",
       "min        0.000000\n",
       "25%        2.187218\n",
       "50%        2.737881\n",
       "75%        3.465736\n",
       "max        6.240917\n",
       "Name: Fare_Log, dtype: float64"
      ]
     },
     "execution_count": 286,
     "metadata": {},
     "output_type": "execute_result"
    }
   ],
   "source": [
    "train.Fare_Log.describe()\n",
    "#THe \"0\"s are outliers"
   ]
  },
  {
   "cell_type": "code",
   "execution_count": 287,
   "metadata": {},
   "outputs": [
    {
     "name": "stdout",
     "output_type": "stream",
     "text": [
      "Upper Limit: 5.84\n",
      "Lower Limit: 0.08000000000000007\n",
      "High Outliers: 3\n",
      "Low Outliers: 15\n"
     ]
    }
   ],
   "source": [
    "#3sig\n",
    "print(\"Upper Limit:\", 2.96 + 3 * 0.96)\n",
    "print(\"Lower Limit:\", 2.96 - 3 * 0.96)\n",
    "print(\"High Outliers:\", train.Fare_Log[train.Fare_Log >5.84].count())\n",
    "print(\"Low Outliers:\", train.Fare_Log[train.Fare_Log <0.08].count())"
   ]
  },
  {
   "cell_type": "markdown",
   "metadata": {},
   "source": [
    "TODO: \n",
    "- Log Fare Outlier Handling\n",
    "    - Create one binary feature saying whether the original Fare_Log was for a free ticket\n",
    "        - This is because Fare_Log = 0 is the same as Log(Fare+1) when Fare = 0\n",
    "    - Create a numeric feature where the outliers are brought in to the 3 std dev limit"
   ]
  },
  {
   "cell_type": "code",
   "execution_count": 288,
   "metadata": {},
   "outputs": [
    {
     "data": {
      "text/plain": [
       "15"
      ]
     },
     "execution_count": 288,
     "metadata": {},
     "output_type": "execute_result"
    }
   ],
   "source": [
    "#Not the most straightforward way to do this, but it is when it came up to add.\n",
    "train['Free_Ticket'] = (train.Fare_Log == 0 ) * 1  \n",
    "train.Free_Ticket.sum()"
   ]
  },
  {
   "cell_type": "code",
   "execution_count": 289,
   "metadata": {},
   "outputs": [],
   "source": [
    "train['Fare_Log_No_Out'] = std_dev_outlier_remover(train,'Fare_Log')"
   ]
  },
  {
   "cell_type": "code",
   "execution_count": 290,
   "metadata": {},
   "outputs": [
    {
     "data": {
      "text/plain": [
       "count    891.000000\n",
       "mean       3.059806\n",
       "std        0.957250\n",
       "min        1.611935\n",
       "25%        2.188856\n",
       "50%        2.778819\n",
       "75%        3.526361\n",
       "max        5.869391\n",
       "Name: Fare_Log_No_Out, dtype: float64"
      ]
     },
     "execution_count": 290,
     "metadata": {},
     "output_type": "execute_result"
    }
   ],
   "source": [
    "train.Fare_Log_No_Out.describe()"
   ]
  },
  {
   "cell_type": "code",
   "execution_count": 291,
   "metadata": {},
   "outputs": [
    {
     "data": {
      "image/png": "[encoded data removed]",
      "text/plain": [
       "<matplotlib.figure.Figure at 0x24a7de87748>"
      ]
     },
     "metadata": {},
     "output_type": "display_data"
    }
   ],
   "source": [
    "train.Fare_Log_No_Out.hist(bins = 30)\n",
    "plt.title('Log of Fares, No Outliers')\n",
    "plt.xlabel('Log(Fare), 30 bins')\n",
    "plt.ylabel('Passenger Count')\n",
    "plt.show()"
   ]
  },
  {
   "cell_type": "markdown",
   "metadata": {},
   "source": [
    "- The distribution is a little better, but still not great. \n",
    "- Will have to compare the impact of fare treatment with models."
   ]
  },
  {
   "cell_type": "code",
   "execution_count": 292,
   "metadata": {},
   "outputs": [
    {
     "data": {
      "text/plain": [
       "Index(['PassengerId', 'Survived', 'Pclass', 'Name', 'Sex', 'Age', 'SibSp',\n",
       "       'Parch', 'Ticket', 'Fare', 'Cabin', 'Embarked', 'Title', 'Last_Name',\n",
       "       'Last_Name_Count', 'Military', 'Nobility', 'Reverend', 'Doctor',\n",
       "       'Title_New', 'MMMM', 'Master', 'Miss', 'Mr', 'Mrs', 'female', 'male',\n",
       "       'Emb_C', 'Emb_Q', 'Emb_S', 'Has_Cabin', 'Cabin_Letter', 'A', 'B', 'C',\n",
       "       'D', 'E', 'F', 'G', 'T', 'G_Level', 'Class_1', 'Class_2', 'Class_3',\n",
       "       'Age_No_Out', 'Age_Imp_Mean', 'Age_Imp_Median', 'Age_Cat_1',\n",
       "       'Fare_No_Out', 'Fare_No_Out_2', 'Fare_Log', 'Free_Ticket',\n",
       "       'Fare_Log_No_Out'],\n",
       "      dtype='object')"
      ]
     },
     "execution_count": 292,
     "metadata": {},
     "output_type": "execute_result"
    }
   ],
   "source": [
    "train.columns"
   ]
  },
  {
   "cell_type": "markdown",
   "metadata": {},
   "source": [
    "# FAMILY FEATURES"
   ]
  },
  {
   "cell_type": "markdown",
   "metadata": {},
   "source": [
    "TODO:\n",
    "- Explore ways to get a count of family members\n",
    "- Sum the Sibling/Spouse and Parent/Child Feature\n",
    "- And more"
   ]
  },
  {
   "cell_type": "code",
   "execution_count": 293,
   "metadata": {},
   "outputs": [],
   "source": [
    "#create the new feature\n",
    "train['Family'] = train.Parch + train.SibSp + 1"
   ]
  },
  {
   "cell_type": "code",
   "execution_count": 294,
   "metadata": {},
   "outputs": [
    {
     "data": {
      "text/plain": [
       "<matplotlib.axes._subplots.AxesSubplot at 0x24a7ddcd2b0>"
      ]
     },
     "execution_count": 294,
     "metadata": {},
     "output_type": "execute_result"
    },
    {
     "data": {
      "image/png": "[encoded data removed]",
      "text/plain": [
       "<matplotlib.figure.Figure at 0x24a7de87c18>"
      ]
     },
     "metadata": {},
     "output_type": "display_data"
    }
   ],
   "source": [
    "train.Family.hist(bins=30)"
   ]
  },
  {
   "cell_type": "markdown",
   "metadata": {},
   "source": [
    "- Distribution is very skewed. Let's take a log(x+1) to see if that has more impact"
   ]
  },
  {
   "cell_type": "code",
   "execution_count": 295,
   "metadata": {},
   "outputs": [],
   "source": [
    "train['Family_Log'] = np.log(train['Family'])"
   ]
  },
  {
   "cell_type": "code",
   "execution_count": 296,
   "metadata": {},
   "outputs": [
    {
     "data": {
      "text/plain": [
       "<matplotlib.axes._subplots.AxesSubplot at 0x24a7de87dd8>"
      ]
     },
     "execution_count": 296,
     "metadata": {},
     "output_type": "execute_result"
    },
    {
     "data": {
      "image/png": "[encoded data removed]",
      "text/plain": [
       "<matplotlib.figure.Figure at 0x24a7d65b048>"
      ]
     },
     "metadata": {},
     "output_type": "display_data"
    }
   ],
   "source": [
    "train.Family_Log.hist(bins=30)"
   ]
  },
  {
   "cell_type": "code",
   "execution_count": 297,
   "metadata": {},
   "outputs": [
    {
     "data": {
      "text/plain": [
       "<seaborn.axisgrid.PairGrid at 0x24a7d66fe48>"
      ]
     },
     "execution_count": 297,
     "metadata": {},
     "output_type": "execute_result"
    },
    {
     "data": {
      "image/png": "[encoded data removed]",
      "text/plain": [
       "<matplotlib.figure.Figure at 0x24a7d6f8908>"
      ]
     },
     "metadata": {},
     "output_type": "display_data"
    }
   ],
   "source": [
    "#Quick glance at survival vs Family Size\n",
    "#Looks like big families do worse.\n",
    "sns.pairplot(train[['Family_Log','Family','Survived']],hue='Survived')"
   ]
  },
  {
   "cell_type": "code",
   "execution_count": 298,
   "metadata": {},
   "outputs": [
    {
     "data": {
      "image/png": "[encoded data removed]",
      "text/plain": [
       "<matplotlib.figure.Figure at 0x24a7dec9710>"
      ]
     },
     "metadata": {},
     "output_type": "display_data"
    }
   ],
   "source": [
    "#Out of curiousity, I'll try a reciprocal relationship too:\n",
    "train['Family_Inv'] =  1 / (train.Family)\n",
    "train.Family_Inv.hist(bins=30)\n",
    "plt.xlabel('Inverse Family Size')\n",
    "plt.ylabel('Passenger Count')\n",
    "plt.show()"
   ]
  },
  {
   "cell_type": "markdown",
   "metadata": {},
   "source": [
    "## FARE REVISTED"
   ]
  },
  {
   "cell_type": "markdown",
   "metadata": {},
   "source": [
    "TODO:\n",
    "- Create a Fare_Indiv feature that divides the fare by the family size or ticket multiplicity (whichever is bigger)\n",
    "- Then perform outlier and log transformations as done for standard Fare"
   ]
  },
  {
   "cell_type": "markdown",
   "metadata": {},
   "source": [
    "***Calculate Ticket Multiplictiy***:"
   ]
  },
  {
   "cell_type": "code",
   "execution_count": 299,
   "metadata": {},
   "outputs": [],
   "source": [
    "train['Ticket_Ct'] = train.Ticket.apply(lambda x: train.Ticket.value_counts().loc[str(x)])"
   ]
  },
  {
   "cell_type": "code",
   "execution_count": 300,
   "metadata": {},
   "outputs": [
    {
     "data": {
      "text/plain": [
       "array([1, 2, 4, 3, 7, 5, 6], dtype=int64)"
      ]
     },
     "execution_count": 300,
     "metadata": {},
     "output_type": "execute_result"
    }
   ],
   "source": [
    "train.Ticket_Ct.unique()"
   ]
  },
  {
   "cell_type": "markdown",
   "metadata": {},
   "source": [
    "***Calculate Fare_Indiv:***"
   ]
  },
  {
   "cell_type": "code",
   "execution_count": 301,
   "metadata": {},
   "outputs": [],
   "source": [
    "Fare_Prep = pd.DataFrame([(train.Fare / train.Ticket_Ct), (train.Fare / train.Family)])\n",
    "train['Fare_Indiv'] = Fare_Prep.transpose().min(axis=1)"
   ]
  },
  {
   "cell_type": "code",
   "execution_count": 302,
   "metadata": {},
   "outputs": [
    {
     "data": {
      "text/plain": [
       "<matplotlib.axes._subplots.AxesSubplot at 0x24a7d6809b0>"
      ]
     },
     "execution_count": 302,
     "metadata": {},
     "output_type": "execute_result"
    },
    {
     "data": {
      "image/png": "[encoded data removed]",
      "text/plain": [
       "<matplotlib.figure.Figure at 0x24a7d4ba240>"
      ]
     },
     "metadata": {},
     "output_type": "display_data"
    }
   ],
   "source": [
    "train.Fare_Indiv.hist(bins=30)"
   ]
  },
  {
   "cell_type": "code",
   "execution_count": 303,
   "metadata": {},
   "outputs": [
    {
     "data": {
      "text/plain": [
       "count    891.000000\n",
       "mean      15.463672\n",
       "std       18.187769\n",
       "min        0.000000\n",
       "25%        7.239600\n",
       "50%        8.050000\n",
       "75%       14.775000\n",
       "max      221.779200\n",
       "Name: Fare_Indiv, dtype: float64"
      ]
     },
     "execution_count": 303,
     "metadata": {},
     "output_type": "execute_result"
    }
   ],
   "source": [
    "train.Fare_Indiv.describe()"
   ]
  },
  {
   "cell_type": "markdown",
   "metadata": {},
   "source": [
    "TODO:\n",
    "- Remove Outliers\n",
    "- Graph\n",
    "- Stats\n",
    "\n",
    "Note: The transformation makes outliers seem much further out."
   ]
  },
  {
   "cell_type": "code",
   "execution_count": 304,
   "metadata": {},
   "outputs": [],
   "source": [
    "train['Fare_Indiv_No_Out'] = std_dev_outlier_remover(train,'Fare_Indiv')"
   ]
  },
  {
   "cell_type": "code",
   "execution_count": 305,
   "metadata": {},
   "outputs": [
    {
     "data": {
      "image/png": "[encoded data removed]",
      "text/plain": [
       "<matplotlib.figure.Figure at 0x24a7eeec198>"
      ]
     },
     "metadata": {},
     "output_type": "display_data"
    }
   ],
   "source": [
    "train.Fare_Indiv_No_Out.hist(bins=30)\n",
    "plt.title('Fare_Indiv with 1 stage of 3-sigma Outlier Removal')\n",
    "plt.xlabel('Fare on Individual Basis')\n",
    "plt.ylabel('Passenger Count')\n",
    "plt.show()"
   ]
  },
  {
   "cell_type": "code",
   "execution_count": 306,
   "metadata": {},
   "outputs": [
    {
     "data": {
      "text/plain": [
       "count    891.000000\n",
       "mean      14.806993\n",
       "std       13.852085\n",
       "min        0.000000\n",
       "25%        7.239600\n",
       "50%        8.050000\n",
       "75%       14.775000\n",
       "max       70.026978\n",
       "Name: Fare_Indiv_No_Out, dtype: float64"
      ]
     },
     "execution_count": 306,
     "metadata": {},
     "output_type": "execute_result"
    }
   ],
   "source": [
    "train.Fare_Indiv_No_Out.describe()"
   ]
  },
  {
   "cell_type": "markdown",
   "metadata": {},
   "source": [
    "***2nd Round of Outlier Removal***"
   ]
  },
  {
   "cell_type": "code",
   "execution_count": 307,
   "metadata": {},
   "outputs": [],
   "source": [
    "train['Fare_Indiv_No_Out_2'] = std_dev_outlier_remover(train,'Fare_Indiv_No_Out')"
   ]
  },
  {
   "cell_type": "code",
   "execution_count": 308,
   "metadata": {
    "scrolled": true
   },
   "outputs": [
    {
     "data": {
      "image/png": "[encoded data removed]",
      "text/plain": [
       "<matplotlib.figure.Figure at 0x24a7f35c898>"
      ]
     },
     "metadata": {},
     "output_type": "display_data"
    }
   ],
   "source": [
    "train.Fare_Indiv_No_Out_2.hist(bins=30)\n",
    "plt.title('Fare_Indiv with 2 stage of 3-sigma Outlier Removal')\n",
    "plt.xlabel('Fare on Individual Basis')\n",
    "plt.ylabel('Passenger Count')\n",
    "plt.show()"
   ]
  },
  {
   "cell_type": "markdown",
   "metadata": {},
   "source": [
    "- Still pretty far out there. Will just leave it like this for now and compare to the others later"
   ]
  },
  {
   "cell_type": "code",
   "execution_count": 309,
   "metadata": {},
   "outputs": [
    {
     "data": {
      "text/plain": [
       "count    891.000000\n",
       "mean      14.566013\n",
       "std       12.983722\n",
       "min        0.000000\n",
       "25%        7.239600\n",
       "50%        8.050000\n",
       "75%       14.775000\n",
       "max       56.363248\n",
       "Name: Fare_Indiv_No_Out_2, dtype: float64"
      ]
     },
     "execution_count": 309,
     "metadata": {},
     "output_type": "execute_result"
    }
   ],
   "source": [
    "train.Fare_Indiv_No_Out_2.describe()"
   ]
  },
  {
   "cell_type": "markdown",
   "metadata": {},
   "source": [
    "***Logarithms***"
   ]
  },
  {
   "cell_type": "code",
   "execution_count": 310,
   "metadata": {},
   "outputs": [],
   "source": [
    "train['Fare_Indiv_Log'] = np.log(train.Fare_Indiv+1)"
   ]
  },
  {
   "cell_type": "code",
   "execution_count": 311,
   "metadata": {},
   "outputs": [
    {
     "data": {
      "image/png": "[encoded data removed]",
      "text/plain": [
       "<matplotlib.figure.Figure at 0x24a7f3a7710>"
      ]
     },
     "metadata": {},
     "output_type": "display_data"
    }
   ],
   "source": [
    "train.Fare_Indiv_Log.hist(bins=30)\n",
    "plt.title('Fare_Indiv_Log')\n",
    "plt.xlabel('Log Fare+1 on Individual Basis')\n",
    "plt.ylabel('Passenger Count')\n",
    "plt.show()"
   ]
  },
  {
   "cell_type": "markdown",
   "metadata": {},
   "source": [
    "- The Log makes it look more distributed, except for the hole in the middle and outliers"
   ]
  },
  {
   "cell_type": "code",
   "execution_count": 312,
   "metadata": {},
   "outputs": [
    {
     "data": {
      "text/plain": [
       "count    891.000000\n",
       "mean       2.483191\n",
       "std        0.750833\n",
       "min        0.000000\n",
       "25%        2.108951\n",
       "50%        2.202765\n",
       "75%        2.758415\n",
       "max        5.406181\n",
       "Name: Fare_Indiv_Log, dtype: float64"
      ]
     },
     "execution_count": 312,
     "metadata": {},
     "output_type": "execute_result"
    }
   ],
   "source": [
    "train.Fare_Indiv_Log.describe()"
   ]
  },
  {
   "cell_type": "markdown",
   "metadata": {},
   "source": [
    "***Log and Outliers***"
   ]
  },
  {
   "cell_type": "code",
   "execution_count": 313,
   "metadata": {},
   "outputs": [],
   "source": [
    "train['Fare_Indiv_Log_No_Out'] = std_dev_outlier_remover(train,'Fare_Indiv_Log')"
   ]
  },
  {
   "cell_type": "code",
   "execution_count": 314,
   "metadata": {},
   "outputs": [
    {
     "data": {
      "image/png": "[encoded data removed]",
      "text/plain": [
       "<matplotlib.figure.Figure at 0x24a7f4a3cc0>"
      ]
     },
     "metadata": {},
     "output_type": "display_data"
    }
   ],
   "source": [
    "train.Fare_Indiv_Log_No_Out.hist(bins=30)\n",
    "plt.title('Fare_Indiv_Log No Outliers')\n",
    "plt.xlabel('Log Fare+1 on Individual Basis')\n",
    "plt.ylabel('Passenger Count')\n",
    "plt.show()"
   ]
  },
  {
   "cell_type": "markdown",
   "metadata": {},
   "source": [
    "- The ~2.2 bin is getting taller, this may not be helping much\n",
    "- Will have to see in modelling phase"
   ]
  },
  {
   "cell_type": "code",
   "execution_count": 315,
   "metadata": {},
   "outputs": [
    {
     "data": {
      "text/plain": [
       "count    891.000000\n",
       "mean       2.560578\n",
       "std        0.726433\n",
       "min        0.757128\n",
       "25%        2.113987\n",
       "50%        2.205064\n",
       "75%        2.880704\n",
       "max        4.735690\n",
       "Name: Fare_Indiv_Log_No_Out, dtype: float64"
      ]
     },
     "execution_count": 315,
     "metadata": {},
     "output_type": "execute_result"
    }
   ],
   "source": [
    "train.Fare_Indiv_Log_No_Out.describe()"
   ]
  },
  {
   "cell_type": "code",
   "execution_count": 316,
   "metadata": {},
   "outputs": [
    {
     "data": {
      "text/plain": [
       "Index(['PassengerId', 'Survived', 'Pclass', 'Name', 'Sex', 'Age', 'SibSp',\n",
       "       'Parch', 'Ticket', 'Fare', 'Cabin', 'Embarked', 'Title', 'Last_Name',\n",
       "       'Last_Name_Count', 'Military', 'Nobility', 'Reverend', 'Doctor',\n",
       "       'Title_New', 'MMMM', 'Master', 'Miss', 'Mr', 'Mrs', 'female', 'male',\n",
       "       'Emb_C', 'Emb_Q', 'Emb_S', 'Has_Cabin', 'Cabin_Letter', 'A', 'B', 'C',\n",
       "       'D', 'E', 'F', 'G', 'T', 'G_Level', 'Class_1', 'Class_2', 'Class_3',\n",
       "       'Age_No_Out', 'Age_Imp_Mean', 'Age_Imp_Median', 'Age_Cat_1',\n",
       "       'Fare_No_Out', 'Fare_No_Out_2', 'Fare_Log', 'Free_Ticket',\n",
       "       'Fare_Log_No_Out', 'Family', 'Family_Log', 'Family_Inv', 'Ticket_Ct',\n",
       "       'Fare_Indiv', 'Fare_Indiv_No_Out', 'Fare_Indiv_No_Out_2',\n",
       "       'Fare_Indiv_Log', 'Fare_Indiv_Log_No_Out'],\n",
       "      dtype='object')"
      ]
     },
     "execution_count": 316,
     "metadata": {},
     "output_type": "execute_result"
    }
   ],
   "source": [
    "train.columns"
   ]
  },
  {
   "cell_type": "code",
   "execution_count": 318,
   "metadata": {},
   "outputs": [],
   "source": [
    "#Save it so I can use it later, if desired.\n",
    "train.to_csv('Post_Data_Workup.csv')"
   ]
  }
 ],
 "metadata": {
  "kernelspec": {
   "display_name": "Python 3",
   "language": "python",
   "name": "python3"
  },
  "language_info": {
   "codemirror_mode": {
    "name": "ipython",
    "version": 3
   },
   "file_extension": ".py",
   "mimetype": "text/x-python",
   "name": "python",
   "nbconvert_exporter": "python",
   "pygments_lexer": "ipython3",
   "version": "3.6.3"
  }
 },
 "nbformat": 4,
 "nbformat_minor": 2
}
