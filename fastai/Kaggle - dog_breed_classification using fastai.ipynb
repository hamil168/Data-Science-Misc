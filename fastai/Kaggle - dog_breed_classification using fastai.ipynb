{
 "cells": [
  {
   "cell_type": "markdown",
   "metadata": {},
   "source": [
    "## Image classification with Convolutional Neural Networks"
   ]
  },
  {
   "cell_type": "markdown",
   "metadata": {},
   "source": [
    "## Dog Breeds\n",
    "\n",
    "\n",
    "https://www.kaggle.com/c/dog-breed-identification/\n",
    "\n",
    "\n",
    "This is an extension of the discussions on lectures 1 and 2 on fastai's website\n",
    "\n",
    "http://course.fast.ai/lessons/lesson1.html\n",
    "\n",
    "The purpose of this is to play around with the fastai tools outside of the context of cat v dog classification in the course homework.\n",
    "\n",
    "Here is my Kaggle page: https://www.kaggle.com/hamil168"
   ]
  },
  {
   "cell_type": "code",
   "execution_count": 1,
   "metadata": {},
   "outputs": [],
   "source": [
    "# Put these at the top of every notebook, to get automatic reloading and inline plotting\n",
    "%reload_ext autoreload\n",
    "%autoreload 2\n",
    "%matplotlib inline\n",
    "\n",
    "import numpy as np\n",
    "import pandas as pd"
   ]
  },
  {
   "cell_type": "code",
   "execution_count": 2,
   "metadata": {},
   "outputs": [],
   "source": [
    "# This file contains all the main external libs we'll use\n",
    "from fastai.imports import *\n",
    "from fastai.torch_imports import *"
   ]
  },
  {
   "cell_type": "code",
   "execution_count": 3,
   "metadata": {},
   "outputs": [],
   "source": [
    "from fastai.transforms import *\n",
    "from fastai.conv_learner import *\n",
    "from fastai.model import *\n",
    "from fastai.dataset import *\n",
    "from fastai.sgdr import *\n",
    "from fastai.plots import *"
   ]
  },
  {
   "cell_type": "code",
   "execution_count": 4,
   "metadata": {},
   "outputs": [],
   "source": [
    "#torch.cuda.set_device(1)"
   ]
  },
  {
   "cell_type": "code",
   "execution_count": 5,
   "metadata": {},
   "outputs": [],
   "source": [
    "PATH = \"data/dogbreeds/\" #\"data/mouserats/\" #\"data/dogscats/\"\n",
    "\n",
    "arch=resnext101_64\n",
    "bs=12   #58 was the starting size, but using this the gpu runs out of memory in the later stages. Had to reduce it considerably.\n",
    "#bs=15 also caused cuda oom error\n",
    "sz=224  #224"
   ]
  },
  {
   "cell_type": "code",
   "execution_count": 26,
   "metadata": {},
   "outputs": [],
   "source": [
    "label_csv=f'{PATH}labels.csv'\n",
    "n = len(list(open(label_csv)))-1\n",
    "val_idxs = get_cv_idxs(n)  #random 20% as default"
   ]
  },
  {
   "cell_type": "code",
   "execution_count": 27,
   "metadata": {},
   "outputs": [
    {
     "data": {
      "text/plain": [
       "array([2882, 4514, 7717, ..., 8922, 6774,   37])"
      ]
     },
     "execution_count": 27,
     "metadata": {},
     "output_type": "execute_result"
    }
   ],
   "source": [
    "val_idxs"
   ]
  },
  {
   "cell_type": "code",
   "execution_count": 7,
   "metadata": {},
   "outputs": [],
   "source": [
    "idxsv = pd.DataFrame(val_idxs)\n",
    "idxsv.to_csv('DataIndex3a.csv')"
   ]
  },
  {
   "cell_type": "code",
   "execution_count": 9,
   "metadata": {},
   "outputs": [],
   "source": [
    "idxsv = pd.read_csv('DataIndex3a.csv',index_col=0)"
   ]
  },
  {
   "cell_type": "code",
   "execution_count": 23,
   "metadata": {},
   "outputs": [
    {
     "data": {
      "text/plain": [
       "array([2882, 4514, 7717, ..., 8922, 6774,   37])"
      ]
     },
     "execution_count": 23,
     "metadata": {},
     "output_type": "execute_result"
    }
   ],
   "source": [
    "idxsv.iloc[:,0].values"
   ]
  },
  {
   "cell_type": "code",
   "execution_count": 28,
   "metadata": {},
   "outputs": [
    {
     "data": {
      "text/plain": [
       "True"
      ]
     },
     "execution_count": 28,
     "metadata": {},
     "output_type": "execute_result"
    }
   ],
   "source": [
    "\n",
    "torch.cuda.is_available()"
   ]
  },
  {
   "cell_type": "code",
   "execution_count": 29,
   "metadata": {},
   "outputs": [
    {
     "data": {
      "text/plain": [
       "True"
      ]
     },
     "execution_count": 29,
     "metadata": {},
     "output_type": "execute_result"
    }
   ],
   "source": [
    "torch.backends.cudnn.enabled"
   ]
  },
  {
   "cell_type": "code",
   "execution_count": 30,
   "metadata": {},
   "outputs": [
    {
     "name": "stdout",
     "output_type": "stream",
     "text": [
      "Dogs\t\tsample_submission.csv\t   Submission3a_.csv  tmp\r\n",
      "labels.csv\tsample_submission.csv.zip  submission.csv     train\r\n",
      "labels.csv.zip\tSubmission2b.csv\t   test\t\t      train.zip\r\n",
      "models\t\tSubmission2.csv\t\t   test.zip\r\n"
     ]
    }
   ],
   "source": [
    "!ls {PATH}"
   ]
  },
  {
   "cell_type": "code",
   "execution_count": 31,
   "metadata": {},
   "outputs": [],
   "source": [
    "label_df = pd.read_csv('./data/dogbreeds/labels.csv')"
   ]
  },
  {
   "cell_type": "code",
   "execution_count": 32,
   "metadata": {},
   "outputs": [
    {
     "data": {
      "text/html": [
       "<div>\n",
       "<style scoped>\n",
       "    .dataframe tbody tr th:only-of-type {\n",
       "        vertical-align: middle;\n",
       "    }\n",
       "\n",
       "    .dataframe tbody tr th {\n",
       "        vertical-align: top;\n",
       "    }\n",
       "\n",
       "    .dataframe thead th {\n",
       "        text-align: right;\n",
       "    }\n",
       "</style>\n",
       "<table border=\"1\" class=\"dataframe\">\n",
       "  <thead>\n",
       "    <tr style=\"text-align: right;\">\n",
       "      <th></th>\n",
       "      <th>id</th>\n",
       "    </tr>\n",
       "    <tr>\n",
       "      <th>breed</th>\n",
       "      <th></th>\n",
       "    </tr>\n",
       "  </thead>\n",
       "  <tbody>\n",
       "    <tr>\n",
       "      <th>scottish_deerhound</th>\n",
       "      <td>126</td>\n",
       "    </tr>\n",
       "    <tr>\n",
       "      <th>maltese_dog</th>\n",
       "      <td>117</td>\n",
       "    </tr>\n",
       "    <tr>\n",
       "      <th>afghan_hound</th>\n",
       "      <td>116</td>\n",
       "    </tr>\n",
       "    <tr>\n",
       "      <th>entlebucher</th>\n",
       "      <td>115</td>\n",
       "    </tr>\n",
       "    <tr>\n",
       "      <th>bernese_mountain_dog</th>\n",
       "      <td>114</td>\n",
       "    </tr>\n",
       "  </tbody>\n",
       "</table>\n",
       "</div>"
      ],
      "text/plain": [
       "                       id\n",
       "breed                    \n",
       "scottish_deerhound    126\n",
       "maltese_dog           117\n",
       "afghan_hound          116\n",
       "entlebucher           115\n",
       "bernese_mountain_dog  114"
      ]
     },
     "execution_count": 32,
     "metadata": {},
     "output_type": "execute_result"
    }
   ],
   "source": [
    "label_df.pivot_table(index='breed', aggfunc=len).sort_values('id', ascending=False).head()"
   ]
  },
  {
   "cell_type": "markdown",
   "metadata": {
    "hidden": true
   },
   "source": [
    "We're going to use a <b>pre-trained</b> model, that is, a model created by some one else to solve a different problem. Instead of building a model from scratch to solve a similar problem, we'll use a model trained on ImageNet (1.2 million images and 1000 classes) as a starting point. The model is a Convolutional Neural Network (CNN), a type of Neural Network that builds state-of-the-art models for computer vision. We'll be learning all about CNNs during this course.\n",
    "\n",
    "Here is more info on [resnet models](https://github.com/KaimingHe/deep-residual-networks). We'll be studying them in depth later, but for now we'll focus on using them effectively.\n",
    "\n",
    "Here's how to train and evalulate a *dogs vs cats* model in 3 lines of code, and under 20 seconds:"
   ]
  },
  {
   "cell_type": "code",
   "execution_count": 33,
   "metadata": {},
   "outputs": [],
   "source": [
    "#Uncomment the below if you need to reset your precomputed activations\n",
    "##shutil.rmtree(f'{PATH}tmp', ignore_errors=True)"
   ]
  },
  {
   "cell_type": "markdown",
   "metadata": {},
   "source": [
    "### STEP: ENABLE DATA AUGMENTATION:"
   ]
  },
  {
   "cell_type": "code",
   "execution_count": 34,
   "metadata": {
    "hidden": true
   },
   "outputs": [],
   "source": [
    "tfms = tfms_from_model(arch, sz, aug_tfms=transforms_side_on, max_zoom=1.1)\n",
    "\n",
    "data = ImageClassifierData.from_csv(PATH, 'train', f'{PATH}labels.csv', test_name='test',\n",
    "                                    val_idxs=val_idxs, suffix='.jpg',tfms=tfms, bs=bs)\n",
    "\n",
    "#IF the labels don't have the full file name i.e. 01001100.jpg, then you need to add the suffix"
   ]
  },
  {
   "cell_type": "code",
   "execution_count": 35,
   "metadata": {},
   "outputs": [
    {
     "data": {
      "text/plain": [
       "'data/dogbreeds/train/001513dfcb2ffafc82cccf4d8bbaba97.jpg'"
      ]
     },
     "execution_count": 35,
     "metadata": {},
     "output_type": "execute_result"
    }
   ],
   "source": [
    "fn = PATH+data.trn_ds.fnames[0]; fn"
   ]
  },
  {
   "cell_type": "code",
   "execution_count": 36,
   "metadata": {
    "scrolled": false
   },
   "outputs": [],
   "source": [
    "#img = PIL.Image.open(fn); img"
   ]
  },
  {
   "cell_type": "code",
   "execution_count": 37,
   "metadata": {},
   "outputs": [],
   "source": [
    "#img.size"
   ]
  },
  {
   "cell_type": "code",
   "execution_count": 38,
   "metadata": {},
   "outputs": [],
   "source": [
    "size_d = {k: PIL.Image.open(PATH+k).size for k in data.trn_ds.fnames} #creates dictionary that maps size and name"
   ]
  },
  {
   "cell_type": "code",
   "execution_count": 39,
   "metadata": {},
   "outputs": [],
   "source": [
    "row_sz, col_sz = list(zip(*size_d.values()))"
   ]
  },
  {
   "cell_type": "code",
   "execution_count": 40,
   "metadata": {},
   "outputs": [
    {
     "name": "stdout",
     "output_type": "stream",
     "text": [
      "<class 'numpy.ndarray'>\n"
     ]
    }
   ],
   "source": [
    "row_sz = np.array(row_sz); col_sz=np.array(col_sz)\n",
    "print(type(row_sz))"
   ]
  },
  {
   "cell_type": "code",
   "execution_count": 41,
   "metadata": {},
   "outputs": [],
   "source": [
    "#plt.hist(row_sz)"
   ]
  },
  {
   "cell_type": "code",
   "execution_count": 42,
   "metadata": {},
   "outputs": [],
   "source": [
    "#type(row_sz)"
   ]
  },
  {
   "cell_type": "code",
   "execution_count": 43,
   "metadata": {},
   "outputs": [],
   "source": [
    "#row_sz < 1000"
   ]
  },
  {
   "cell_type": "code",
   "execution_count": 44,
   "metadata": {},
   "outputs": [],
   "source": [
    "#plt.hist(row_sz[row_sz<1000])"
   ]
  },
  {
   "cell_type": "code",
   "execution_count": 47,
   "metadata": {},
   "outputs": [],
   "source": [
    "#plt.hist(col_sz)"
   ]
  },
  {
   "cell_type": "code",
   "execution_count": 48,
   "metadata": {},
   "outputs": [],
   "source": [
    "#created this to make things super fast. Started with size 64, smaller architecture\n",
    "#Get CUDA out of memory error, kernel -> restart\n",
    "\n",
    "def get_data(sz,bs):\n",
    "    tfms = tfms_from_model(arch, sz, aug_tfms=transforms_side_on, max_zoom=1.1)\n",
    "\n",
    "    data = ImageClassifierData.from_csv(PATH, 'train', f'{PATH}labels.csv', test_name='test', num_workers=4,\n",
    "                                        val_idxs=val_idxs, suffix='.jpg',tfms=tfms, bs=bs)\n",
    "    \n",
    "    return data if sz>300 else data.resize(340,'tmp')"
   ]
  },
  {
   "cell_type": "markdown",
   "metadata": {},
   "source": [
    "**From Class:**"
   ]
  },
  {
   "cell_type": "markdown",
   "metadata": {},
   "source": [
    "1. Enable data augmentation, and precompute=True\n",
    "1. Use `lr_find()` to find highest learning rate where loss is still clearly improving\n",
    "1. Train last layer from precomputed activations for 1-2 epochs\n",
    "1. Train last layer with data augmentation (i.e. precompute=False) for 2-3 epochs with cycle_len=1\n",
    "1. Unfreeze all layers\n",
    "1. Set earlier layers to 3x-10x lower learning rate than next higher layer\n",
    "1. Use `lr_find()` again\n",
    "1. Train full network with cycle_mult=2 until over-fitting"
   ]
  },
  {
   "cell_type": "markdown",
   "metadata": {},
   "source": [
    "### PRECOMPUTE"
   ]
  },
  {
   "cell_type": "code",
   "execution_count": 49,
   "metadata": {},
   "outputs": [
    {
     "data": {
      "application/vnd.jupyter.widget-view+json": {
       "model_id": "7eb074482c85483a82fcf130bd4c84aa",
       "version_major": 2,
       "version_minor": 0
      },
      "text/html": [
       "<p>Failed to display Jupyter Widget of type <code>HBox</code>.</p>\n",
       "<p>\n",
       "  If you're reading this message in the Jupyter Notebook or JupyterLab Notebook, it may mean\n",
       "  that the widgets JavaScript is still loading. If this message persists, it\n",
       "  likely means that the widgets JavaScript library is either not installed or\n",
       "  not enabled. See the <a href=\"https://ipywidgets.readthedocs.io/en/stable/user_install.html\">Jupyter\n",
       "  Widgets Documentation</a> for setup instructions.\n",
       "</p>\n",
       "<p>\n",
       "  If you're reading this message in another frontend (for example, a static\n",
       "  rendering on GitHub or <a href=\"https://nbviewer.jupyter.org/\">NBViewer</a>),\n",
       "  it may mean that your frontend doesn't currently support widgets.\n",
       "</p>\n"
      ],
      "text/plain": [
       "HBox(children=(IntProgress(value=0, max=6), HTML(value='')))"
      ]
     },
     "metadata": {},
     "output_type": "display_data"
    },
    {
     "name": "stdout",
     "output_type": "stream",
     "text": [
      "\n"
     ]
    }
   ],
   "source": [
    "data = get_data(sz,bs)"
   ]
  },
  {
   "cell_type": "code",
   "execution_count": 50,
   "metadata": {
    "hidden": true,
    "scrolled": true
   },
   "outputs": [],
   "source": [
    "learn = ConvLearner.pretrained(arch, data, precompute=True)"
   ]
  },
  {
   "cell_type": "code",
   "execution_count": 30,
   "metadata": {},
   "outputs": [
    {
     "data": {
      "application/vnd.jupyter.widget-view+json": {
       "model_id": "2e4721e0cd8e47e282a703f7a0abdfc1",
       "version_major": 2,
       "version_minor": 0
      },
      "text/html": [
       "<p>Failed to display Jupyter Widget of type <code>HBox</code>.</p>\n",
       "<p>\n",
       "  If you're reading this message in the Jupyter Notebook or JupyterLab Notebook, it may mean\n",
       "  that the widgets JavaScript is still loading. If this message persists, it\n",
       "  likely means that the widgets JavaScript library is either not installed or\n",
       "  not enabled. See the <a href=\"https://ipywidgets.readthedocs.io/en/stable/user_install.html\">Jupyter\n",
       "  Widgets Documentation</a> for setup instructions.\n",
       "</p>\n",
       "<p>\n",
       "  If you're reading this message in another frontend (for example, a static\n",
       "  rendering on GitHub or <a href=\"https://nbviewer.jupyter.org/\">NBViewer</a>),\n",
       "  it may mean that your frontend doesn't currently support widgets.\n",
       "</p>\n"
      ],
      "text/plain": [
       "HBox(children=(IntProgress(value=0, description='Epoch', max=1), HTML(value='')))"
      ]
     },
     "metadata": {},
     "output_type": "display_data"
    },
    {
     "name": "stdout",
     "output_type": "stream",
     "text": [
      " 72%|███████▏  | 488/682 [00:03<00:01, 140.90it/s, loss=6.72]\n",
      "                                                             \r"
     ]
    }
   ],
   "source": [
    "learn.lr_find()"
   ]
  },
  {
   "cell_type": "code",
   "execution_count": 31,
   "metadata": {},
   "outputs": [
    {
     "data": {
      "image/png": "[encoded data removed]",
      "text/plain": [
       "<matplotlib.figure.Figure at 0x7f46bbe22630>"
      ]
     },
     "metadata": {},
     "output_type": "display_data"
    }
   ],
   "source": [
    "learn.sched.plot()"
   ]
  },
  {
   "cell_type": "code",
   "execution_count": 32,
   "metadata": {
    "hidden": true,
    "scrolled": false
   },
   "outputs": [
    {
     "data": {
      "application/vnd.jupyter.widget-view+json": {
       "model_id": "a8149eff2a834b86aeaadfc8373be716",
       "version_major": 2,
       "version_minor": 0
      },
      "text/html": [
       "<p>Failed to display Jupyter Widget of type <code>HBox</code>.</p>\n",
       "<p>\n",
       "  If you're reading this message in the Jupyter Notebook or JupyterLab Notebook, it may mean\n",
       "  that the widgets JavaScript is still loading. If this message persists, it\n",
       "  likely means that the widgets JavaScript library is either not installed or\n",
       "  not enabled. See the <a href=\"https://ipywidgets.readthedocs.io/en/stable/user_install.html\">Jupyter\n",
       "  Widgets Documentation</a> for setup instructions.\n",
       "</p>\n",
       "<p>\n",
       "  If you're reading this message in another frontend (for example, a static\n",
       "  rendering on GitHub or <a href=\"https://nbviewer.jupyter.org/\">NBViewer</a>),\n",
       "  it may mean that your frontend doesn't currently support widgets.\n",
       "</p>\n"
      ],
      "text/plain": [
       "HBox(children=(IntProgress(value=0, description='Epoch', max=5), HTML(value='')))"
      ]
     },
     "metadata": {},
     "output_type": "display_data"
    },
    {
     "name": "stdout",
     "output_type": "stream",
     "text": [
      "epoch      trn_loss   val_loss   accuracy                     \n",
      "    0      0.589472   0.337594   0.89425   \n",
      "    1      0.437034   0.332991   0.911793                     \n",
      "    2      0.332033   0.335655   0.901072                     \n",
      "    3      0.242877   0.368181   0.910331                     \n",
      "    4      0.222974   0.394129   0.913255                     \n",
      "\n"
     ]
    },
    {
     "data": {
      "text/plain": [
       "[0.39412889, 0.91325536352849146]"
      ]
     },
     "execution_count": 32,
     "metadata": {},
     "output_type": "execute_result"
    }
   ],
   "source": [
    "#1e-2 looks like it will work nicely here.\n",
    "learn.fit(1e-2, 5) "
   ]
  },
  {
   "cell_type": "code",
   "execution_count": 33,
   "metadata": {},
   "outputs": [],
   "source": [
    "#This turns on augmentation\n",
    "#Also, it is needed to load any save files (further down) that are saved with it FALSE\n",
    "#Instructor said there's not much point in making save files with it TRUE b/c it trains super fast\n",
    "learn.precompute=False"
   ]
  },
  {
   "cell_type": "code",
   "execution_count": 37,
   "metadata": {},
   "outputs": [
    {
     "data": {
      "application/vnd.jupyter.widget-view+json": {
       "model_id": "7acfcdca833d41da8b8df2b3b2db1efd",
       "version_major": 2,
       "version_minor": 0
      },
      "text/html": [
       "<p>Failed to display Jupyter Widget of type <code>HBox</code>.</p>\n",
       "<p>\n",
       "  If you're reading this message in the Jupyter Notebook or JupyterLab Notebook, it may mean\n",
       "  that the widgets JavaScript is still loading. If this message persists, it\n",
       "  likely means that the widgets JavaScript library is either not installed or\n",
       "  not enabled. See the <a href=\"https://ipywidgets.readthedocs.io/en/stable/user_install.html\">Jupyter\n",
       "  Widgets Documentation</a> for setup instructions.\n",
       "</p>\n",
       "<p>\n",
       "  If you're reading this message in another frontend (for example, a static\n",
       "  rendering on GitHub or <a href=\"https://nbviewer.jupyter.org/\">NBViewer</a>),\n",
       "  it may mean that your frontend doesn't currently support widgets.\n",
       "</p>\n"
      ],
      "text/plain": [
       "HBox(children=(IntProgress(value=0, description='Epoch', max=1), HTML(value='')))"
      ]
     },
     "metadata": {},
     "output_type": "display_data"
    },
    {
     "name": "stdout",
     "output_type": "stream",
     "text": [
      "  4%|▍         | 27/682 [00:08<03:23,  3.22it/s, loss=0.319] \n",
      "  4%|▍         | 28/682 [00:08<03:22,  3.22it/s, loss=0.329]"
     ]
    },
    {
     "name": "stderr",
     "output_type": "stream",
     "text": [
      "Exception in thread Thread-19:\n",
      "Traceback (most recent call last):\n",
      "  File \"/home/paperspace/anaconda3/envs/fastai/lib/python3.6/threading.py\", line 916, in _bootstrap_inner\n",
      "    self.run()\n",
      "  File \"/home/paperspace/anaconda3/envs/fastai/lib/python3.6/site-packages/tqdm/_tqdm.py\", line 144, in run\n",
      "    for instance in self.tqdm_cls._instances:\n",
      "  File \"/home/paperspace/anaconda3/envs/fastai/lib/python3.6/_weakrefset.py\", line 60, in __iter__\n",
      "    for itemref in self.data:\n",
      "RuntimeError: Set changed size during iteration\n",
      "\n"
     ]
    },
    {
     "name": "stdout",
     "output_type": "stream",
     "text": [
      " 78%|███████▊  | 531/682 [02:42<00:46,  3.27it/s, loss=1.03] \n"
     ]
    }
   ],
   "source": [
    "learn.lr_find(1e-7)"
   ]
  },
  {
   "cell_type": "code",
   "execution_count": 38,
   "metadata": {},
   "outputs": [
    {
     "data": {
      "image/png": "[encoded data removed]",
      "text/plain": [
       "<matplotlib.figure.Figure at 0x7f46b9d39ef0>"
      ]
     },
     "metadata": {},
     "output_type": "display_data"
    }
   ],
   "source": [
    "learn.sched.plot()"
   ]
  },
  {
   "cell_type": "code",
   "execution_count": 39,
   "metadata": {},
   "outputs": [
    {
     "data": {
      "application/vnd.jupyter.widget-view+json": {
       "model_id": "808e32fae4814c779528cf6f11efea9f",
       "version_major": 2,
       "version_minor": 0
      },
      "text/html": [
       "<p>Failed to display Jupyter Widget of type <code>HBox</code>.</p>\n",
       "<p>\n",
       "  If you're reading this message in the Jupyter Notebook or JupyterLab Notebook, it may mean\n",
       "  that the widgets JavaScript is still loading. If this message persists, it\n",
       "  likely means that the widgets JavaScript library is either not installed or\n",
       "  not enabled. See the <a href=\"https://ipywidgets.readthedocs.io/en/stable/user_install.html\">Jupyter\n",
       "  Widgets Documentation</a> for setup instructions.\n",
       "</p>\n",
       "<p>\n",
       "  If you're reading this message in another frontend (for example, a static\n",
       "  rendering on GitHub or <a href=\"https://nbviewer.jupyter.org/\">NBViewer</a>),\n",
       "  it may mean that your frontend doesn't currently support widgets.\n",
       "</p>\n"
      ],
      "text/plain": [
       "HBox(children=(IntProgress(value=0, description='Epoch', max=5), HTML(value='')))"
      ]
     },
     "metadata": {},
     "output_type": "display_data"
    },
    {
     "name": "stdout",
     "output_type": "stream",
     "text": [
      "epoch      trn_loss   val_loss   accuracy                    \n",
      "    0      0.25517    0.250031   0.924951  \n",
      "    1      0.191587   0.246379   0.928363                    \n",
      "    2      0.205714   0.242918   0.929825                    \n",
      "    3      0.218964   0.242936   0.931287                    \n",
      "    4      0.242753   0.243922   0.931774                    \n",
      "\n"
     ]
    },
    {
     "data": {
      "text/plain": [
       "[0.24392211, 0.93177388216319834]"
      ]
     },
     "execution_count": 39,
     "metadata": {},
     "output_type": "execute_result"
    }
   ],
   "source": [
    "#this is set for 5 epochs, 1 cycl = 1 epoc\n",
    "#LR finder gave 1e-2 again\n",
    "\n",
    "learn.fit(1e-3,5,cycle_len=1)  #5"
   ]
  },
  {
   "cell_type": "code",
   "execution_count": 40,
   "metadata": {},
   "outputs": [],
   "source": [
    "learn.save('224_pre_3')"
   ]
  },
  {
   "cell_type": "code",
   "execution_count": 52,
   "metadata": {},
   "outputs": [],
   "source": [
    "learn.precompute=False\n",
    "learn.load('224_pre_3')"
   ]
  },
  {
   "cell_type": "code",
   "execution_count": 41,
   "metadata": {},
   "outputs": [
    {
     "data": {
      "application/vnd.jupyter.widget-view+json": {
       "model_id": "3c25d1a302e94829bd80149fca9b655a",
       "version_major": 2,
       "version_minor": 0
      },
      "text/html": [
       "<p>Failed to display Jupyter Widget of type <code>HBox</code>.</p>\n",
       "<p>\n",
       "  If you're reading this message in the Jupyter Notebook or JupyterLab Notebook, it may mean\n",
       "  that the widgets JavaScript is still loading. If this message persists, it\n",
       "  likely means that the widgets JavaScript library is either not installed or\n",
       "  not enabled. See the <a href=\"https://ipywidgets.readthedocs.io/en/stable/user_install.html\">Jupyter\n",
       "  Widgets Documentation</a> for setup instructions.\n",
       "</p>\n",
       "<p>\n",
       "  If you're reading this message in another frontend (for example, a static\n",
       "  rendering on GitHub or <a href=\"https://nbviewer.jupyter.org/\">NBViewer</a>),\n",
       "  it may mean that your frontend doesn't currently support widgets.\n",
       "</p>\n"
      ],
      "text/plain": [
       "HBox(children=(IntProgress(value=0, description='Epoch', max=1), HTML(value='')))"
      ]
     },
     "metadata": {},
     "output_type": "display_data"
    },
    {
     "name": "stdout",
     "output_type": "stream",
     "text": [
      " 67%|██████▋   | 454/682 [02:19<01:10,  3.26it/s, loss=0.778]"
     ]
    }
   ],
   "source": [
    "learn.lr_find()"
   ]
  },
  {
   "cell_type": "code",
   "execution_count": 42,
   "metadata": {},
   "outputs": [
    {
     "data": {
      "image/png": "[encoded data removed]",
      "text/plain": [
       "<matplotlib.figure.Figure at 0x7f46baffeda0>"
      ]
     },
     "metadata": {},
     "output_type": "display_data"
    }
   ],
   "source": [
    "learn.sched.plot_lr()"
   ]
  },
  {
   "cell_type": "code",
   "execution_count": 43,
   "metadata": {},
   "outputs": [
    {
     "data": {
      "image/png": "[encoded data removed]",
      "text/plain": [
       "<matplotlib.figure.Figure at 0x7f46baffeeb8>"
      ]
     },
     "metadata": {},
     "output_type": "display_data"
    }
   ],
   "source": [
    "learn.sched.plot()"
   ]
  },
  {
   "cell_type": "code",
   "execution_count": 44,
   "metadata": {},
   "outputs": [],
   "source": [
    "#LR is not expected to behave this way. It is expected to be high at smaller rates, curve down to a minimum,\n",
    "#....get noisy and rise again\n",
    "#See lesson 1 ipymb for example\n",
    "#In this case, the \"high\" section is not visible\n",
    "#Not possible to determine a better rate"
   ]
  },
  {
   "cell_type": "code",
   "execution_count": 53,
   "metadata": {},
   "outputs": [],
   "source": [
    "#learn.save('224_lastlayer_3')"
   ]
  },
  {
   "cell_type": "code",
   "execution_count": 54,
   "metadata": {
    "scrolled": true
   },
   "outputs": [],
   "source": [
    "#learn.precompute=False\n",
    "#learn.load('224_lastlayer_3')"
   ]
  },
  {
   "cell_type": "code",
   "execution_count": 45,
   "metadata": {},
   "outputs": [
    {
     "name": "stdout",
     "output_type": "stream",
     "text": [
      "                                                             \r"
     ]
    }
   ],
   "source": [
    "log_preds,y = learn.TTA(is_test=True)"
   ]
  },
  {
   "cell_type": "code",
   "execution_count": 58,
   "metadata": {},
   "outputs": [
    {
     "data": {
      "text/plain": [
       "(5, 10357, 120)"
      ]
     },
     "execution_count": 58,
     "metadata": {},
     "output_type": "execute_result"
    }
   ],
   "source": [
    "log_preds.shape"
   ]
  },
  {
   "cell_type": "code",
   "execution_count": 62,
   "metadata": {
    "scrolled": true
   },
   "outputs": [
    {
     "data": {
      "text/plain": [
       "(10357, 120)"
      ]
     },
     "execution_count": 62,
     "metadata": {},
     "output_type": "execute_result"
    }
   ],
   "source": [
    "np.mean(np.exp(log_preds),axis=0).shape"
   ]
  },
  {
   "cell_type": "code",
   "execution_count": 64,
   "metadata": {},
   "outputs": [],
   "source": [
    "preds = np.mean(np.exp(log_preds),axis=0)  #the mean/axis=0 is needed ONLY if using TTA, if just using .predict, don't use it.\n",
    "probs_df = pd.DataFrame(preds)\n",
    "\n",
    "####Column Headers\n",
    "DogNames = data.classes\n",
    "ColNums = probs_df.columns.values\n",
    "col_rename_dict = {i:j for i,j in zip(ColNums,DogNames)}\n",
    "probs_df.rename(col_rename_dict,axis=1,inplace=True)\n",
    "\n",
    "###Row Indexes\n",
    "SUB = pd.read_csv('./data/dogbreeds/submission.csv')\n",
    "FileNames = SUB.file.apply(lambda x: x[0:-4])\n",
    "probs_df.set_index(FileNames,inplace=True)\n",
    "probs_df.index.rename('id',inplace=True)"
   ]
  },
  {
   "cell_type": "code",
   "execution_count": 65,
   "metadata": {},
   "outputs": [],
   "source": [
    "###In Submission Format\n",
    "probs_df.to_csv('./data/dogbreeds/Submission3a.csv')"
   ]
  },
  {
   "cell_type": "markdown",
   "metadata": {},
   "source": [
    "### Local test result: 0.24392 (93.1774%)\n",
    "### KAGGLE RESULT: 0.24602 (% not returned)"
   ]
  },
  {
   "cell_type": "markdown",
   "metadata": {},
   "source": [
    "* unfreeze the non-last layers, then run some epochs this way\n",
    "* base LR Discovered from the super noise find_lr above... it's 1e-2 in the default set up\n",
    "* I do not have an intuition for whether a lr this small will benefit the accuracy\n",
    "* And I am still uncertain about the noise in the lr find function"
   ]
  },
  {
   "cell_type": "code",
   "execution_count": 56,
   "metadata": {},
   "outputs": [],
   "source": [
    "learn.unfreeze()"
   ]
  },
  {
   "cell_type": "code",
   "execution_count": 57,
   "metadata": {},
   "outputs": [],
   "source": [
    "lr = 7e-5  \n",
    "#these fractions can be bigger if needed, esp. when dealing with non-imagenet data sets\n",
    "lr=np.array([lr/18,lr/6,lr/2])"
   ]
  },
  {
   "cell_type": "code",
   "execution_count": 58,
   "metadata": {
    "scrolled": true
   },
   "outputs": [
    {
     "data": {
      "application/vnd.jupyter.widget-view+json": {
       "model_id": "05dae949764d471f8ab873bf0b871062",
       "version_major": 2,
       "version_minor": 0
      },
      "text/html": [
       "<p>Failed to display Jupyter Widget of type <code>HBox</code>.</p>\n",
       "<p>\n",
       "  If you're reading this message in the Jupyter Notebook or JupyterLab Notebook, it may mean\n",
       "  that the widgets JavaScript is still loading. If this message persists, it\n",
       "  likely means that the widgets JavaScript library is either not installed or\n",
       "  not enabled. See the <a href=\"https://ipywidgets.readthedocs.io/en/stable/user_install.html\">Jupyter\n",
       "  Widgets Documentation</a> for setup instructions.\n",
       "</p>\n",
       "<p>\n",
       "  If you're reading this message in another frontend (for example, a static\n",
       "  rendering on GitHub or <a href=\"https://nbviewer.jupyter.org/\">NBViewer</a>),\n",
       "  it may mean that your frontend doesn't currently support widgets.\n",
       "</p>\n"
      ],
      "text/plain": [
       "HBox(children=(IntProgress(value=0, description='Epoch', max=7), HTML(value='')))"
      ]
     },
     "metadata": {},
     "output_type": "display_data"
    },
    {
     "name": "stdout",
     "output_type": "stream",
     "text": [
      "epoch      trn_loss   val_loss   accuracy                    \n",
      "    0      0.615545   0.385599   0.893762  \n",
      "    1      0.538595   0.338607   0.903021                    \n",
      "    2      0.579779   0.348049   0.903021                    \n",
      "    3      0.492173   0.322735   0.905945                    \n",
      "    4      0.421928   0.313696   0.913743                    \n",
      "    5      0.435209   0.301242   0.91423                     \n",
      "    6      0.447088   0.328872   0.912768                    \n",
      "\n"
     ]
    },
    {
     "data": {
      "text/plain": [
       "[0.32887208, 0.91276803490711234]"
      ]
     },
     "execution_count": 58,
     "metadata": {},
     "output_type": "execute_result"
    }
   ],
   "source": [
    "learn.fit(lr,3,cycle_len=1,cycle_mult=2)  #3"
   ]
  },
  {
   "cell_type": "code",
   "execution_count": 59,
   "metadata": {},
   "outputs": [],
   "source": [
    "learn.save('224_unfrozenlayers_3')"
   ]
  },
  {
   "cell_type": "code",
   "execution_count": 62,
   "metadata": {},
   "outputs": [],
   "source": [
    "learn.precompute=False\n",
    "learn.load('224_unfrozenlayers_3')"
   ]
  },
  {
   "cell_type": "code",
   "execution_count": 60,
   "metadata": {},
   "outputs": [
    {
     "data": {
      "application/vnd.jupyter.widget-view+json": {
       "model_id": "f9764bb30a79404cae8e7feb24991f43",
       "version_major": 2,
       "version_minor": 0
      },
      "text/html": [
       "<p>Failed to display Jupyter Widget of type <code>HBox</code>.</p>\n",
       "<p>\n",
       "  If you're reading this message in the Jupyter Notebook or JupyterLab Notebook, it may mean\n",
       "  that the widgets JavaScript is still loading. If this message persists, it\n",
       "  likely means that the widgets JavaScript library is either not installed or\n",
       "  not enabled. See the <a href=\"https://ipywidgets.readthedocs.io/en/stable/user_install.html\">Jupyter\n",
       "  Widgets Documentation</a> for setup instructions.\n",
       "</p>\n",
       "<p>\n",
       "  If you're reading this message in another frontend (for example, a static\n",
       "  rendering on GitHub or <a href=\"https://nbviewer.jupyter.org/\">NBViewer</a>),\n",
       "  it may mean that your frontend doesn't currently support widgets.\n",
       "</p>\n"
      ],
      "text/plain": [
       "HBox(children=(IntProgress(value=0, description='Epoch', max=1), HTML(value='')))"
      ]
     },
     "metadata": {},
     "output_type": "display_data"
    },
    {
     "name": "stdout",
     "output_type": "stream",
     "text": [
      " 62%|██████▏   | 424/682 [07:37<04:38,  1.08s/it, loss=1.61] "
     ]
    }
   ],
   "source": [
    "learn.lr_find(1e-8)"
   ]
  },
  {
   "cell_type": "code",
   "execution_count": 61,
   "metadata": {},
   "outputs": [
    {
     "data": {
      "image/png": "[encoded data removed]",
      "text/plain": [
       "<matplotlib.figure.Figure at 0x7f5bb1b45908>"
      ]
     },
     "metadata": {},
     "output_type": "display_data"
    }
   ],
   "source": [
    "learn.sched.plot()"
   ]
  },
  {
   "cell_type": "code",
   "execution_count": 63,
   "metadata": {
    "scrolled": false
   },
   "outputs": [
    {
     "data": {
      "application/vnd.jupyter.widget-view+json": {
       "model_id": "55457f7697d943e0b56a82cf3fa653c0",
       "version_major": 2,
       "version_minor": 0
      },
      "text/html": [
       "<p>Failed to display Jupyter Widget of type <code>HBox</code>.</p>\n",
       "<p>\n",
       "  If you're reading this message in the Jupyter Notebook or JupyterLab Notebook, it may mean\n",
       "  that the widgets JavaScript is still loading. If this message persists, it\n",
       "  likely means that the widgets JavaScript library is either not installed or\n",
       "  not enabled. See the <a href=\"https://ipywidgets.readthedocs.io/en/stable/user_install.html\">Jupyter\n",
       "  Widgets Documentation</a> for setup instructions.\n",
       "</p>\n",
       "<p>\n",
       "  If you're reading this message in another frontend (for example, a static\n",
       "  rendering on GitHub or <a href=\"https://nbviewer.jupyter.org/\">NBViewer</a>),\n",
       "  it may mean that your frontend doesn't currently support widgets.\n",
       "</p>\n"
      ],
      "text/plain": [
       "HBox(children=(IntProgress(value=0, description='Epoch', max=2), HTML(value='')))"
      ]
     },
     "metadata": {},
     "output_type": "display_data"
    },
    {
     "name": "stdout",
     "output_type": "stream",
     "text": [
      "  1%|          | 6/682 [00:06<12:25,  1.10s/it, loss=0.626] \n",
      "  1%|          | 6/682 [00:07<14:26,  1.28s/it, loss=0.574]"
     ]
    },
    {
     "name": "stderr",
     "output_type": "stream",
     "text": [
      "Exception in thread Thread-13:\n",
      "Traceback (most recent call last):\n",
      "  File \"/home/paperspace/anaconda3/envs/fastai/lib/python3.6/threading.py\", line 916, in _bootstrap_inner\n",
      "    self.run()\n",
      "  File \"/home/paperspace/anaconda3/envs/fastai/lib/python3.6/site-packages/tqdm/_tqdm.py\", line 144, in run\n",
      "    for instance in self.tqdm_cls._instances:\n",
      "  File \"/home/paperspace/anaconda3/envs/fastai/lib/python3.6/_weakrefset.py\", line 60, in __iter__\n",
      "    for itemref in self.data:\n",
      "RuntimeError: Set changed size during iteration\n",
      "\n"
     ]
    },
    {
     "name": "stdout",
     "output_type": "stream",
     "text": [
      "epoch      trn_loss   val_loss   accuracy                    \n",
      "    0      0.463748   0.309133   0.915692  \n",
      "    1      0.379743   0.298114   0.914717                    \n",
      "\n"
     ]
    },
    {
     "data": {
      "text/plain": [
       "[0.29811355, 0.91471735322684578]"
      ]
     },
     "execution_count": 63,
     "metadata": {},
     "output_type": "execute_result"
    }
   ],
   "source": [
    "learn.fit(3e-5,2,cycle_mult=1)  #1e-2"
   ]
  },
  {
   "cell_type": "code",
   "execution_count": 65,
   "metadata": {},
   "outputs": [],
   "source": [
    "learn.save('224_mid_3') #save here so I can come back to it if I wish."
   ]
  },
  {
   "cell_type": "code",
   "execution_count": 66,
   "metadata": {},
   "outputs": [
    {
     "data": {
      "application/vnd.jupyter.widget-view+json": {
       "model_id": "0f8eb9b020d8454484a62df9ec5cd4f2",
       "version_major": 2,
       "version_minor": 0
      },
      "text/html": [
       "<p>Failed to display Jupyter Widget of type <code>HBox</code>.</p>\n",
       "<p>\n",
       "  If you're reading this message in the Jupyter Notebook or JupyterLab Notebook, it may mean\n",
       "  that the widgets JavaScript is still loading. If this message persists, it\n",
       "  likely means that the widgets JavaScript library is either not installed or\n",
       "  not enabled. See the <a href=\"https://ipywidgets.readthedocs.io/en/stable/user_install.html\">Jupyter\n",
       "  Widgets Documentation</a> for setup instructions.\n",
       "</p>\n",
       "<p>\n",
       "  If you're reading this message in another frontend (for example, a static\n",
       "  rendering on GitHub or <a href=\"https://nbviewer.jupyter.org/\">NBViewer</a>),\n",
       "  it may mean that your frontend doesn't currently support widgets.\n",
       "</p>\n"
      ],
      "text/plain": [
       "HBox(children=(IntProgress(value=0, description='Epoch', max=1), HTML(value='')))"
      ]
     },
     "metadata": {},
     "output_type": "display_data"
    },
    {
     "name": "stdout",
     "output_type": "stream",
     "text": [
      " 49%|████▉     | 333/682 [06:01<06:18,  1.09s/it, loss=1.33] "
     ]
    }
   ],
   "source": [
    "learn.lr_find(1e-6)"
   ]
  },
  {
   "cell_type": "code",
   "execution_count": 67,
   "metadata": {
    "scrolled": true
   },
   "outputs": [
    {
     "data": {
      "image/png": "[encoded data removed]",
      "text/plain": [
       "<matplotlib.figure.Figure at 0x7f5bb00f1198>"
      ]
     },
     "metadata": {},
     "output_type": "display_data"
    }
   ],
   "source": [
    "learn.sched.plot()"
   ]
  },
  {
   "cell_type": "code",
   "execution_count": 71,
   "metadata": {
    "scrolled": false
   },
   "outputs": [
    {
     "data": {
      "application/vnd.jupyter.widget-view+json": {
       "model_id": "d03e9acfab3b452789a45f096b79c4bc",
       "version_major": 2,
       "version_minor": 0
      },
      "text/html": [
       "<p>Failed to display Jupyter Widget of type <code>HBox</code>.</p>\n",
       "<p>\n",
       "  If you're reading this message in the Jupyter Notebook or JupyterLab Notebook, it may mean\n",
       "  that the widgets JavaScript is still loading. If this message persists, it\n",
       "  likely means that the widgets JavaScript library is either not installed or\n",
       "  not enabled. See the <a href=\"https://ipywidgets.readthedocs.io/en/stable/user_install.html\">Jupyter\n",
       "  Widgets Documentation</a> for setup instructions.\n",
       "</p>\n",
       "<p>\n",
       "  If you're reading this message in another frontend (for example, a static\n",
       "  rendering on GitHub or <a href=\"https://nbviewer.jupyter.org/\">NBViewer</a>),\n",
       "  it may mean that your frontend doesn't currently support widgets.\n",
       "</p>\n"
      ],
      "text/plain": [
       "HBox(children=(IntProgress(value=0, description='Epoch', max=1), HTML(value='')))"
      ]
     },
     "metadata": {},
     "output_type": "display_data"
    },
    {
     "name": "stdout",
     "output_type": "stream",
     "text": [
      "epoch      trn_loss   val_loss   accuracy                    \n",
      "    0      0.344764   0.303109   0.918616  \n",
      "\n"
     ]
    },
    {
     "data": {
      "text/plain": [
       "[0.30310947, 0.91861598812348666]"
      ]
     },
     "execution_count": 71,
     "metadata": {},
     "output_type": "execute_result"
    }
   ],
   "source": [
    "learn.fit(1e-5,1,cycle_mult=1)  #1e-2"
   ]
  },
  {
   "cell_type": "code",
   "execution_count": 72,
   "metadata": {},
   "outputs": [],
   "source": [
    "learn.save('224_mid2_3')"
   ]
  },
  {
   "cell_type": "code",
   "execution_count": 73,
   "metadata": {},
   "outputs": [
    {
     "data": {
      "application/vnd.jupyter.widget-view+json": {
       "model_id": "7620c30370fb4ae4baa7d0b8f16b2cdb",
       "version_major": 2,
       "version_minor": 0
      },
      "text/html": [
       "<p>Failed to display Jupyter Widget of type <code>HBox</code>.</p>\n",
       "<p>\n",
       "  If you're reading this message in the Jupyter Notebook or JupyterLab Notebook, it may mean\n",
       "  that the widgets JavaScript is still loading. If this message persists, it\n",
       "  likely means that the widgets JavaScript library is either not installed or\n",
       "  not enabled. See the <a href=\"https://ipywidgets.readthedocs.io/en/stable/user_install.html\">Jupyter\n",
       "  Widgets Documentation</a> for setup instructions.\n",
       "</p>\n",
       "<p>\n",
       "  If you're reading this message in another frontend (for example, a static\n",
       "  rendering on GitHub or <a href=\"https://nbviewer.jupyter.org/\">NBViewer</a>),\n",
       "  it may mean that your frontend doesn't currently support widgets.\n",
       "</p>\n"
      ],
      "text/plain": [
       "HBox(children=(IntProgress(value=0, description='Epoch', max=1), HTML(value='')))"
      ]
     },
     "metadata": {},
     "output_type": "display_data"
    },
    {
     "name": "stdout",
     "output_type": "stream",
     "text": [
      "epoch      trn_loss   val_loss   accuracy                    \n",
      "    0      0.385133   0.287444   0.920565  \n",
      "\n"
     ]
    },
    {
     "data": {
      "text/plain": [
       "[0.28744367, 0.92056530574608963]"
      ]
     },
     "execution_count": 73,
     "metadata": {},
     "output_type": "execute_result"
    }
   ],
   "source": [
    "learn.fit(1e-5,1,cycle_mult=1)  #1e-2\n"
   ]
  },
  {
   "cell_type": "code",
   "execution_count": 74,
   "metadata": {},
   "outputs": [],
   "source": [
    "learn.save('224_mid3_3')"
   ]
  },
  {
   "cell_type": "code",
   "execution_count": 75,
   "metadata": {},
   "outputs": [],
   "source": [
    "learn.load('224_mid2_3')"
   ]
  },
  {
   "cell_type": "code",
   "execution_count": 76,
   "metadata": {},
   "outputs": [
    {
     "name": "stdout",
     "output_type": "stream",
     "text": [
      "                                              \r"
     ]
    }
   ],
   "source": [
    "log_preds,y = learn.TTA(is_test=True)\n",
    "#TTA means test time augmentation. It makes a whole bunch of augments to help improve accuracy"
   ]
  },
  {
   "cell_type": "code",
   "execution_count": 77,
   "metadata": {},
   "outputs": [],
   "source": [
    "preds = np.mean(np.exp(log_preds),axis=0)  #the mean/axis=0 is needed ONLY if using TTA, if just using .predict, don't use it.\n",
    "probs_df = pd.DataFrame(preds)\n",
    "\n",
    "####Column Headers\n",
    "DogNames = data.classes\n",
    "ColNums = probs_df.columns.values\n",
    "col_rename_dict = {i:j for i,j in zip(ColNums,DogNames)}\n",
    "probs_df.rename(col_rename_dict,axis=1,inplace=True)\n",
    "\n",
    "###Row Indexes\n",
    "SUB = pd.read_csv('./data/dogbreeds/submission.csv')\n",
    "FileNames = SUB.file.apply(lambda x: x[0:-4])\n",
    "probs_df.set_index(FileNames,inplace=True)\n",
    "probs_df.index.rename('id',inplace=True)\n",
    "\n",
    "###In Submission Format\n",
    "probs_df.to_csv('./data/dogbreeds/Submission3b.csv')"
   ]
  },
  {
   "cell_type": "code",
   "execution_count": 78,
   "metadata": {},
   "outputs": [],
   "source": [
    "trn_tfms, val_tfms = tfms_from_model(arch,sz)\n",
    "\n",
    "def predictSingleImage(fn):\n",
    "    im = val_tfms(open_image(f'{PATH}'+fn)) # Load Image using fastai open_image in dataset.py\n",
    "    learn.precompute=False # We’ll pass in a raw image, not activations\n",
    "    log_preds_single = learn.predict_array(im[None]) # Predict Image\n",
    "    maxP = np.argmax(log_preds_single,axis=1) # Pick the index with highest log probability\n",
    "    probs_single = np.exp(log_preds_single) # If you want the probabilities of the classes\n",
    "    actualclass = data.classes[maxP[0]] # Look up tactualPT   return actualclass\n",
    "    return actualclass"
   ]
  },
  {
   "cell_type": "code",
   "execution_count": 79,
   "metadata": {},
   "outputs": [
    {
     "data": {
      "text/plain": [
       "'border_collie'"
      ]
     },
     "execution_count": 79,
     "metadata": {},
     "output_type": "execute_result"
    }
   ],
   "source": [
    "#Phae is a australian border collie/blue tick heeler mix\n",
    "predictSingleImage('Dogs/Phaedra.jpg')"
   ]
  },
  {
   "cell_type": "code",
   "execution_count": 80,
   "metadata": {},
   "outputs": [
    {
     "data": {
      "text/plain": [
       "'yorkshire_terrier'"
      ]
     },
     "execution_count": 80,
     "metadata": {},
     "output_type": "execute_result"
    }
   ],
   "source": [
    "#We're not sure what Rooney is, but he looks a lot like a yorkshire terrier\n",
    "predictSingleImage('Dogs/Rooney1.jpg')"
   ]
  },
  {
   "cell_type": "code",
   "execution_count": 81,
   "metadata": {},
   "outputs": [
    {
     "data": {
      "text/plain": [
       "'yorkshire_terrier'"
      ]
     },
     "execution_count": 81,
     "metadata": {},
     "output_type": "execute_result"
    }
   ],
   "source": [
    "predictSingleImage('Dogs/Rooney2.jpg')"
   ]
  },
  {
   "cell_type": "code",
   "execution_count": 82,
   "metadata": {},
   "outputs": [
    {
     "data": {
      "text/plain": [
       "'eskimo_dog'"
      ]
     },
     "execution_count": 82,
     "metadata": {},
     "output_type": "execute_result"
    }
   ],
   "source": [
    "#Mal is a husky.... last model id'd him correctly.\n",
    "predictSingleImage('Dogs/Malachi.jpg')"
   ]
  },
  {
   "cell_type": "code",
   "execution_count": 83,
   "metadata": {},
   "outputs": [],
   "source": [
    "#presub = pd.DataFrame({'file': os.listdir(f'{PATH}test'), 'species': preds_classes})"
   ]
  },
  {
   "cell_type": "code",
   "execution_count": 84,
   "metadata": {
    "scrolled": true
   },
   "outputs": [],
   "source": [
    "#classes = pd.DataFrame(preds_classes)"
   ]
  },
  {
   "cell_type": "code",
   "execution_count": 85,
   "metadata": {},
   "outputs": [],
   "source": [
    "#submission = pd.DataFrame({'file': os.listdir(f'{PATH}test'), 'species': preds_classes})\n",
    "#submission.to_csv('data/dogbreeds/submission.csv', index=False)\n"
   ]
  },
  {
   "cell_type": "code",
   "execution_count": 86,
   "metadata": {},
   "outputs": [],
   "source": [
    "learn.save('224_end_3')"
   ]
  },
  {
   "cell_type": "code",
   "execution_count": 87,
   "metadata": {},
   "outputs": [],
   "source": [
    "learn.save('224_end_3')"
   ]
  },
  {
   "cell_type": "code",
   "execution_count": 88,
   "metadata": {},
   "outputs": [],
   "source": [
    "learn.precompute=False\n",
    "learn.load('224_end_3')"
   ]
  },
  {
   "cell_type": "markdown",
   "metadata": {},
   "source": [
    "### KAGGLE RESULT: 0.27121"
   ]
  },
  {
   "cell_type": "markdown",
   "metadata": {},
   "source": [
    "__INCREASE SIZE and run extra epochs to reduce overfitting:__"
   ]
  },
  {
   "cell_type": "code",
   "execution_count": 89,
   "metadata": {},
   "outputs": [
    {
     "data": {
      "application/vnd.jupyter.widget-view+json": {
       "model_id": "567be8a295714d40af4d7a317479673c",
       "version_major": 2,
       "version_minor": 0
      },
      "text/html": [
       "<p>Failed to display Jupyter Widget of type <code>HBox</code>.</p>\n",
       "<p>\n",
       "  If you're reading this message in the Jupyter Notebook or JupyterLab Notebook, it may mean\n",
       "  that the widgets JavaScript is still loading. If this message persists, it\n",
       "  likely means that the widgets JavaScript library is either not installed or\n",
       "  not enabled. See the <a href=\"https://ipywidgets.readthedocs.io/en/stable/user_install.html\">Jupyter\n",
       "  Widgets Documentation</a> for setup instructions.\n",
       "</p>\n",
       "<p>\n",
       "  If you're reading this message in another frontend (for example, a static\n",
       "  rendering on GitHub or <a href=\"https://nbviewer.jupyter.org/\">NBViewer</a>),\n",
       "  it may mean that your frontend doesn't currently support widgets.\n",
       "</p>\n"
      ],
      "text/plain": [
       "HBox(children=(IntProgress(value=0, max=6), HTML(value='')))"
      ]
     },
     "metadata": {},
     "output_type": "display_data"
    },
    {
     "name": "stdout",
     "output_type": "stream",
     "text": [
      "\n"
     ]
    }
   ],
   "source": [
    "learn.set_data(get_data(299,bs)) #<---- cray cray results, NEW INSIGHT!!\n",
    "learn.freeze()      #few more epoch with 299...  change size, way to get around overfitting!"
   ]
  },
  {
   "cell_type": "code",
   "execution_count": 90,
   "metadata": {},
   "outputs": [
    {
     "data": {
      "application/vnd.jupyter.widget-view+json": {
       "model_id": "e5d02f9ed17541b4aea8063d59d8c683",
       "version_major": 2,
       "version_minor": 0
      },
      "text/html": [
       "<p>Failed to display Jupyter Widget of type <code>HBox</code>.</p>\n",
       "<p>\n",
       "  If you're reading this message in the Jupyter Notebook or JupyterLab Notebook, it may mean\n",
       "  that the widgets JavaScript is still loading. If this message persists, it\n",
       "  likely means that the widgets JavaScript library is either not installed or\n",
       "  not enabled. See the <a href=\"https://ipywidgets.readthedocs.io/en/stable/user_install.html\">Jupyter\n",
       "  Widgets Documentation</a> for setup instructions.\n",
       "</p>\n",
       "<p>\n",
       "  If you're reading this message in another frontend (for example, a static\n",
       "  rendering on GitHub or <a href=\"https://nbviewer.jupyter.org/\">NBViewer</a>),\n",
       "  it may mean that your frontend doesn't currently support widgets.\n",
       "</p>\n"
      ],
      "text/plain": [
       "HBox(children=(IntProgress(value=0, description='Epoch', max=1), HTML(value='')))"
      ]
     },
     "metadata": {},
     "output_type": "display_data"
    },
    {
     "name": "stdout",
     "output_type": "stream",
     "text": [
      " 72%|███████▏  | 494/682 [04:24<01:40,  1.87it/s, loss=0.743]"
     ]
    }
   ],
   "source": [
    "learn.lr_find(1e-6)"
   ]
  },
  {
   "cell_type": "code",
   "execution_count": 91,
   "metadata": {
    "scrolled": true
   },
   "outputs": [
    {
     "data": {
      "image/png": "[encoded data removed]",
      "text/plain": [
       "<matplotlib.figure.Figure at 0x7f5bb1d7b630>"
      ]
     },
     "metadata": {},
     "output_type": "display_data"
    }
   ],
   "source": [
    "learn.sched.plot()"
   ]
  },
  {
   "cell_type": "code",
   "execution_count": 92,
   "metadata": {
    "scrolled": true
   },
   "outputs": [
    {
     "data": {
      "application/vnd.jupyter.widget-view+json": {
       "model_id": "d436248cb35e49d386183685a05bc515",
       "version_major": 2,
       "version_minor": 0
      },
      "text/html": [
       "<p>Failed to display Jupyter Widget of type <code>HBox</code>.</p>\n",
       "<p>\n",
       "  If you're reading this message in the Jupyter Notebook or JupyterLab Notebook, it may mean\n",
       "  that the widgets JavaScript is still loading. If this message persists, it\n",
       "  likely means that the widgets JavaScript library is either not installed or\n",
       "  not enabled. See the <a href=\"https://ipywidgets.readthedocs.io/en/stable/user_install.html\">Jupyter\n",
       "  Widgets Documentation</a> for setup instructions.\n",
       "</p>\n",
       "<p>\n",
       "  If you're reading this message in another frontend (for example, a static\n",
       "  rendering on GitHub or <a href=\"https://nbviewer.jupyter.org/\">NBViewer</a>),\n",
       "  it may mean that your frontend doesn't currently support widgets.\n",
       "</p>\n"
      ],
      "text/plain": [
       "HBox(children=(IntProgress(value=0, description='Epoch', max=3), HTML(value='')))"
      ]
     },
     "metadata": {},
     "output_type": "display_data"
    },
    {
     "name": "stdout",
     "output_type": "stream",
     "text": [
      "  1%|          | 5/682 [00:02<06:25,  1.76it/s, loss=0.252]  \n",
      "  1%|          | 6/682 [00:03<06:22,  1.77it/s, loss=0.251]"
     ]
    },
    {
     "name": "stderr",
     "output_type": "stream",
     "text": [
      "Exception in thread Thread-25:\n",
      "Traceback (most recent call last):\n",
      "  File \"/home/paperspace/anaconda3/envs/fastai/lib/python3.6/threading.py\", line 916, in _bootstrap_inner\n",
      "    self.run()\n",
      "  File \"/home/paperspace/anaconda3/envs/fastai/lib/python3.6/site-packages/tqdm/_tqdm.py\", line 144, in run\n",
      "    for instance in self.tqdm_cls._instances:\n",
      "  File \"/home/paperspace/anaconda3/envs/fastai/lib/python3.6/_weakrefset.py\", line 60, in __iter__\n",
      "    for itemref in self.data:\n",
      "RuntimeError: Set changed size during iteration\n",
      "\n"
     ]
    },
    {
     "name": "stdout",
     "output_type": "stream",
     "text": [
      "epoch      trn_loss   val_loss   accuracy                    \n",
      "    0      0.239259   0.26969    0.916179  \n",
      "    1      0.263454   0.273358   0.916179                    \n",
      "    2      0.289109   0.269532   0.914717                    \n",
      "\n"
     ]
    },
    {
     "data": {
      "text/plain": [
       "[0.26953211, 0.91471735183258507]"
      ]
     },
     "execution_count": 92,
     "metadata": {},
     "output_type": "execute_result"
    }
   ],
   "source": [
    "learn.fit(3e-4,3,cycle_len=1)    "
   ]
  },
  {
   "cell_type": "code",
   "execution_count": 93,
   "metadata": {},
   "outputs": [
    {
     "data": {
      "application/vnd.jupyter.widget-view+json": {
       "model_id": "c81bb18682754d3d872a491b3faa6b48",
       "version_major": 2,
       "version_minor": 0
      },
      "text/html": [
       "<p>Failed to display Jupyter Widget of type <code>HBox</code>.</p>\n",
       "<p>\n",
       "  If you're reading this message in the Jupyter Notebook or JupyterLab Notebook, it may mean\n",
       "  that the widgets JavaScript is still loading. If this message persists, it\n",
       "  likely means that the widgets JavaScript library is either not installed or\n",
       "  not enabled. See the <a href=\"https://ipywidgets.readthedocs.io/en/stable/user_install.html\">Jupyter\n",
       "  Widgets Documentation</a> for setup instructions.\n",
       "</p>\n",
       "<p>\n",
       "  If you're reading this message in another frontend (for example, a static\n",
       "  rendering on GitHub or <a href=\"https://nbviewer.jupyter.org/\">NBViewer</a>),\n",
       "  it may mean that your frontend doesn't currently support widgets.\n",
       "</p>\n"
      ],
      "text/plain": [
       "HBox(children=(IntProgress(value=0, description='Epoch', max=1), HTML(value='')))"
      ]
     },
     "metadata": {},
     "output_type": "display_data"
    },
    {
     "name": "stdout",
     "output_type": "stream",
     "text": [
      " 67%|██████▋   | 457/682 [04:04<02:00,  1.87it/s, loss=0.839]"
     ]
    }
   ],
   "source": [
    "learn.lr_find()"
   ]
  },
  {
   "cell_type": "code",
   "execution_count": 94,
   "metadata": {},
   "outputs": [
    {
     "data": {
      "image/png": "[encoded data removed]",
      "text/plain": [
       "<matplotlib.figure.Figure at 0x7f5b971b1a90>"
      ]
     },
     "metadata": {},
     "output_type": "display_data"
    }
   ],
   "source": [
    "learn.sched.plot_lr()"
   ]
  },
  {
   "cell_type": "code",
   "execution_count": 95,
   "metadata": {},
   "outputs": [
    {
     "data": {
      "image/png": "[encoded data removed]",
      "text/plain": [
       "<matplotlib.figure.Figure at 0x7f5bb0075748>"
      ]
     },
     "metadata": {},
     "output_type": "display_data"
    }
   ],
   "source": [
    "learn.sched.plot()"
   ]
  },
  {
   "cell_type": "code",
   "execution_count": 97,
   "metadata": {},
   "outputs": [],
   "source": [
    "learn.save('299_pre_3')"
   ]
  },
  {
   "cell_type": "code",
   "execution_count": 98,
   "metadata": {},
   "outputs": [
    {
     "data": {
      "application/vnd.jupyter.widget-view+json": {
       "model_id": "68f9f25cdcd647b8b274ae025d4e5296",
       "version_major": 2,
       "version_minor": 0
      },
      "text/html": [
       "<p>Failed to display Jupyter Widget of type <code>HBox</code>.</p>\n",
       "<p>\n",
       "  If you're reading this message in the Jupyter Notebook or JupyterLab Notebook, it may mean\n",
       "  that the widgets JavaScript is still loading. If this message persists, it\n",
       "  likely means that the widgets JavaScript library is either not installed or\n",
       "  not enabled. See the <a href=\"https://ipywidgets.readthedocs.io/en/stable/user_install.html\">Jupyter\n",
       "  Widgets Documentation</a> for setup instructions.\n",
       "</p>\n",
       "<p>\n",
       "  If you're reading this message in another frontend (for example, a static\n",
       "  rendering on GitHub or <a href=\"https://nbviewer.jupyter.org/\">NBViewer</a>),\n",
       "  it may mean that your frontend doesn't currently support widgets.\n",
       "</p>\n"
      ],
      "text/plain": [
       "HBox(children=(IntProgress(value=0, description='Epoch', max=1), HTML(value='')))"
      ]
     },
     "metadata": {},
     "output_type": "display_data"
    },
    {
     "name": "stdout",
     "output_type": "stream",
     "text": [
      "  2%|▏         | 11/682 [00:06<06:26,  1.74it/s, loss=0.179] \n"
     ]
    },
    {
     "name": "stderr",
     "output_type": "stream",
     "text": [
      "Exception in thread Thread-29:\n",
      "Traceback (most recent call last):\n",
      "  File \"/home/paperspace/anaconda3/envs/fastai/lib/python3.6/threading.py\", line 916, in _bootstrap_inner\n",
      "    self.run()\n",
      "  File \"/home/paperspace/anaconda3/envs/fastai/lib/python3.6/site-packages/tqdm/_tqdm.py\", line 144, in run\n",
      "    for instance in self.tqdm_cls._instances:\n",
      "  File \"/home/paperspace/anaconda3/envs/fastai/lib/python3.6/_weakrefset.py\", line 60, in __iter__\n",
      "    for itemref in self.data:\n",
      "RuntimeError: Set changed size during iteration\n",
      "\n"
     ]
    },
    {
     "name": "stdout",
     "output_type": "stream",
     "text": [
      "epoch      trn_loss   val_loss   accuracy                    \n",
      "    0      0.227508   0.273999   0.916179  \n",
      "\n"
     ]
    },
    {
     "data": {
      "text/plain": [
       "[0.27399927, 0.91617933978811339]"
      ]
     },
     "execution_count": 98,
     "metadata": {},
     "output_type": "execute_result"
    }
   ],
   "source": [
    "learn.fit(1e-5,1,cycle_mult=1)  #1e-2"
   ]
  },
  {
   "cell_type": "code",
   "execution_count": 99,
   "metadata": {},
   "outputs": [],
   "source": [
    "learn.save('299_pre2_3')"
   ]
  },
  {
   "cell_type": "code",
   "execution_count": 100,
   "metadata": {},
   "outputs": [
    {
     "data": {
      "application/vnd.jupyter.widget-view+json": {
       "model_id": "5a3eb740261b40d58c6adaacd0f25d79",
       "version_major": 2,
       "version_minor": 0
      },
      "text/html": [
       "<p>Failed to display Jupyter Widget of type <code>HBox</code>.</p>\n",
       "<p>\n",
       "  If you're reading this message in the Jupyter Notebook or JupyterLab Notebook, it may mean\n",
       "  that the widgets JavaScript is still loading. If this message persists, it\n",
       "  likely means that the widgets JavaScript library is either not installed or\n",
       "  not enabled. See the <a href=\"https://ipywidgets.readthedocs.io/en/stable/user_install.html\">Jupyter\n",
       "  Widgets Documentation</a> for setup instructions.\n",
       "</p>\n",
       "<p>\n",
       "  If you're reading this message in another frontend (for example, a static\n",
       "  rendering on GitHub or <a href=\"https://nbviewer.jupyter.org/\">NBViewer</a>),\n",
       "  it may mean that your frontend doesn't currently support widgets.\n",
       "</p>\n"
      ],
      "text/plain": [
       "HBox(children=(IntProgress(value=0, description='Epoch', max=7), HTML(value='')))"
      ]
     },
     "metadata": {},
     "output_type": "display_data"
    },
    {
     "name": "stdout",
     "output_type": "stream",
     "text": [
      "epoch      trn_loss   val_loss   accuracy                    \n",
      "    0      0.287212   0.274352   0.915692  \n",
      "    1      0.233176   0.271166   0.917154                    \n",
      "    2      0.250787   0.268268   0.919103                    \n",
      "    3      0.290948   0.270701   0.915692                    \n",
      "    4      0.28667    0.271059   0.919103                    \n",
      "    5      0.235957   0.273715   0.913255                    \n",
      "    6      0.239011   0.270897   0.919103                    \n",
      "\n"
     ]
    },
    {
     "data": {
      "text/plain": [
       "[0.27089721, 0.91910331639630061]"
      ]
     },
     "execution_count": 100,
     "metadata": {},
     "output_type": "execute_result"
    }
   ],
   "source": [
    "learn.fit(1e-5,3,cycle_len=1,cycle_mult=2)"
   ]
  },
  {
   "cell_type": "code",
   "execution_count": null,
   "metadata": {},
   "outputs": [],
   "source": []
  },
  {
   "cell_type": "code",
   "execution_count": 101,
   "metadata": {},
   "outputs": [],
   "source": [
    "learn.save('299_pre3_3')"
   ]
  },
  {
   "cell_type": "code",
   "execution_count": null,
   "metadata": {},
   "outputs": [],
   "source": [
    "learn.load('299_pre3_3')"
   ]
  },
  {
   "cell_type": "code",
   "execution_count": 102,
   "metadata": {},
   "outputs": [
    {
     "name": "stdout",
     "output_type": "stream",
     "text": [
      "                                              \r"
     ]
    }
   ],
   "source": [
    "log_preds,y = learn.TTA(is_test=True)\n",
    "#log_preds = learn.predict(is_test=True)"
   ]
  },
  {
   "cell_type": "code",
   "execution_count": 103,
   "metadata": {},
   "outputs": [],
   "source": [
    "preds = np.mean(np.exp(log_preds),axis=0)  #the mean/axis=0 is needed ONLY if using TTA, if just using .predict, don't use it.\n",
    "probs_df = pd.DataFrame(preds)\n",
    "\n",
    "FileNames = SUB.file.apply(lambda x: x[0:-4])\n",
    "probs_df.set_index(FileNames,inplace=True)\n",
    "####Column Headers\n",
    "DogNames = data.classes\n",
    "ColNums = probs_df.columns.values\n",
    "col_rename_dict = {i:j for i,j in zip(ColNums,DogNames)}\n",
    "probs_df.rename(col_rename_dict,axis=1,inplace=True)\n",
    "\n",
    "###Row Indexes\n",
    "SUB = pd.read_csv('./data/dogbreeds/submission.csv')\n",
    "probs_df.index.rename('id',inplace=True)\n",
    "\n",
    "###In Submission Format\n",
    "probs_df.to_csv('./data/dogbreeds/Submission3c.csv')"
   ]
  },
  {
   "cell_type": "markdown",
   "metadata": {},
   "source": [
    "### KAGGLE RESULT: 0.25343"
   ]
  },
  {
   "cell_type": "markdown",
   "metadata": {},
   "source": [
    "Slight improvement, but my submission 3a was better, with 0.24602"
   ]
  },
  {
   "cell_type": "markdown",
   "metadata": {},
   "source": [
    "https://www.kaggle.com/hamil168"
   ]
  },
  {
   "cell_type": "code",
   "execution_count": null,
   "metadata": {},
   "outputs": [],
   "source": []
  }
 ],
 "metadata": {
  "kernelspec": {
   "display_name": "Python 3",
   "language": "python",
   "name": "python3"
  },
  "language_info": {
   "codemirror_mode": {
    "name": "ipython",
    "version": 3
   },
   "file_extension": ".py",
   "mimetype": "text/x-python",
   "name": "python",
   "nbconvert_exporter": "python",
   "pygments_lexer": "ipython3",
   "version": "3.6.4"
  },
  "toc": {
   "colors": {
    "hover_highlight": "#DAA520",
    "navigate_num": "#000000",
    "navigate_text": "#333333",
    "running_highlight": "#FF0000",
    "selected_highlight": "#FFD700",
    "sidebar_border": "#EEEEEE",
    "wrapper_background": "#FFFFFF"
   },
   "moveMenuLeft": true,
   "nav_menu": {
    "height": "266px",
    "width": "252px"
   },
   "navigate_menu": true,
   "number_sections": true,
   "sideBar": true,
   "threshold": 4,
   "toc_cell": false,
   "toc_section_display": "block",
   "toc_window_display": false,
   "widenNotebook": false
  },
  "widgets": {
   "application/vnd.jupyter.widget-state+json": {
    "state": {
     "00b494a000954ce9a931fa73e19b41ac": {
      "model_module": "@jupyter-widgets/base",
      "model_module_version": "1.0.0",
      "model_name": "LayoutModel",
      "state": {}
     },
     "0174a96991124d49acfbb77a7206498e": {
      "model_module": "@jupyter-widgets/controls",
      "model_module_version": "1.0.0",
      "model_name": "IntProgressModel",
      "state": {
       "bar_style": "danger",
       "description": "Epoch",
       "layout": "IPY_MODEL_ddc59c07137e41f1887681e35025a8c0",
       "max": 5,
       "style": "IPY_MODEL_cc87b70ee1fe4cf6888058355b989cca"
      }
     },
     "030c9bea1aa24f8e8cbc0dfdd1684fff": {
      "model_module": "@jupyter-widgets/base",
      "model_module_version": "1.0.0",
      "model_name": "LayoutModel",
      "state": {}
     },
     "04a61c7ee7e746ee913bb24b2391658e": {
      "model_module": "@jupyter-widgets/base",
      "model_module_version": "1.0.0",
      "model_name": "LayoutModel",
      "state": {}
     },
     "04d339b3e906481997777f409781dd1d": {
      "model_module": "@jupyter-widgets/controls",
      "model_module_version": "1.0.0",
      "model_name": "HBoxModel",
      "state": {
       "children": [
        "IPY_MODEL_773b137449804e329cca1e4a98f912ed",
        "IPY_MODEL_dcfccd9759f54d89a919f115a0ba37e8"
       ],
       "layout": "IPY_MODEL_2a6e810344074f228f6b8cc3afc4a2d9"
      }
     },
     "05a5ede8364b40f98f9e89b45d1b0279": {
      "model_module": "@jupyter-widgets/base",
      "model_module_version": "1.0.0",
      "model_name": "LayoutModel",
      "state": {}
     },
     "06184fd1d0024aa591f934c7992cb1c0": {
      "model_module": "@jupyter-widgets/base",
      "model_module_version": "1.0.0",
      "model_name": "LayoutModel",
      "state": {}
     },
     "0777efb258a441d798503d7b1a80b774": {
      "model_module": "@jupyter-widgets/base",
      "model_module_version": "1.0.0",
      "model_name": "LayoutModel",
      "state": {}
     },
     "08d00f7f32504a6d91895f8312800f1c": {
      "model_module": "@jupyter-widgets/base",
      "model_module_version": "1.0.0",
      "model_name": "LayoutModel",
      "state": {}
     },
     "08d393237dfc4e44a5c61cc0c7e05bd6": {
      "model_module": "@jupyter-widgets/controls",
      "model_module_version": "1.0.0",
      "model_name": "ProgressStyleModel",
      "state": {
       "description_width": ""
      }
     },
     "0c282ab585044f98bc12688d7523bf75": {
      "model_module": "@jupyter-widgets/controls",
      "model_module_version": "1.0.0",
      "model_name": "IntProgressModel",
      "state": {
       "bar_style": "danger",
       "description": "Epoch",
       "layout": "IPY_MODEL_3ea0fa04cf354cf2ab856262d9ff756d",
       "max": 1,
       "style": "IPY_MODEL_73c788aabc3f4135a6b434668a86809d"
      }
     },
     "0de818de8ca84fce88635d3a3e9c0a57": {
      "model_module": "@jupyter-widgets/base",
      "model_module_version": "1.0.0",
      "model_name": "LayoutModel",
      "state": {}
     },
     "0fa8708ce19c406badcb0d6567686b47": {
      "model_module": "@jupyter-widgets/base",
      "model_module_version": "1.0.0",
      "model_name": "LayoutModel",
      "state": {}
     },
     "111d2d6fe30c4f0884fe35e448ca5282": {
      "model_module": "@jupyter-widgets/base",
      "model_module_version": "1.0.0",
      "model_name": "LayoutModel",
      "state": {}
     },
     "1237dba1313b4264911709892afdcc7a": {
      "model_module": "@jupyter-widgets/base",
      "model_module_version": "1.0.0",
      "model_name": "LayoutModel",
      "state": {}
     },
     "12a815db2a314f57b9b6e86f8276be5b": {
      "model_module": "@jupyter-widgets/controls",
      "model_module_version": "1.0.0",
      "model_name": "ProgressStyleModel",
      "state": {
       "description_width": ""
      }
     },
     "13542a54452e4148b91b0b300ed067a1": {
      "model_module": "@jupyter-widgets/controls",
      "model_module_version": "1.0.0",
      "model_name": "HTMLModel",
      "state": {
       "layout": "IPY_MODEL_918ce75e2e584736a34c5ac151a2940c",
       "style": "IPY_MODEL_d51fa33ea2da448693e7ab43fbb774e0",
       "value": "  0% 0/7 [00:00&lt;?, ?it/s]"
      }
     },
     "15147db642db43f59d5669b0afb4b40d": {
      "model_module": "@jupyter-widgets/base",
      "model_module_version": "1.0.0",
      "model_name": "LayoutModel",
      "state": {}
     },
     "154381a3e0ca46d8ac4c57a39260a2b4": {
      "model_module": "@jupyter-widgets/controls",
      "model_module_version": "1.0.0",
      "model_name": "IntProgressModel",
      "state": {
       "bar_style": "danger",
       "description": "Epoch",
       "layout": "IPY_MODEL_a73aca0201474e31a4e2f09eee336188",
       "max": 7,
       "style": "IPY_MODEL_9be12760776f4df18e3ee95ea954350f"
      }
     },
     "1546ed589bc94fc5876be4e1682970eb": {
      "model_module": "@jupyter-widgets/controls",
      "model_module_version": "1.0.0",
      "model_name": "DescriptionStyleModel",
      "state": {
       "description_width": ""
      }
     },
     "157a60326e24452f9a7c858f056ca019": {
      "model_module": "@jupyter-widgets/controls",
      "model_module_version": "1.0.0",
      "model_name": "IntProgressModel",
      "state": {
       "bar_style": "danger",
       "description": "Epoch",
       "layout": "IPY_MODEL_8744e03e34b14db9a4bb3b8860dab85e",
       "max": 1,
       "style": "IPY_MODEL_e973c79f6d4241b2aef68a8a60a29db2"
      }
     },
     "184acde421504a5885d900e4d56259a3": {
      "model_module": "@jupyter-widgets/base",
      "model_module_version": "1.0.0",
      "model_name": "LayoutModel",
      "state": {}
     },
     "195d254bf1c140bf836e8bf4d8c4fc4d": {
      "model_module": "@jupyter-widgets/controls",
      "model_module_version": "1.0.0",
      "model_name": "ProgressStyleModel",
      "state": {
       "description_width": ""
      }
     },
     "19be7f4bfb754d51a0ff79b0fb96cce4": {
      "model_module": "@jupyter-widgets/controls",
      "model_module_version": "1.0.0",
      "model_name": "ProgressStyleModel",
      "state": {
       "description_width": ""
      }
     },
     "19f42f936bbb4b17810a132d5950da71": {
      "model_module": "@jupyter-widgets/base",
      "model_module_version": "1.0.0",
      "model_name": "LayoutModel",
      "state": {}
     },
     "1b94c0bee4f2471e9a4b399f9298a12e": {
      "model_module": "@jupyter-widgets/base",
      "model_module_version": "1.0.0",
      "model_name": "LayoutModel",
      "state": {}
     },
     "1d310103b4cc47cdaa5c1ffcd53a2a50": {
      "model_module": "@jupyter-widgets/base",
      "model_module_version": "1.0.0",
      "model_name": "LayoutModel",
      "state": {}
     },
     "1ee5e81fad0045db80544aa2cfce87d4": {
      "model_module": "@jupyter-widgets/controls",
      "model_module_version": "1.0.0",
      "model_name": "HTMLModel",
      "state": {
       "layout": "IPY_MODEL_4106dc471adc4af388470db66bf7b15c",
       "style": "IPY_MODEL_7c58292fd8114551a8f90c6057e76778",
       "value": "100% 5/5 [22:00&lt;00:00, 264.10s/it]"
      }
     },
     "1f92b7a43caf4374af1d34b8280cffe6": {
      "model_module": "@jupyter-widgets/controls",
      "model_module_version": "1.0.0",
      "model_name": "HBoxModel",
      "state": {
       "children": [
        "IPY_MODEL_c51798b3e67b43f7987f2cf743202b10",
        "IPY_MODEL_4e21eb95d019409389055755be1cdba1"
       ],
       "layout": "IPY_MODEL_3374849d0db74f79af9c74061557b2fe"
      }
     },
     "2011b9c35e20401b8b264af3fe86e52a": {
      "model_module": "@jupyter-widgets/base",
      "model_module_version": "1.0.0",
      "model_name": "LayoutModel",
      "state": {}
     },
     "20389eeb16d941b6a2ea85ee7b2aade2": {
      "model_module": "@jupyter-widgets/controls",
      "model_module_version": "1.0.0",
      "model_name": "DescriptionStyleModel",
      "state": {
       "description_width": ""
      }
     },
     "216bad4b53ba436ba8d553ddbf2b2581": {
      "model_module": "@jupyter-widgets/controls",
      "model_module_version": "1.0.0",
      "model_name": "DescriptionStyleModel",
      "state": {
       "description_width": ""
      }
     },
     "21ad0c4ac09443628213ca9e89c62eec": {
      "model_module": "@jupyter-widgets/controls",
      "model_module_version": "1.0.0",
      "model_name": "HBoxModel",
      "state": {
       "children": [
        "IPY_MODEL_330e226f44e5411281635b2628843442",
        "IPY_MODEL_af9dffeb2ba64ba6b525daac30936f95"
       ],
       "layout": "IPY_MODEL_fecb60431e974defa3ed09feb5d7885e"
      }
     },
     "21dda04b950940429e86dd52c04ab986": {
      "model_module": "@jupyter-widgets/base",
      "model_module_version": "1.0.0",
      "model_name": "LayoutModel",
      "state": {}
     },
     "2448e21d4ef24b4e89635fd4a12800e5": {
      "model_module": "@jupyter-widgets/base",
      "model_module_version": "1.0.0",
      "model_name": "LayoutModel",
      "state": {}
     },
     "24f580f7954c4337a34876c5f059bd8d": {
      "model_module": "@jupyter-widgets/controls",
      "model_module_version": "1.0.0",
      "model_name": "HBoxModel",
      "state": {
       "children": [
        "IPY_MODEL_505c4fb9334b49adbc49123d36f04890",
        "IPY_MODEL_531f3058eba84694a6a93bfa9210367b"
       ],
       "layout": "IPY_MODEL_92884af6d8f649ee9dd4735d386635b5"
      }
     },
     "278081a7042644c8917a81b0aa0a7fe1": {
      "model_module": "@jupyter-widgets/controls",
      "model_module_version": "1.0.0",
      "model_name": "IntProgressModel",
      "state": {
       "bar_style": "danger",
       "description": "Epoch",
       "layout": "IPY_MODEL_0de818de8ca84fce88635d3a3e9c0a57",
       "max": 1,
       "style": "IPY_MODEL_a9155bf46b324076940690645de02111"
      }
     },
     "27c08d64de5c47f4a41a7049bdf90b7d": {
      "model_module": "@jupyter-widgets/controls",
      "model_module_version": "1.0.0",
      "model_name": "IntProgressModel",
      "state": {
       "bar_style": "success",
       "layout": "IPY_MODEL_030c9bea1aa24f8e8cbc0dfdd1684fff",
       "max": 6,
       "style": "IPY_MODEL_19be7f4bfb754d51a0ff79b0fb96cce4",
       "value": 6
      }
     },
     "2953adc68bb54528aa3a866c43312ab7": {
      "model_module": "@jupyter-widgets/base",
      "model_module_version": "1.0.0",
      "model_name": "LayoutModel",
      "state": {}
     },
     "29e1c8a837da4eaf9455ceccf94d3a55": {
      "model_module": "@jupyter-widgets/base",
      "model_module_version": "1.0.0",
      "model_name": "LayoutModel",
      "state": {}
     },
     "2a6e810344074f228f6b8cc3afc4a2d9": {
      "model_module": "@jupyter-widgets/base",
      "model_module_version": "1.0.0",
      "model_name": "LayoutModel",
      "state": {}
     },
     "2d211f6a39824e09993d42f5c74f321a": {
      "model_module": "@jupyter-widgets/controls",
      "model_module_version": "1.0.0",
      "model_name": "DescriptionStyleModel",
      "state": {
       "description_width": ""
      }
     },
     "2db731fbf07546b8b03c8c30d9c303ee": {
      "model_module": "@jupyter-widgets/controls",
      "model_module_version": "1.0.0",
      "model_name": "HTMLModel",
      "state": {
       "layout": "IPY_MODEL_b62e5e71a1e34571bef677bf4a55fc76",
       "style": "IPY_MODEL_20389eeb16d941b6a2ea85ee7b2aade2",
       "value": "100% 5/5 [00:27&lt;00:00,  5.56s/it]"
      }
     },
     "2ee9e17cc28b49f79c20c0cf263a4cd5": {
      "model_module": "@jupyter-widgets/base",
      "model_module_version": "1.0.0",
      "model_name": "LayoutModel",
      "state": {}
     },
     "304a909c5a194dd9abcc5408d03a3f3a": {
      "model_module": "@jupyter-widgets/base",
      "model_module_version": "1.0.0",
      "model_name": "LayoutModel",
      "state": {}
     },
     "30b975b53b7140d9b3a5f226c94c38ef": {
      "model_module": "@jupyter-widgets/base",
      "model_module_version": "1.0.0",
      "model_name": "LayoutModel",
      "state": {}
     },
     "32ce7ad3c16a447aa81c9cd171172068": {
      "model_module": "@jupyter-widgets/controls",
      "model_module_version": "1.0.0",
      "model_name": "HBoxModel",
      "state": {
       "children": [
        "IPY_MODEL_cfd6f7418461443a83bb59981c137a41",
        "IPY_MODEL_13542a54452e4148b91b0b300ed067a1"
       ],
       "layout": "IPY_MODEL_e07a66c1dc54408693cbce78f4d39752"
      }
     },
     "330e226f44e5411281635b2628843442": {
      "model_module": "@jupyter-widgets/controls",
      "model_module_version": "1.0.0",
      "model_name": "IntProgressModel",
      "state": {
       "bar_style": "danger",
       "description": "Epoch",
       "layout": "IPY_MODEL_304a909c5a194dd9abcc5408d03a3f3a",
       "max": 1,
       "style": "IPY_MODEL_08d393237dfc4e44a5c61cc0c7e05bd6"
      }
     },
     "33222a57ea3c45a1a9d896228a72892a": {
      "model_module": "@jupyter-widgets/controls",
      "model_module_version": "1.0.0",
      "model_name": "HBoxModel",
      "state": {
       "children": [
        "IPY_MODEL_0c282ab585044f98bc12688d7523bf75",
        "IPY_MODEL_c7c4c7ca4c1d49cba0e307d471ee7b4c"
       ],
       "layout": "IPY_MODEL_de939e3b220a48e5aa4943dde3b3b4df"
      }
     },
     "33594f0ae974407383ea0b1b5ce64eb4": {
      "model_module": "@jupyter-widgets/base",
      "model_module_version": "1.0.0",
      "model_name": "LayoutModel",
      "state": {}
     },
     "3374849d0db74f79af9c74061557b2fe": {
      "model_module": "@jupyter-widgets/base",
      "model_module_version": "1.0.0",
      "model_name": "LayoutModel",
      "state": {}
     },
     "33b3750fc0934dab8f82af02ca3943fb": {
      "model_module": "@jupyter-widgets/base",
      "model_module_version": "1.0.0",
      "model_name": "LayoutModel",
      "state": {}
     },
     "33b453c97a4f4176bab9ef4f75a1d525": {
      "model_module": "@jupyter-widgets/controls",
      "model_module_version": "1.0.0",
      "model_name": "DescriptionStyleModel",
      "state": {
       "description_width": ""
      }
     },
     "343a3581e9b4499e851850e88742dffa": {
      "model_module": "@jupyter-widgets/controls",
      "model_module_version": "1.0.0",
      "model_name": "DescriptionStyleModel",
      "state": {
       "description_width": ""
      }
     },
     "345673fd9d6e4b25bdb9bfad74a4c56a": {
      "model_module": "@jupyter-widgets/controls",
      "model_module_version": "1.0.0",
      "model_name": "IntProgressModel",
      "state": {
       "bar_style": "success",
       "description": "Epoch",
       "layout": "IPY_MODEL_9807a11799c646d597f22b721aa1b07b",
       "max": 5,
       "style": "IPY_MODEL_9ff642b361994c3284ad132cc9c2609f",
       "value": 5
      }
     },
     "366cf1952f3d4da2a0411b2cd54b936b": {
      "model_module": "@jupyter-widgets/controls",
      "model_module_version": "1.0.0",
      "model_name": "HTMLModel",
      "state": {
       "layout": "IPY_MODEL_edf9c70d1c9149e08c545bef502cd8cf",
       "style": "IPY_MODEL_56dbc2bea71a4471bf70d8dac1f36024",
       "value": "  0% 0/1 [00:00&lt;?, ?it/s]"
      }
     },
     "36ddd3545556481fb85bc618354819a8": {
      "model_module": "@jupyter-widgets/controls",
      "model_module_version": "1.0.0",
      "model_name": "IntProgressModel",
      "state": {
       "bar_style": "success",
       "layout": "IPY_MODEL_2448e21d4ef24b4e89635fd4a12800e5",
       "max": 6,
       "style": "IPY_MODEL_76cee857efdf47248d35f9eb94ed096c",
       "value": 6
      }
     },
     "390ad3567a8a4f1eb7d1616e7f91ba7a": {
      "model_module": "@jupyter-widgets/controls",
      "model_module_version": "1.0.0",
      "model_name": "IntProgressModel",
      "state": {
       "bar_style": "danger",
       "description": "Epoch",
       "layout": "IPY_MODEL_c95223f4ef624690afb3c90a786ba0f1",
       "max": 7,
       "style": "IPY_MODEL_ab7473702ec7419884d00bf6a84f14fd"
      }
     },
     "3941089d9dfe48b4bad6b3919b7cc58c": {
      "model_module": "@jupyter-widgets/base",
      "model_module_version": "1.0.0",
      "model_name": "LayoutModel",
      "state": {}
     },
     "3a0de939210444d1b7803c83e4034b02": {
      "model_module": "@jupyter-widgets/base",
      "model_module_version": "1.0.0",
      "model_name": "LayoutModel",
      "state": {}
     },
     "3e0246d283e6465d805a83262a6c9324": {
      "model_module": "@jupyter-widgets/controls",
      "model_module_version": "1.0.0",
      "model_name": "DescriptionStyleModel",
      "state": {
       "description_width": ""
      }
     },
     "3e5949ab780a427bba4276069b282e8e": {
      "model_module": "@jupyter-widgets/controls",
      "model_module_version": "1.0.0",
      "model_name": "DescriptionStyleModel",
      "state": {
       "description_width": ""
      }
     },
     "3ea0fa04cf354cf2ab856262d9ff756d": {
      "model_module": "@jupyter-widgets/base",
      "model_module_version": "1.0.0",
      "model_name": "LayoutModel",
      "state": {}
     },
     "3eba6ea8b31a4fdd87220a9ca36723dd": {
      "model_module": "@jupyter-widgets/controls",
      "model_module_version": "1.0.0",
      "model_name": "HBoxModel",
      "state": {
       "children": [
        "IPY_MODEL_d1eacfa9241b470e8d3692390ddf1bf9",
        "IPY_MODEL_cf78fe4cb3bf4c5db742e877dd2c6448"
       ],
       "layout": "IPY_MODEL_15147db642db43f59d5669b0afb4b40d"
      }
     },
     "4106dc471adc4af388470db66bf7b15c": {
      "model_module": "@jupyter-widgets/base",
      "model_module_version": "1.0.0",
      "model_name": "LayoutModel",
      "state": {}
     },
     "42b43d1fb43d4580a57c2c07c6871d66": {
      "model_module": "@jupyter-widgets/controls",
      "model_module_version": "1.0.0",
      "model_name": "IntProgressModel",
      "state": {
       "bar_style": "danger",
       "description": "Epoch",
       "layout": "IPY_MODEL_111d2d6fe30c4f0884fe35e448ca5282",
       "max": 5,
       "style": "IPY_MODEL_ac08c793b78348edaaad7e06292b6746"
      }
     },
     "42bd4bde1fa1471597cc30011e0586c0": {
      "model_module": "@jupyter-widgets/controls",
      "model_module_version": "1.0.0",
      "model_name": "IntProgressModel",
      "state": {
       "bar_style": "success",
       "description": "Epoch",
       "layout": "IPY_MODEL_d994e905942f424891c853ec25fc9d0d",
       "max": 1,
       "style": "IPY_MODEL_b9c9c69b0ed945d0af89c971dd06323a",
       "value": 1
      }
     },
     "42c43c9002b64af59c3e5f482182a4a4": {
      "model_module": "@jupyter-widgets/controls",
      "model_module_version": "1.0.0",
      "model_name": "HTMLModel",
      "state": {
       "layout": "IPY_MODEL_0fa8708ce19c406badcb0d6567686b47",
       "style": "IPY_MODEL_fb4fb3ab67df403aa6f83300cd968e6e",
       "value": "100% 6/6 [00:00&lt;00:00, 338.50it/s]"
      }
     },
     "440a3742923c46ab8f0a826d25484f1b": {
      "model_module": "@jupyter-widgets/controls",
      "model_module_version": "1.0.0",
      "model_name": "HBoxModel",
      "state": {
       "children": [
        "IPY_MODEL_c5cfb8df320d483ea8dfdd54fe3a8115",
        "IPY_MODEL_8ebaa6694a8946ecb7838f7c94b727b2"
       ],
       "layout": "IPY_MODEL_c8594bd844be46e4ae8f9554c1d1d38b"
      }
     },
     "44345369ca634bdb8333ac190929d86b": {
      "model_module": "@jupyter-widgets/controls",
      "model_module_version": "1.0.0",
      "model_name": "ProgressStyleModel",
      "state": {
       "description_width": ""
      }
     },
     "44b9883c6b8d42e990cb746e1785adf7": {
      "model_module": "@jupyter-widgets/base",
      "model_module_version": "1.0.0",
      "model_name": "LayoutModel",
      "state": {}
     },
     "465661a6402d4902a48427724b4fd5c3": {
      "model_module": "@jupyter-widgets/base",
      "model_module_version": "1.0.0",
      "model_name": "LayoutModel",
      "state": {}
     },
     "49272b13cf984aa0b85e50e649cffdd0": {
      "model_module": "@jupyter-widgets/base",
      "model_module_version": "1.0.0",
      "model_name": "LayoutModel",
      "state": {}
     },
     "4b958f2869a145dd937e3a9c960713fa": {
      "model_module": "@jupyter-widgets/base",
      "model_module_version": "1.0.0",
      "model_name": "LayoutModel",
      "state": {}
     },
     "4bcf5ffebd784d2cb744cce2a3105de2": {
      "model_module": "@jupyter-widgets/controls",
      "model_module_version": "1.0.0",
      "model_name": "IntProgressModel",
      "state": {
       "bar_style": "danger",
       "description": "Epoch",
       "layout": "IPY_MODEL_1d310103b4cc47cdaa5c1ffcd53a2a50",
       "max": 1,
       "style": "IPY_MODEL_e5ed22fe2cb14885af23b4b27ecbe24f"
      }
     },
     "4e21eb95d019409389055755be1cdba1": {
      "model_module": "@jupyter-widgets/controls",
      "model_module_version": "1.0.0",
      "model_name": "HTMLModel",
      "state": {
       "layout": "IPY_MODEL_184acde421504a5885d900e4d56259a3",
       "style": "IPY_MODEL_2d211f6a39824e09993d42f5c74f321a",
       "value": "  0% 0/1 [00:00&lt;?, ?it/s]"
      }
     },
     "505c4fb9334b49adbc49123d36f04890": {
      "model_module": "@jupyter-widgets/controls",
      "model_module_version": "1.0.0",
      "model_name": "IntProgressModel",
      "state": {
       "bar_style": "success",
       "layout": "IPY_MODEL_ebfc8c69039e4cef8b152566f83ce54b",
       "max": 6,
       "style": "IPY_MODEL_f2a3fa87a99744e1855bd2db98755ce3",
       "value": 6
      }
     },
     "50c718e46a3e487cb679f43c3403e806": {
      "model_module": "@jupyter-widgets/controls",
      "model_module_version": "1.0.0",
      "model_name": "ProgressStyleModel",
      "state": {
       "description_width": ""
      }
     },
     "51758a6e6d2345678e431e79e606fae1": {
      "model_module": "@jupyter-widgets/controls",
      "model_module_version": "1.0.0",
      "model_name": "HTMLModel",
      "state": {
       "layout": "IPY_MODEL_3a0de939210444d1b7803c83e4034b02",
       "style": "IPY_MODEL_ca4646c53db64b5397e378981971817a",
       "value": "  0% 0/1 [00:00&lt;?, ?it/s]"
      }
     },
     "531f3058eba84694a6a93bfa9210367b": {
      "model_module": "@jupyter-widgets/controls",
      "model_module_version": "1.0.0",
      "model_name": "HTMLModel",
      "state": {
       "layout": "IPY_MODEL_f391d5a1a1d145788d39e9641c4fab38",
       "style": "IPY_MODEL_3e0246d283e6465d805a83262a6c9324",
       "value": "100% 6/6 [00:00&lt;00:00, 298.37it/s]"
      }
     },
     "53924498706544eeb17f14bd54ba9b18": {
      "model_module": "@jupyter-widgets/controls",
      "model_module_version": "1.0.0",
      "model_name": "IntProgressModel",
      "state": {
       "bar_style": "success",
       "description": "Epoch",
       "layout": "IPY_MODEL_1b94c0bee4f2471e9a4b399f9298a12e",
       "max": 5,
       "style": "IPY_MODEL_d359726358b94325852e3db21061f8a4",
       "value": 5
      }
     },
     "545bf812c0ae4dc792eda393c56ab3d7": {
      "model_module": "@jupyter-widgets/controls",
      "model_module_version": "1.0.0",
      "model_name": "HBoxModel",
      "state": {
       "children": [
        "IPY_MODEL_42b43d1fb43d4580a57c2c07c6871d66",
        "IPY_MODEL_f419fe2f6fee41a4afd92f37c2ed3c52"
       ],
       "layout": "IPY_MODEL_1237dba1313b4264911709892afdcc7a"
      }
     },
     "56dbc2bea71a4471bf70d8dac1f36024": {
      "model_module": "@jupyter-widgets/controls",
      "model_module_version": "1.0.0",
      "model_name": "DescriptionStyleModel",
      "state": {
       "description_width": ""
      }
     },
     "57823a16168b4ea08cb5ec762036c92a": {
      "model_module": "@jupyter-widgets/controls",
      "model_module_version": "1.0.0",
      "model_name": "HTMLModel",
      "state": {
       "layout": "IPY_MODEL_f315439b56854d8287bea6d7ef7e9302",
       "style": "IPY_MODEL_f1dc5d580ab04a4ba74ec4823709ae3f",
       "value": "100% 6/6 [00:00&lt;00:00, 304.67it/s]"
      }
     },
     "59b79f9c30a64a4bb36344c49eb14710": {
      "model_module": "@jupyter-widgets/controls",
      "model_module_version": "1.0.0",
      "model_name": "DescriptionStyleModel",
      "state": {
       "description_width": ""
      }
     },
     "5b67835491f340059a436804beac6bc8": {
      "model_module": "@jupyter-widgets/base",
      "model_module_version": "1.0.0",
      "model_name": "LayoutModel",
      "state": {}
     },
     "5d57d54be0be4d44ac8065873bee474e": {
      "model_module": "@jupyter-widgets/controls",
      "model_module_version": "1.0.0",
      "model_name": "HTMLModel",
      "state": {
       "layout": "IPY_MODEL_06184fd1d0024aa591f934c7992cb1c0",
       "style": "IPY_MODEL_7b3bce6a90c947cfab4ed2e9ce4ba323",
       "value": "  0% 0/7 [00:00&lt;?, ?it/s]"
      }
     },
     "5d8bdc7b3f494b47bb02564be2704f7d": {
      "model_module": "@jupyter-widgets/controls",
      "model_module_version": "1.0.0",
      "model_name": "ProgressStyleModel",
      "state": {
       "description_width": ""
      }
     },
     "5da3eb5d9cb84c0a8cf4c13108ca0dc0": {
      "model_module": "@jupyter-widgets/base",
      "model_module_version": "1.0.0",
      "model_name": "LayoutModel",
      "state": {}
     },
     "5f9f95ad236d4558aa3136d545166b02": {
      "model_module": "@jupyter-widgets/base",
      "model_module_version": "1.0.0",
      "model_name": "LayoutModel",
      "state": {}
     },
     "5fe3c44759d640a78723b71c5e7b3701": {
      "model_module": "@jupyter-widgets/base",
      "model_module_version": "1.0.0",
      "model_name": "LayoutModel",
      "state": {}
     },
     "6199827a629142368ed502ff8dede3bc": {
      "model_module": "@jupyter-widgets/controls",
      "model_module_version": "1.0.0",
      "model_name": "IntProgressModel",
      "state": {
       "bar_style": "danger",
       "description": "Epoch",
       "layout": "IPY_MODEL_e2a1eabedf204d048c269bdd3695389a",
       "max": 1,
       "style": "IPY_MODEL_635b399e5a8e4912b8072592ea2b2f95"
      }
     },
     "62e91c7df2704cf288899bf881ba7193": {
      "model_module": "@jupyter-widgets/controls",
      "model_module_version": "1.0.0",
      "model_name": "IntProgressModel",
      "state": {
       "bar_style": "success",
       "layout": "IPY_MODEL_df12f0d15f1c4e64b720e1d0813aaf21",
       "max": 6,
       "style": "IPY_MODEL_74c5950094574048a50de79a16316b2e",
       "value": 6
      }
     },
     "635b399e5a8e4912b8072592ea2b2f95": {
      "model_module": "@jupyter-widgets/controls",
      "model_module_version": "1.0.0",
      "model_name": "ProgressStyleModel",
      "state": {
       "description_width": ""
      }
     },
     "64ccbbe33fb54a54b171fd688ac6ac80": {
      "model_module": "@jupyter-widgets/base",
      "model_module_version": "1.0.0",
      "model_name": "LayoutModel",
      "state": {}
     },
     "662657671c4f4f09a7a93a754c50d6b5": {
      "model_module": "@jupyter-widgets/base",
      "model_module_version": "1.0.0",
      "model_name": "LayoutModel",
      "state": {}
     },
     "678157cd0c7941e29eab21166ffca997": {
      "model_module": "@jupyter-widgets/base",
      "model_module_version": "1.0.0",
      "model_name": "LayoutModel",
      "state": {}
     },
     "683fe0ad9fa246b2a8daa90fc53e6c12": {
      "model_module": "@jupyter-widgets/controls",
      "model_module_version": "1.0.0",
      "model_name": "ProgressStyleModel",
      "state": {
       "description_width": ""
      }
     },
     "689313d4e4164fb5a7629caf5ce0ab40": {
      "model_module": "@jupyter-widgets/controls",
      "model_module_version": "1.0.0",
      "model_name": "HTMLModel",
      "state": {
       "layout": "IPY_MODEL_5f9f95ad236d4558aa3136d545166b02",
       "style": "IPY_MODEL_e80569dc277e49fab1ba6f46443377a4",
       "value": "  0% 0/7 [00:00&lt;?, ?it/s]"
      }
     },
     "6a68ab59ebbe456098efc466da618cfb": {
      "model_module": "@jupyter-widgets/base",
      "model_module_version": "1.0.0",
      "model_name": "LayoutModel",
      "state": {}
     },
     "6ae8fd4ad42d474cae501bfc6914b873": {
      "model_module": "@jupyter-widgets/controls",
      "model_module_version": "1.0.0",
      "model_name": "HBoxModel",
      "state": {
       "children": [
        "IPY_MODEL_7f56a1da9d1c46ed88326ef74f3b635c",
        "IPY_MODEL_ffcaedb235c2402181d5bfea5ce45d35"
       ],
       "layout": "IPY_MODEL_e51378953e504b83816d8e5647e8ed51"
      }
     },
     "6b8edb4054364f5f8380fe61245b3fa3": {
      "model_module": "@jupyter-widgets/base",
      "model_module_version": "1.0.0",
      "model_name": "LayoutModel",
      "state": {}
     },
     "6bf06eafd2ff4750ba7a976ad41060c1": {
      "model_module": "@jupyter-widgets/base",
      "model_module_version": "1.0.0",
      "model_name": "LayoutModel",
      "state": {}
     },
     "6ceb8bfafe8a4d209604e051fad039c8": {
      "model_module": "@jupyter-widgets/controls",
      "model_module_version": "1.0.0",
      "model_name": "HBoxModel",
      "state": {
       "children": [
        "IPY_MODEL_cdaa7de3206943ab8f817f8b39c0c44a",
        "IPY_MODEL_2db731fbf07546b8b03c8c30d9c303ee"
       ],
       "layout": "IPY_MODEL_6b8edb4054364f5f8380fe61245b3fa3"
      }
     },
     "6d0edb0e5d4a4070b4917312b54cba96": {
      "model_module": "@jupyter-widgets/base",
      "model_module_version": "1.0.0",
      "model_name": "LayoutModel",
      "state": {}
     },
     "6e39e2c8a3ee464b836d7b21488d5c2a": {
      "model_module": "@jupyter-widgets/controls",
      "model_module_version": "1.0.0",
      "model_name": "DescriptionStyleModel",
      "state": {
       "description_width": ""
      }
     },
     "7063ce0277604b9480e36a7289a62931": {
      "model_module": "@jupyter-widgets/base",
      "model_module_version": "1.0.0",
      "model_name": "LayoutModel",
      "state": {}
     },
     "70efd16a3e7a4719a648e0372a61a69c": {
      "model_module": "@jupyter-widgets/controls",
      "model_module_version": "1.0.0",
      "model_name": "ProgressStyleModel",
      "state": {
       "description_width": ""
      }
     },
     "711f7cdf14b54ad784f890e0a76f44d5": {
      "model_module": "@jupyter-widgets/controls",
      "model_module_version": "1.0.0",
      "model_name": "HBoxModel",
      "state": {
       "children": [
        "IPY_MODEL_78f879538e1f41a8b2a07e3d68f9c767",
        "IPY_MODEL_689313d4e4164fb5a7629caf5ce0ab40"
       ],
       "layout": "IPY_MODEL_33b3750fc0934dab8f82af02ca3943fb"
      }
     },
     "72c1ac1fb56144beb567551ea5f91a7f": {
      "model_module": "@jupyter-widgets/base",
      "model_module_version": "1.0.0",
      "model_name": "LayoutModel",
      "state": {}
     },
     "72f6f4ecfa904e26b2571e0a10749992": {
      "model_module": "@jupyter-widgets/controls",
      "model_module_version": "1.0.0",
      "model_name": "HBoxModel",
      "state": {
       "children": [
        "IPY_MODEL_42bd4bde1fa1471597cc30011e0586c0",
        "IPY_MODEL_da2d03ff7791430a87f24550396df6e2"
       ],
       "layout": "IPY_MODEL_82760d589eea4a778808e03b0d67102d"
      }
     },
     "73aeeb8cee47468a98d54f0a9698664e": {
      "model_module": "@jupyter-widgets/controls",
      "model_module_version": "1.0.0",
      "model_name": "HTMLModel",
      "state": {
       "layout": "IPY_MODEL_98d302f1c2604830af7b1415ae90fe4a",
       "style": "IPY_MODEL_59b79f9c30a64a4bb36344c49eb14710",
       "value": "100% 7/7 [1:37:54&lt;00:00, 839.22s/it]"
      }
     },
     "73c788aabc3f4135a6b434668a86809d": {
      "model_module": "@jupyter-widgets/controls",
      "model_module_version": "1.0.0",
      "model_name": "ProgressStyleModel",
      "state": {
       "description_width": ""
      }
     },
     "73d2425cd38b4a6d9d713aef922d21cf": {
      "model_module": "@jupyter-widgets/controls",
      "model_module_version": "1.0.0",
      "model_name": "HBoxModel",
      "state": {
       "children": [
        "IPY_MODEL_27c08d64de5c47f4a41a7049bdf90b7d",
        "IPY_MODEL_42c43c9002b64af59c3e5f482182a4a4"
       ],
       "layout": "IPY_MODEL_0777efb258a441d798503d7b1a80b774"
      }
     },
     "74c5950094574048a50de79a16316b2e": {
      "model_module": "@jupyter-widgets/controls",
      "model_module_version": "1.0.0",
      "model_name": "ProgressStyleModel",
      "state": {
       "description_width": ""
      }
     },
     "762656075b884eed9808bdac435b3bda": {
      "model_module": "@jupyter-widgets/controls",
      "model_module_version": "1.0.0",
      "model_name": "DescriptionStyleModel",
      "state": {
       "description_width": ""
      }
     },
     "76cee857efdf47248d35f9eb94ed096c": {
      "model_module": "@jupyter-widgets/controls",
      "model_module_version": "1.0.0",
      "model_name": "ProgressStyleModel",
      "state": {
       "description_width": ""
      }
     },
     "773b137449804e329cca1e4a98f912ed": {
      "model_module": "@jupyter-widgets/controls",
      "model_module_version": "1.0.0",
      "model_name": "IntProgressModel",
      "state": {
       "bar_style": "success",
       "layout": "IPY_MODEL_44b9883c6b8d42e990cb746e1785adf7",
       "max": 6,
       "style": "IPY_MODEL_79022eddb7f94ddba890f3743e445129",
       "value": 6
      }
     },
     "78f879538e1f41a8b2a07e3d68f9c767": {
      "model_module": "@jupyter-widgets/controls",
      "model_module_version": "1.0.0",
      "model_name": "IntProgressModel",
      "state": {
       "bar_style": "danger",
       "description": "Epoch",
       "layout": "IPY_MODEL_ab4738fbaf3643f79be77946892c4f77",
       "max": 7,
       "style": "IPY_MODEL_70efd16a3e7a4719a648e0372a61a69c"
      }
     },
     "79022eddb7f94ddba890f3743e445129": {
      "model_module": "@jupyter-widgets/controls",
      "model_module_version": "1.0.0",
      "model_name": "ProgressStyleModel",
      "state": {
       "description_width": ""
      }
     },
     "79fa4bc08b554464b5ce61d41cfe975d": {
      "model_module": "@jupyter-widgets/controls",
      "model_module_version": "1.0.0",
      "model_name": "DescriptionStyleModel",
      "state": {
       "description_width": ""
      }
     },
     "7b3bce6a90c947cfab4ed2e9ce4ba323": {
      "model_module": "@jupyter-widgets/controls",
      "model_module_version": "1.0.0",
      "model_name": "DescriptionStyleModel",
      "state": {
       "description_width": ""
      }
     },
     "7c58292fd8114551a8f90c6057e76778": {
      "model_module": "@jupyter-widgets/controls",
      "model_module_version": "1.0.0",
      "model_name": "DescriptionStyleModel",
      "state": {
       "description_width": ""
      }
     },
     "7d3ff4f118ff49afac41a7ae504bf469": {
      "model_module": "@jupyter-widgets/controls",
      "model_module_version": "1.0.0",
      "model_name": "HBoxModel",
      "state": {
       "children": [
        "IPY_MODEL_36ddd3545556481fb85bc618354819a8",
        "IPY_MODEL_57823a16168b4ea08cb5ec762036c92a"
       ],
       "layout": "IPY_MODEL_b5b0e7e219574fd4be300a0a63db4315"
      }
     },
     "7f56a1da9d1c46ed88326ef74f3b635c": {
      "model_module": "@jupyter-widgets/controls",
      "model_module_version": "1.0.0",
      "model_name": "IntProgressModel",
      "state": {
       "bar_style": "success",
       "description": "Epoch",
       "layout": "IPY_MODEL_e6a27ddf113342528c01359c1db919c3",
       "max": 1,
       "style": "IPY_MODEL_da1881a7e63c4d1a8976217e6c9bf180",
       "value": 1
      }
     },
     "82760d589eea4a778808e03b0d67102d": {
      "model_module": "@jupyter-widgets/base",
      "model_module_version": "1.0.0",
      "model_name": "LayoutModel",
      "state": {}
     },
     "827d4dc9d3f6450cb00b80107c582443": {
      "model_module": "@jupyter-widgets/base",
      "model_module_version": "1.0.0",
      "model_name": "LayoutModel",
      "state": {}
     },
     "835c75e22060417aa783faad622b1aa8": {
      "model_module": "@jupyter-widgets/base",
      "model_module_version": "1.0.0",
      "model_name": "LayoutModel",
      "state": {}
     },
     "83fd155c507d4b65912b3cae7a037782": {
      "model_module": "@jupyter-widgets/controls",
      "model_module_version": "1.0.0",
      "model_name": "HBoxModel",
      "state": {
       "children": [
        "IPY_MODEL_154381a3e0ca46d8ac4c57a39260a2b4",
        "IPY_MODEL_5d57d54be0be4d44ac8065873bee474e"
       ],
       "layout": "IPY_MODEL_ef6adbdabd034903bb60d9509f04b67b"
      }
     },
     "853086b3cd594b269b713c487ddafd36": {
      "model_module": "@jupyter-widgets/controls",
      "model_module_version": "1.0.0",
      "model_name": "DescriptionStyleModel",
      "state": {
       "description_width": ""
      }
     },
     "858290b82e304f599f49e113427ca8ae": {
      "model_module": "@jupyter-widgets/base",
      "model_module_version": "1.0.0",
      "model_name": "LayoutModel",
      "state": {}
     },
     "866da45a457147d582348a3b30970c8f": {
      "model_module": "@jupyter-widgets/controls",
      "model_module_version": "1.0.0",
      "model_name": "IntProgressModel",
      "state": {
       "bar_style": "danger",
       "description": "Epoch",
       "layout": "IPY_MODEL_33594f0ae974407383ea0b1b5ce64eb4",
       "max": 1,
       "style": "IPY_MODEL_a7d119e3d5d44418bbdd396f9c1a4e56"
      }
     },
     "86f5656167154ddea1560ff0a7c93fff": {
      "model_module": "@jupyter-widgets/controls",
      "model_module_version": "1.0.0",
      "model_name": "HBoxModel",
      "state": {
       "children": [
        "IPY_MODEL_f86b5b3ec00c4d2f9b59fd3de4c6e123",
        "IPY_MODEL_a2e1b06e761f4133aa2734e2eb460439"
       ],
       "layout": "IPY_MODEL_f8dd279a8d1a429e983ef9ffde1c9c9b"
      }
     },
     "8744e03e34b14db9a4bb3b8860dab85e": {
      "model_module": "@jupyter-widgets/base",
      "model_module_version": "1.0.0",
      "model_name": "LayoutModel",
      "state": {}
     },
     "8799ded1b5be463a96724683ee57faba": {
      "model_module": "@jupyter-widgets/controls",
      "model_module_version": "1.0.0",
      "model_name": "HBoxModel",
      "state": {
       "children": [
        "IPY_MODEL_bff910c1f73b4b38a951d1e5da6ecf07",
        "IPY_MODEL_f713d7f778a340588de474b96247932d"
       ],
       "layout": "IPY_MODEL_cda7a273fb5e4fb8a35686bb2b07ae74"
      }
     },
     "87ac686a1e2b4758a5442da3d4914062": {
      "model_module": "@jupyter-widgets/base",
      "model_module_version": "1.0.0",
      "model_name": "LayoutModel",
      "state": {}
     },
     "87d9caef24c748e68044c92df571e0c4": {
      "model_module": "@jupyter-widgets/controls",
      "model_module_version": "1.0.0",
      "model_name": "HBoxModel",
      "state": {
       "children": [
        "IPY_MODEL_e98c05abe86545a7bd6b1f8c3ede961e",
        "IPY_MODEL_8a52c0f88d5e4a91ba28ca392e1392e8"
       ],
       "layout": "IPY_MODEL_ab665a4afec44fe1a888f33717e7ceca"
      }
     },
     "886f81e08e8a4c2b9693564e99e4c2ab": {
      "model_module": "@jupyter-widgets/base",
      "model_module_version": "1.0.0",
      "model_name": "LayoutModel",
      "state": {}
     },
     "8a52c0f88d5e4a91ba28ca392e1392e8": {
      "model_module": "@jupyter-widgets/controls",
      "model_module_version": "1.0.0",
      "model_name": "HTMLModel",
      "state": {
       "layout": "IPY_MODEL_de8e95de6b1e4c4aba0c4bba8dc9d766",
       "style": "IPY_MODEL_1546ed589bc94fc5876be4e1682970eb",
       "value": "100% 5/5 [21:06&lt;00:00, 253.34s/it]"
      }
     },
     "8b4b8ece4f594abb892fbced827f90f7": {
      "model_module": "@jupyter-widgets/base",
      "model_module_version": "1.0.0",
      "model_name": "LayoutModel",
      "state": {}
     },
     "8cb35fdf89194c188c319eb212a0c998": {
      "model_module": "@jupyter-widgets/base",
      "model_module_version": "1.0.0",
      "model_name": "LayoutModel",
      "state": {}
     },
     "8ebaa6694a8946ecb7838f7c94b727b2": {
      "model_module": "@jupyter-widgets/controls",
      "model_module_version": "1.0.0",
      "model_name": "HTMLModel",
      "state": {
       "layout": "IPY_MODEL_05a5ede8364b40f98f9e89b45d1b0279",
       "style": "IPY_MODEL_b74b1845e0ea40bcba897a65559c7042",
       "value": "  0% 0/1 [00:00&lt;?, ?it/s]"
      }
     },
     "90cdf7e67bae478ba5caf3ffe85a92cd": {
      "model_module": "@jupyter-widgets/controls",
      "model_module_version": "1.0.0",
      "model_name": "ProgressStyleModel",
      "state": {
       "description_width": ""
      }
     },
     "918ce75e2e584736a34c5ac151a2940c": {
      "model_module": "@jupyter-widgets/base",
      "model_module_version": "1.0.0",
      "model_name": "LayoutModel",
      "state": {}
     },
     "91a7afb8f9454c80b80bc5cf3a5c0902": {
      "model_module": "@jupyter-widgets/controls",
      "model_module_version": "1.0.0",
      "model_name": "DescriptionStyleModel",
      "state": {
       "description_width": ""
      }
     },
     "92884af6d8f649ee9dd4735d386635b5": {
      "model_module": "@jupyter-widgets/base",
      "model_module_version": "1.0.0",
      "model_name": "LayoutModel",
      "state": {}
     },
     "93aad40e7e644ab69eb1ebe2c85f789a": {
      "model_module": "@jupyter-widgets/controls",
      "model_module_version": "1.0.0",
      "model_name": "HTMLModel",
      "state": {
       "layout": "IPY_MODEL_49272b13cf984aa0b85e50e649cffdd0",
       "style": "IPY_MODEL_853086b3cd594b269b713c487ddafd36",
       "value": "  0% 0/7 [00:00&lt;?, ?it/s]"
      }
     },
     "968e904c051942b3b964c26bf5aae13a": {
      "model_module": "@jupyter-widgets/base",
      "model_module_version": "1.0.0",
      "model_name": "LayoutModel",
      "state": {}
     },
     "9807a11799c646d597f22b721aa1b07b": {
      "model_module": "@jupyter-widgets/base",
      "model_module_version": "1.0.0",
      "model_name": "LayoutModel",
      "state": {}
     },
     "98d302f1c2604830af7b1415ae90fe4a": {
      "model_module": "@jupyter-widgets/base",
      "model_module_version": "1.0.0",
      "model_name": "LayoutModel",
      "state": {}
     },
     "994db59fc4e44c6ebac34a936db7b29d": {
      "model_module": "@jupyter-widgets/controls",
      "model_module_version": "1.0.0",
      "model_name": "HBoxModel",
      "state": {
       "children": [
        "IPY_MODEL_e9705f41a0c548e49ca61542988c66c7",
        "IPY_MODEL_ba44905ea8b04d78ba77d7a6f34cb359"
       ],
       "layout": "IPY_MODEL_a001cef2768e4adaaa38039f3abd7b57"
      }
     },
     "9be12760776f4df18e3ee95ea954350f": {
      "model_module": "@jupyter-widgets/controls",
      "model_module_version": "1.0.0",
      "model_name": "ProgressStyleModel",
      "state": {
       "description_width": ""
      }
     },
     "9c0eb6e99bd3477a85e368d741a5ee6d": {
      "model_module": "@jupyter-widgets/controls",
      "model_module_version": "1.0.0",
      "model_name": "HTMLModel",
      "state": {
       "layout": "IPY_MODEL_835c75e22060417aa783faad622b1aa8",
       "style": "IPY_MODEL_343a3581e9b4499e851850e88742dffa",
       "value": "  0% 0/1 [00:00&lt;?, ?it/s]"
      }
     },
     "9e9e2645fe4a42d58f2d810685c2f00e": {
      "model_module": "@jupyter-widgets/controls",
      "model_module_version": "1.0.0",
      "model_name": "HBoxModel",
      "state": {
       "children": [
        "IPY_MODEL_53924498706544eeb17f14bd54ba9b18",
        "IPY_MODEL_e486556053ab4272b07f3647c0fd2adc"
       ],
       "layout": "IPY_MODEL_72c1ac1fb56144beb567551ea5f91a7f"
      }
     },
     "9efed534bcf148d2a020feae3c0e92b0": {
      "model_module": "@jupyter-widgets/controls",
      "model_module_version": "1.0.0",
      "model_name": "DescriptionStyleModel",
      "state": {
       "description_width": ""
      }
     },
     "9ff642b361994c3284ad132cc9c2609f": {
      "model_module": "@jupyter-widgets/controls",
      "model_module_version": "1.0.0",
      "model_name": "ProgressStyleModel",
      "state": {
       "description_width": ""
      }
     },
     "a001cef2768e4adaaa38039f3abd7b57": {
      "model_module": "@jupyter-widgets/base",
      "model_module_version": "1.0.0",
      "model_name": "LayoutModel",
      "state": {}
     },
     "a00cbb7a40224f32be796f5bf4b2ac8d": {
      "model_module": "@jupyter-widgets/controls",
      "model_module_version": "1.0.0",
      "model_name": "IntProgressModel",
      "state": {
       "bar_style": "success",
       "layout": "IPY_MODEL_8b4b8ece4f594abb892fbced827f90f7",
       "max": 6,
       "style": "IPY_MODEL_5d8bdc7b3f494b47bb02564be2704f7d",
       "value": 6
      }
     },
     "a2e1b06e761f4133aa2734e2eb460439": {
      "model_module": "@jupyter-widgets/controls",
      "model_module_version": "1.0.0",
      "model_name": "HTMLModel",
      "state": {
       "layout": "IPY_MODEL_662657671c4f4f09a7a93a754c50d6b5",
       "style": "IPY_MODEL_762656075b884eed9808bdac435b3bda",
       "value": "100% 2/2 [27:57&lt;00:00, 838.61s/it]"
      }
     },
     "a49525c1412c4341b5f28fa044ac8730": {
      "model_module": "@jupyter-widgets/base",
      "model_module_version": "1.0.0",
      "model_name": "LayoutModel",
      "state": {}
     },
     "a4d778731998454698069f393f05e8e7": {
      "model_module": "@jupyter-widgets/controls",
      "model_module_version": "1.0.0",
      "model_name": "DescriptionStyleModel",
      "state": {
       "description_width": ""
      }
     },
     "a5a6745a1dbb4049ae7b481203ea318d": {
      "model_module": "@jupyter-widgets/base",
      "model_module_version": "1.0.0",
      "model_name": "LayoutModel",
      "state": {}
     },
     "a73aca0201474e31a4e2f09eee336188": {
      "model_module": "@jupyter-widgets/base",
      "model_module_version": "1.0.0",
      "model_name": "LayoutModel",
      "state": {}
     },
     "a7d119e3d5d44418bbdd396f9c1a4e56": {
      "model_module": "@jupyter-widgets/controls",
      "model_module_version": "1.0.0",
      "model_name": "ProgressStyleModel",
      "state": {
       "description_width": ""
      }
     },
     "a91111493ac54b5e82d7fd37b2dd47db": {
      "model_module": "@jupyter-widgets/base",
      "model_module_version": "1.0.0",
      "model_name": "LayoutModel",
      "state": {}
     },
     "a9155bf46b324076940690645de02111": {
      "model_module": "@jupyter-widgets/controls",
      "model_module_version": "1.0.0",
      "model_name": "ProgressStyleModel",
      "state": {
       "description_width": ""
      }
     },
     "ab4738fbaf3643f79be77946892c4f77": {
      "model_module": "@jupyter-widgets/base",
      "model_module_version": "1.0.0",
      "model_name": "LayoutModel",
      "state": {}
     },
     "ab665a4afec44fe1a888f33717e7ceca": {
      "model_module": "@jupyter-widgets/base",
      "model_module_version": "1.0.0",
      "model_name": "LayoutModel",
      "state": {}
     },
     "ab7473702ec7419884d00bf6a84f14fd": {
      "model_module": "@jupyter-widgets/controls",
      "model_module_version": "1.0.0",
      "model_name": "ProgressStyleModel",
      "state": {
       "description_width": ""
      }
     },
     "ac08c793b78348edaaad7e06292b6746": {
      "model_module": "@jupyter-widgets/controls",
      "model_module_version": "1.0.0",
      "model_name": "ProgressStyleModel",
      "state": {
       "description_width": ""
      }
     },
     "ac2d4ca0418e4ed3badaece85aa2fd0d": {
      "model_module": "@jupyter-widgets/controls",
      "model_module_version": "1.0.0",
      "model_name": "DescriptionStyleModel",
      "state": {
       "description_width": ""
      }
     },
     "aee6c59f0de54b61a97cca6e7b8626f1": {
      "model_module": "@jupyter-widgets/controls",
      "model_module_version": "1.0.0",
      "model_name": "HBoxModel",
      "state": {
       "children": [
        "IPY_MODEL_390ad3567a8a4f1eb7d1616e7f91ba7a",
        "IPY_MODEL_93aad40e7e644ab69eb1ebe2c85f789a"
       ],
       "layout": "IPY_MODEL_827d4dc9d3f6450cb00b80107c582443"
      }
     },
     "af9dffeb2ba64ba6b525daac30936f95": {
      "model_module": "@jupyter-widgets/controls",
      "model_module_version": "1.0.0",
      "model_name": "HTMLModel",
      "state": {
       "layout": "IPY_MODEL_21dda04b950940429e86dd52c04ab986",
       "style": "IPY_MODEL_6e39e2c8a3ee464b836d7b21488d5c2a",
       "value": "  0% 0/1 [00:00&lt;?, ?it/s]"
      }
     },
     "b3047a4a564443ee9a7a7e637cde2e7b": {
      "model_module": "@jupyter-widgets/controls",
      "model_module_version": "1.0.0",
      "model_name": "HTMLModel",
      "state": {
       "layout": "IPY_MODEL_4b958f2869a145dd937e3a9c960713fa",
       "style": "IPY_MODEL_ebda5d71d8844d11966548ce203e646c",
       "value": "100% 6/6 [00:00&lt;00:00, 232.99it/s]"
      }
     },
     "b5a069f86f0b4eefb0672b8132a16489": {
      "model_module": "@jupyter-widgets/controls",
      "model_module_version": "1.0.0",
      "model_name": "HTMLModel",
      "state": {
       "layout": "IPY_MODEL_e23291e4b6074c6f94d3e5d5d8eb1eee",
       "style": "IPY_MODEL_ac2d4ca0418e4ed3badaece85aa2fd0d",
       "value": "  0% 0/1 [00:00&lt;?, ?it/s]"
      }
     },
     "b5b0e7e219574fd4be300a0a63db4315": {
      "model_module": "@jupyter-widgets/base",
      "model_module_version": "1.0.0",
      "model_name": "LayoutModel",
      "state": {}
     },
     "b62e5e71a1e34571bef677bf4a55fc76": {
      "model_module": "@jupyter-widgets/base",
      "model_module_version": "1.0.0",
      "model_name": "LayoutModel",
      "state": {}
     },
     "b74b1845e0ea40bcba897a65559c7042": {
      "model_module": "@jupyter-widgets/controls",
      "model_module_version": "1.0.0",
      "model_name": "DescriptionStyleModel",
      "state": {
       "description_width": ""
      }
     },
     "b9c9c69b0ed945d0af89c971dd06323a": {
      "model_module": "@jupyter-widgets/controls",
      "model_module_version": "1.0.0",
      "model_name": "ProgressStyleModel",
      "state": {
       "description_width": ""
      }
     },
     "ba44905ea8b04d78ba77d7a6f34cb359": {
      "model_module": "@jupyter-widgets/controls",
      "model_module_version": "1.0.0",
      "model_name": "HTMLModel",
      "state": {
       "layout": "IPY_MODEL_3941089d9dfe48b4bad6b3919b7cc58c",
       "style": "IPY_MODEL_33b453c97a4f4176bab9ef4f75a1d525",
       "value": "  0% 0/7 [00:00&lt;?, ?it/s]"
      }
     },
     "bc7e66b992eb4d83b94472363efa00b1": {
      "model_module": "@jupyter-widgets/controls",
      "model_module_version": "1.0.0",
      "model_name": "IntProgressModel",
      "state": {
       "bar_style": "danger",
       "description": "Epoch",
       "layout": "IPY_MODEL_5da3eb5d9cb84c0a8cf4c13108ca0dc0",
       "max": 1,
       "style": "IPY_MODEL_fb3a4129025246e6a6217bf59c82846f"
      }
     },
     "bd17a19810db400dbdd34a2c4b1321c0": {
      "model_module": "@jupyter-widgets/base",
      "model_module_version": "1.0.0",
      "model_name": "LayoutModel",
      "state": {}
     },
     "be3402a5f847466db4f672c6e1875b11": {
      "model_module": "@jupyter-widgets/controls",
      "model_module_version": "1.0.0",
      "model_name": "DescriptionStyleModel",
      "state": {
       "description_width": ""
      }
     },
     "bea9b83f3428488db411a5c69677d3e0": {
      "model_module": "@jupyter-widgets/controls",
      "model_module_version": "1.0.0",
      "model_name": "HTMLModel",
      "state": {
       "layout": "IPY_MODEL_a49525c1412c4341b5f28fa044ac8730",
       "style": "IPY_MODEL_216bad4b53ba436ba8d553ddbf2b2581",
       "value": "100% 6/6 [00:00&lt;00:00, 214.95it/s]"
      }
     },
     "bf24251c62014f15802e40e7df1e7431": {
      "model_module": "@jupyter-widgets/controls",
      "model_module_version": "1.0.0",
      "model_name": "IntProgressModel",
      "state": {
       "bar_style": "danger",
       "description": "Epoch",
       "layout": "IPY_MODEL_6a68ab59ebbe456098efc466da618cfb",
       "max": 1,
       "style": "IPY_MODEL_f242a92560c540d9892b3eb7dbd5c8a1"
      }
     },
     "bff910c1f73b4b38a951d1e5da6ecf07": {
      "model_module": "@jupyter-widgets/controls",
      "model_module_version": "1.0.0",
      "model_name": "IntProgressModel",
      "state": {
       "bar_style": "success",
       "layout": "IPY_MODEL_5b67835491f340059a436804beac6bc8",
       "max": 6,
       "style": "IPY_MODEL_e3886b47540045e2bb5bb7de1edc3d60",
       "value": 6
      }
     },
     "c1f56d71ccaf4f778ef48eb5df03c390": {
      "model_module": "@jupyter-widgets/controls",
      "model_module_version": "1.0.0",
      "model_name": "HBoxModel",
      "state": {
       "children": [
        "IPY_MODEL_62e91c7df2704cf288899bf881ba7193",
        "IPY_MODEL_bea9b83f3428488db411a5c69677d3e0"
       ],
       "layout": "IPY_MODEL_2953adc68bb54528aa3a866c43312ab7"
      }
     },
     "c51798b3e67b43f7987f2cf743202b10": {
      "model_module": "@jupyter-widgets/controls",
      "model_module_version": "1.0.0",
      "model_name": "IntProgressModel",
      "state": {
       "bar_style": "danger",
       "description": "Epoch",
       "layout": "IPY_MODEL_e79ca0cc6f9642dbaab7a06d92ed8b67",
       "max": 1,
       "style": "IPY_MODEL_90cdf7e67bae478ba5caf3ffe85a92cd"
      }
     },
     "c5c2d69fb35447cc849de2e9f99dc125": {
      "model_module": "@jupyter-widgets/controls",
      "model_module_version": "1.0.0",
      "model_name": "HTMLModel",
      "state": {
       "layout": "IPY_MODEL_fd0c1fb2bea24fa097fc548e66941e2f",
       "style": "IPY_MODEL_fdcff4fa341144e89550ea0d2fe4389d",
       "value": "  0% 0/1 [00:00&lt;?, ?it/s]"
      }
     },
     "c5cfb8df320d483ea8dfdd54fe3a8115": {
      "model_module": "@jupyter-widgets/controls",
      "model_module_version": "1.0.0",
      "model_name": "IntProgressModel",
      "state": {
       "bar_style": "danger",
       "description": "Epoch",
       "layout": "IPY_MODEL_19f42f936bbb4b17810a132d5950da71",
       "max": 1,
       "style": "IPY_MODEL_cbb5fbdfd5e74b2e9bfa7a9349fe6afb"
      }
     },
     "c65c5bc1454c4d1a981f6804ea7d39fe": {
      "model_module": "@jupyter-widgets/base",
      "model_module_version": "1.0.0",
      "model_name": "LayoutModel",
      "state": {}
     },
     "c7ac2dab86dd4b888b823a5801ea942d": {
      "model_module": "@jupyter-widgets/controls",
      "model_module_version": "1.0.0",
      "model_name": "HTMLModel",
      "state": {
       "layout": "IPY_MODEL_c65c5bc1454c4d1a981f6804ea7d39fe",
       "style": "IPY_MODEL_79fa4bc08b554464b5ce61d41cfe975d",
       "value": "  0% 0/1 [00:00&lt;?, ?it/s]"
      }
     },
     "c7c4c7ca4c1d49cba0e307d471ee7b4c": {
      "model_module": "@jupyter-widgets/controls",
      "model_module_version": "1.0.0",
      "model_name": "HTMLModel",
      "state": {
       "layout": "IPY_MODEL_465661a6402d4902a48427724b4fd5c3",
       "style": "IPY_MODEL_c92fbe5f54044f9d91ad86d6570cc02c",
       "value": "  0% 0/1 [00:00&lt;?, ?it/s]"
      }
     },
     "c8594bd844be46e4ae8f9554c1d1d38b": {
      "model_module": "@jupyter-widgets/base",
      "model_module_version": "1.0.0",
      "model_name": "LayoutModel",
      "state": {}
     },
     "c92fbe5f54044f9d91ad86d6570cc02c": {
      "model_module": "@jupyter-widgets/controls",
      "model_module_version": "1.0.0",
      "model_name": "DescriptionStyleModel",
      "state": {
       "description_width": ""
      }
     },
     "c95223f4ef624690afb3c90a786ba0f1": {
      "model_module": "@jupyter-widgets/base",
      "model_module_version": "1.0.0",
      "model_name": "LayoutModel",
      "state": {}
     },
     "ca4646c53db64b5397e378981971817a": {
      "model_module": "@jupyter-widgets/controls",
      "model_module_version": "1.0.0",
      "model_name": "DescriptionStyleModel",
      "state": {
       "description_width": ""
      }
     },
     "caf8c6e6a06d4c50b635edeb95db6579": {
      "model_module": "@jupyter-widgets/base",
      "model_module_version": "1.0.0",
      "model_name": "LayoutModel",
      "state": {}
     },
     "cbb5fbdfd5e74b2e9bfa7a9349fe6afb": {
      "model_module": "@jupyter-widgets/controls",
      "model_module_version": "1.0.0",
      "model_name": "ProgressStyleModel",
      "state": {
       "description_width": ""
      }
     },
     "cc87b70ee1fe4cf6888058355b989cca": {
      "model_module": "@jupyter-widgets/controls",
      "model_module_version": "1.0.0",
      "model_name": "ProgressStyleModel",
      "state": {
       "description_width": ""
      }
     },
     "cd69ae20458248a0ae121ceb5d328ca0": {
      "model_module": "@jupyter-widgets/controls",
      "model_module_version": "1.0.0",
      "model_name": "HBoxModel",
      "state": {
       "children": [
        "IPY_MODEL_157a60326e24452f9a7c858f056ca019",
        "IPY_MODEL_366cf1952f3d4da2a0411b2cd54b936b"
       ],
       "layout": "IPY_MODEL_a5a6745a1dbb4049ae7b481203ea318d"
      }
     },
     "cda7a273fb5e4fb8a35686bb2b07ae74": {
      "model_module": "@jupyter-widgets/base",
      "model_module_version": "1.0.0",
      "model_name": "LayoutModel",
      "state": {}
     },
     "cdaa7de3206943ab8f817f8b39c0c44a": {
      "model_module": "@jupyter-widgets/controls",
      "model_module_version": "1.0.0",
      "model_name": "IntProgressModel",
      "state": {
       "bar_style": "success",
       "description": "Epoch",
       "layout": "IPY_MODEL_64ccbbe33fb54a54b171fd688ac6ac80",
       "max": 5,
       "style": "IPY_MODEL_50c718e46a3e487cb679f43c3403e806",
       "value": 5
      }
     },
     "cf18474c74e045948c88522df28b3323": {
      "model_module": "@jupyter-widgets/controls",
      "model_module_version": "1.0.0",
      "model_name": "DescriptionStyleModel",
      "state": {
       "description_width": ""
      }
     },
     "cf78fe4cb3bf4c5db742e877dd2c6448": {
      "model_module": "@jupyter-widgets/controls",
      "model_module_version": "1.0.0",
      "model_name": "HTMLModel",
      "state": {
       "layout": "IPY_MODEL_f9697bd9774e4a0b9190a0fae7fd5b1b",
       "style": "IPY_MODEL_3e5949ab780a427bba4276069b282e8e",
       "value": "100% 5/5 [00:28&lt;00:00,  5.71s/it]"
      }
     },
     "cfd6f7418461443a83bb59981c137a41": {
      "model_module": "@jupyter-widgets/controls",
      "model_module_version": "1.0.0",
      "model_name": "IntProgressModel",
      "state": {
       "bar_style": "danger",
       "description": "Epoch",
       "layout": "IPY_MODEL_e455256ab92e4b32911da50742e89614",
       "max": 7,
       "style": "IPY_MODEL_44345369ca634bdb8333ac190929d86b"
      }
     },
     "cfe273d88bb346e1b28de61c1880ba1f": {
      "model_module": "@jupyter-widgets/controls",
      "model_module_version": "1.0.0",
      "model_name": "DescriptionStyleModel",
      "state": {
       "description_width": ""
      }
     },
     "d0fb138468d941859e559b3830a0d71d": {
      "model_module": "@jupyter-widgets/controls",
      "model_module_version": "1.0.0",
      "model_name": "HBoxModel",
      "state": {
       "children": [
        "IPY_MODEL_345673fd9d6e4b25bdb9bfad74a4c56a",
        "IPY_MODEL_1ee5e81fad0045db80544aa2cfce87d4"
       ],
       "layout": "IPY_MODEL_bd17a19810db400dbdd34a2c4b1321c0"
      }
     },
     "d1eacfa9241b470e8d3692390ddf1bf9": {
      "model_module": "@jupyter-widgets/controls",
      "model_module_version": "1.0.0",
      "model_name": "IntProgressModel",
      "state": {
       "bar_style": "success",
       "description": "Epoch",
       "layout": "IPY_MODEL_e3720a500a614605a15f953810e6fbde",
       "max": 5,
       "style": "IPY_MODEL_12a815db2a314f57b9b6e86f8276be5b",
       "value": 5
      }
     },
     "d2e6151bcf9e4a6c9882f373155c6996": {
      "model_module": "@jupyter-widgets/controls",
      "model_module_version": "1.0.0",
      "model_name": "HBoxModel",
      "state": {
       "children": [
        "IPY_MODEL_bc7e66b992eb4d83b94472363efa00b1",
        "IPY_MODEL_ecca86d115304fb78cba87b81f185adf"
       ],
       "layout": "IPY_MODEL_6d0edb0e5d4a4070b4917312b54cba96"
      }
     },
     "d34a743224a142f78e1afab86c52bc87": {
      "model_module": "@jupyter-widgets/controls",
      "model_module_version": "1.0.0",
      "model_name": "HBoxModel",
      "state": {
       "children": [
        "IPY_MODEL_e0c6c67515d74c0096eeaf04b206a3b6",
        "IPY_MODEL_73aeeb8cee47468a98d54f0a9698664e"
       ],
       "layout": "IPY_MODEL_8cb35fdf89194c188c319eb212a0c998"
      }
     },
     "d359726358b94325852e3db21061f8a4": {
      "model_module": "@jupyter-widgets/controls",
      "model_module_version": "1.0.0",
      "model_name": "ProgressStyleModel",
      "state": {
       "description_width": ""
      }
     },
     "d392448e09e443389ae7719e2c292b9b": {
      "model_module": "@jupyter-widgets/controls",
      "model_module_version": "1.0.0",
      "model_name": "HBoxModel",
      "state": {
       "children": [
        "IPY_MODEL_4bcf5ffebd784d2cb744cce2a3105de2",
        "IPY_MODEL_51758a6e6d2345678e431e79e606fae1"
       ],
       "layout": "IPY_MODEL_f76f9f44d18a4bdd82ef528c4a1a2918"
      }
     },
     "d51fa33ea2da448693e7ab43fbb774e0": {
      "model_module": "@jupyter-widgets/controls",
      "model_module_version": "1.0.0",
      "model_name": "DescriptionStyleModel",
      "state": {
       "description_width": ""
      }
     },
     "d968c83543d6451aaf86d48bdcaf0013": {
      "model_module": "@jupyter-widgets/controls",
      "model_module_version": "1.0.0",
      "model_name": "DescriptionStyleModel",
      "state": {
       "description_width": ""
      }
     },
     "d994e905942f424891c853ec25fc9d0d": {
      "model_module": "@jupyter-widgets/base",
      "model_module_version": "1.0.0",
      "model_name": "LayoutModel",
      "state": {}
     },
     "da1881a7e63c4d1a8976217e6c9bf180": {
      "model_module": "@jupyter-widgets/controls",
      "model_module_version": "1.0.0",
      "model_name": "ProgressStyleModel",
      "state": {
       "description_width": ""
      }
     },
     "da2d03ff7791430a87f24550396df6e2": {
      "model_module": "@jupyter-widgets/controls",
      "model_module_version": "1.0.0",
      "model_name": "HTMLModel",
      "state": {
       "layout": "IPY_MODEL_6bf06eafd2ff4750ba7a976ad41060c1",
       "style": "IPY_MODEL_d968c83543d6451aaf86d48bdcaf0013",
       "value": "100% 1/1 [04:14&lt;00:00, 254.10s/it]"
      }
     },
     "dcfccd9759f54d89a919f115a0ba37e8": {
      "model_module": "@jupyter-widgets/controls",
      "model_module_version": "1.0.0",
      "model_name": "HTMLModel",
      "state": {
       "layout": "IPY_MODEL_ed8f03eefcdc4de8bf5823a5210fa34e",
       "style": "IPY_MODEL_9efed534bcf148d2a020feae3c0e92b0",
       "value": "100% 6/6 [00:00&lt;00:00, 358.35it/s]"
      }
     },
     "dd04397dbc084d4d9e4a03d8c90ea9ae": {
      "model_module": "@jupyter-widgets/controls",
      "model_module_version": "1.0.0",
      "model_name": "HBoxModel",
      "state": {
       "children": [
        "IPY_MODEL_866da45a457147d582348a3b30970c8f",
        "IPY_MODEL_b5a069f86f0b4eefb0672b8132a16489"
       ],
       "layout": "IPY_MODEL_87ac686a1e2b4758a5442da3d4914062"
      }
     },
     "ddc59c07137e41f1887681e35025a8c0": {
      "model_module": "@jupyter-widgets/base",
      "model_module_version": "1.0.0",
      "model_name": "LayoutModel",
      "state": {}
     },
     "de8e95de6b1e4c4aba0c4bba8dc9d766": {
      "model_module": "@jupyter-widgets/base",
      "model_module_version": "1.0.0",
      "model_name": "LayoutModel",
      "state": {}
     },
     "de939e3b220a48e5aa4943dde3b3b4df": {
      "model_module": "@jupyter-widgets/base",
      "model_module_version": "1.0.0",
      "model_name": "LayoutModel",
      "state": {}
     },
     "df12f0d15f1c4e64b720e1d0813aaf21": {
      "model_module": "@jupyter-widgets/base",
      "model_module_version": "1.0.0",
      "model_name": "LayoutModel",
      "state": {}
     },
     "e03b92a656684813bb7a837ad69342b3": {
      "model_module": "@jupyter-widgets/controls",
      "model_module_version": "1.0.0",
      "model_name": "HBoxModel",
      "state": {
       "children": [
        "IPY_MODEL_6199827a629142368ed502ff8dede3bc",
        "IPY_MODEL_c7ac2dab86dd4b888b823a5801ea942d"
       ],
       "layout": "IPY_MODEL_968e904c051942b3b964c26bf5aae13a"
      }
     },
     "e07a66c1dc54408693cbce78f4d39752": {
      "model_module": "@jupyter-widgets/base",
      "model_module_version": "1.0.0",
      "model_name": "LayoutModel",
      "state": {}
     },
     "e0c6c67515d74c0096eeaf04b206a3b6": {
      "model_module": "@jupyter-widgets/controls",
      "model_module_version": "1.0.0",
      "model_name": "IntProgressModel",
      "state": {
       "bar_style": "success",
       "description": "Epoch",
       "layout": "IPY_MODEL_886f81e08e8a4c2b9693564e99e4c2ab",
       "max": 7,
       "style": "IPY_MODEL_683fe0ad9fa246b2a8daa90fc53e6c12",
       "value": 7
      }
     },
     "e23291e4b6074c6f94d3e5d5d8eb1eee": {
      "model_module": "@jupyter-widgets/base",
      "model_module_version": "1.0.0",
      "model_name": "LayoutModel",
      "state": {}
     },
     "e2a1eabedf204d048c269bdd3695389a": {
      "model_module": "@jupyter-widgets/base",
      "model_module_version": "1.0.0",
      "model_name": "LayoutModel",
      "state": {}
     },
     "e2ad12eafca942d99323fe04ef4f70e2": {
      "model_module": "@jupyter-widgets/controls",
      "model_module_version": "1.0.0",
      "model_name": "HBoxModel",
      "state": {
       "children": [
        "IPY_MODEL_a00cbb7a40224f32be796f5bf4b2ac8d",
        "IPY_MODEL_b3047a4a564443ee9a7a7e637cde2e7b"
       ],
       "layout": "IPY_MODEL_a91111493ac54b5e82d7fd37b2dd47db"
      }
     },
     "e3720a500a614605a15f953810e6fbde": {
      "model_module": "@jupyter-widgets/base",
      "model_module_version": "1.0.0",
      "model_name": "LayoutModel",
      "state": {}
     },
     "e3886b47540045e2bb5bb7de1edc3d60": {
      "model_module": "@jupyter-widgets/controls",
      "model_module_version": "1.0.0",
      "model_name": "ProgressStyleModel",
      "state": {
       "description_width": ""
      }
     },
     "e455256ab92e4b32911da50742e89614": {
      "model_module": "@jupyter-widgets/base",
      "model_module_version": "1.0.0",
      "model_name": "LayoutModel",
      "state": {}
     },
     "e486556053ab4272b07f3647c0fd2adc": {
      "model_module": "@jupyter-widgets/controls",
      "model_module_version": "1.0.0",
      "model_name": "HTMLModel",
      "state": {
       "layout": "IPY_MODEL_858290b82e304f599f49e113427ca8ae",
       "style": "IPY_MODEL_cfe273d88bb346e1b28de61c1880ba1f",
       "value": "100% 5/5 [00:22&lt;00:00,  4.57s/it]"
      }
     },
     "e51378953e504b83816d8e5647e8ed51": {
      "model_module": "@jupyter-widgets/base",
      "model_module_version": "1.0.0",
      "model_name": "LayoutModel",
      "state": {}
     },
     "e5ed22fe2cb14885af23b4b27ecbe24f": {
      "model_module": "@jupyter-widgets/controls",
      "model_module_version": "1.0.0",
      "model_name": "ProgressStyleModel",
      "state": {
       "description_width": ""
      }
     },
     "e6a27ddf113342528c01359c1db919c3": {
      "model_module": "@jupyter-widgets/base",
      "model_module_version": "1.0.0",
      "model_name": "LayoutModel",
      "state": {}
     },
     "e79ca0cc6f9642dbaab7a06d92ed8b67": {
      "model_module": "@jupyter-widgets/base",
      "model_module_version": "1.0.0",
      "model_name": "LayoutModel",
      "state": {}
     },
     "e7fb2ebd3bd9459e9efef365ab51c9c4": {
      "model_module": "@jupyter-widgets/controls",
      "model_module_version": "1.0.0",
      "model_name": "ProgressStyleModel",
      "state": {
       "description_width": ""
      }
     },
     "e80569dc277e49fab1ba6f46443377a4": {
      "model_module": "@jupyter-widgets/controls",
      "model_module_version": "1.0.0",
      "model_name": "DescriptionStyleModel",
      "state": {
       "description_width": ""
      }
     },
     "e9705f41a0c548e49ca61542988c66c7": {
      "model_module": "@jupyter-widgets/controls",
      "model_module_version": "1.0.0",
      "model_name": "IntProgressModel",
      "state": {
       "bar_style": "danger",
       "description": "Epoch",
       "layout": "IPY_MODEL_08d00f7f32504a6d91895f8312800f1c",
       "max": 7,
       "style": "IPY_MODEL_e7fb2ebd3bd9459e9efef365ab51c9c4"
      }
     },
     "e973c79f6d4241b2aef68a8a60a29db2": {
      "model_module": "@jupyter-widgets/controls",
      "model_module_version": "1.0.0",
      "model_name": "ProgressStyleModel",
      "state": {
       "description_width": ""
      }
     },
     "e98c05abe86545a7bd6b1f8c3ede961e": {
      "model_module": "@jupyter-widgets/controls",
      "model_module_version": "1.0.0",
      "model_name": "IntProgressModel",
      "state": {
       "bar_style": "success",
       "description": "Epoch",
       "layout": "IPY_MODEL_29e1c8a837da4eaf9455ceccf94d3a55",
       "max": 5,
       "style": "IPY_MODEL_195d254bf1c140bf836e8bf4d8c4fc4d",
       "value": 5
      }
     },
     "eb3b647a59d14e759309c80d80611429": {
      "model_module": "@jupyter-widgets/controls",
      "model_module_version": "1.0.0",
      "model_name": "HBoxModel",
      "state": {
       "children": [
        "IPY_MODEL_0174a96991124d49acfbb77a7206498e",
        "IPY_MODEL_f39ffc23b517429abb6d16c647b3e0d5"
       ],
       "layout": "IPY_MODEL_678157cd0c7941e29eab21166ffca997"
      }
     },
     "ebda5d71d8844d11966548ce203e646c": {
      "model_module": "@jupyter-widgets/controls",
      "model_module_version": "1.0.0",
      "model_name": "DescriptionStyleModel",
      "state": {
       "description_width": ""
      }
     },
     "ebfc8c69039e4cef8b152566f83ce54b": {
      "model_module": "@jupyter-widgets/base",
      "model_module_version": "1.0.0",
      "model_name": "LayoutModel",
      "state": {}
     },
     "ecca86d115304fb78cba87b81f185adf": {
      "model_module": "@jupyter-widgets/controls",
      "model_module_version": "1.0.0",
      "model_name": "HTMLModel",
      "state": {
       "layout": "IPY_MODEL_00b494a000954ce9a931fa73e19b41ac",
       "style": "IPY_MODEL_a4d778731998454698069f393f05e8e7",
       "value": "  0% 0/1 [00:00&lt;?, ?it/s]"
      }
     },
     "ed8f03eefcdc4de8bf5823a5210fa34e": {
      "model_module": "@jupyter-widgets/base",
      "model_module_version": "1.0.0",
      "model_name": "LayoutModel",
      "state": {}
     },
     "edf9c70d1c9149e08c545bef502cd8cf": {
      "model_module": "@jupyter-widgets/base",
      "model_module_version": "1.0.0",
      "model_name": "LayoutModel",
      "state": {}
     },
     "ef6adbdabd034903bb60d9509f04b67b": {
      "model_module": "@jupyter-widgets/base",
      "model_module_version": "1.0.0",
      "model_name": "LayoutModel",
      "state": {}
     },
     "efe5ea77b38d4822afea10731145df53": {
      "model_module": "@jupyter-widgets/controls",
      "model_module_version": "1.0.0",
      "model_name": "DescriptionStyleModel",
      "state": {
       "description_width": ""
      }
     },
     "f1dc5d580ab04a4ba74ec4823709ae3f": {
      "model_module": "@jupyter-widgets/controls",
      "model_module_version": "1.0.0",
      "model_name": "DescriptionStyleModel",
      "state": {
       "description_width": ""
      }
     },
     "f242a92560c540d9892b3eb7dbd5c8a1": {
      "model_module": "@jupyter-widgets/controls",
      "model_module_version": "1.0.0",
      "model_name": "ProgressStyleModel",
      "state": {
       "description_width": ""
      }
     },
     "f2a3fa87a99744e1855bd2db98755ce3": {
      "model_module": "@jupyter-widgets/controls",
      "model_module_version": "1.0.0",
      "model_name": "ProgressStyleModel",
      "state": {
       "description_width": ""
      }
     },
     "f315439b56854d8287bea6d7ef7e9302": {
      "model_module": "@jupyter-widgets/base",
      "model_module_version": "1.0.0",
      "model_name": "LayoutModel",
      "state": {}
     },
     "f391d5a1a1d145788d39e9641c4fab38": {
      "model_module": "@jupyter-widgets/base",
      "model_module_version": "1.0.0",
      "model_name": "LayoutModel",
      "state": {}
     },
     "f39ffc23b517429abb6d16c647b3e0d5": {
      "model_module": "@jupyter-widgets/controls",
      "model_module_version": "1.0.0",
      "model_name": "HTMLModel",
      "state": {
       "layout": "IPY_MODEL_04a61c7ee7e746ee913bb24b2391658e",
       "style": "IPY_MODEL_cf18474c74e045948c88522df28b3323",
       "value": "  0% 0/5 [00:00&lt;?, ?it/s]"
      }
     },
     "f419fe2f6fee41a4afd92f37c2ed3c52": {
      "model_module": "@jupyter-widgets/controls",
      "model_module_version": "1.0.0",
      "model_name": "HTMLModel",
      "state": {
       "layout": "IPY_MODEL_5fe3c44759d640a78723b71c5e7b3701",
       "style": "IPY_MODEL_efe5ea77b38d4822afea10731145df53",
       "value": "  0% 0/5 [00:00&lt;?, ?it/s]"
      }
     },
     "f713d7f778a340588de474b96247932d": {
      "model_module": "@jupyter-widgets/controls",
      "model_module_version": "1.0.0",
      "model_name": "HTMLModel",
      "state": {
       "layout": "IPY_MODEL_2ee9e17cc28b49f79c20c0cf263a4cd5",
       "style": "IPY_MODEL_91a7afb8f9454c80b80bc5cf3a5c0902",
       "value": "100% 6/6 [00:00&lt;00:00, 333.72it/s]"
      }
     },
     "f76f9f44d18a4bdd82ef528c4a1a2918": {
      "model_module": "@jupyter-widgets/base",
      "model_module_version": "1.0.0",
      "model_name": "LayoutModel",
      "state": {}
     },
     "f86b5b3ec00c4d2f9b59fd3de4c6e123": {
      "model_module": "@jupyter-widgets/controls",
      "model_module_version": "1.0.0",
      "model_name": "IntProgressModel",
      "state": {
       "bar_style": "success",
       "description": "Epoch",
       "layout": "IPY_MODEL_caf8c6e6a06d4c50b635edeb95db6579",
       "max": 2,
       "style": "IPY_MODEL_f8b472b1c30346c29dfd48454ee66cb5",
       "value": 2
      }
     },
     "f8b472b1c30346c29dfd48454ee66cb5": {
      "model_module": "@jupyter-widgets/controls",
      "model_module_version": "1.0.0",
      "model_name": "ProgressStyleModel",
      "state": {
       "description_width": ""
      }
     },
     "f8dd279a8d1a429e983ef9ffde1c9c9b": {
      "model_module": "@jupyter-widgets/base",
      "model_module_version": "1.0.0",
      "model_name": "LayoutModel",
      "state": {}
     },
     "f9697bd9774e4a0b9190a0fae7fd5b1b": {
      "model_module": "@jupyter-widgets/base",
      "model_module_version": "1.0.0",
      "model_name": "LayoutModel",
      "state": {}
     },
     "fb3a4129025246e6a6217bf59c82846f": {
      "model_module": "@jupyter-widgets/controls",
      "model_module_version": "1.0.0",
      "model_name": "ProgressStyleModel",
      "state": {
       "description_width": ""
      }
     },
     "fb4fb3ab67df403aa6f83300cd968e6e": {
      "model_module": "@jupyter-widgets/controls",
      "model_module_version": "1.0.0",
      "model_name": "DescriptionStyleModel",
      "state": {
       "description_width": ""
      }
     },
     "fbe20e4a6e7f4bde9c32347a85091026": {
      "model_module": "@jupyter-widgets/controls",
      "model_module_version": "1.0.0",
      "model_name": "HBoxModel",
      "state": {
       "children": [
        "IPY_MODEL_bf24251c62014f15802e40e7df1e7431",
        "IPY_MODEL_9c0eb6e99bd3477a85e368d741a5ee6d"
       ],
       "layout": "IPY_MODEL_7063ce0277604b9480e36a7289a62931"
      }
     },
     "fd0c1fb2bea24fa097fc548e66941e2f": {
      "model_module": "@jupyter-widgets/base",
      "model_module_version": "1.0.0",
      "model_name": "LayoutModel",
      "state": {}
     },
     "fdcff4fa341144e89550ea0d2fe4389d": {
      "model_module": "@jupyter-widgets/controls",
      "model_module_version": "1.0.0",
      "model_name": "DescriptionStyleModel",
      "state": {
       "description_width": ""
      }
     },
     "fecb60431e974defa3ed09feb5d7885e": {
      "model_module": "@jupyter-widgets/base",
      "model_module_version": "1.0.0",
      "model_name": "LayoutModel",
      "state": {}
     },
     "ff6df5a2512d4e45b4833269e10f106c": {
      "model_module": "@jupyter-widgets/controls",
      "model_module_version": "1.0.0",
      "model_name": "HBoxModel",
      "state": {
       "children": [
        "IPY_MODEL_278081a7042644c8917a81b0aa0a7fe1",
        "IPY_MODEL_c5c2d69fb35447cc849de2e9f99dc125"
       ],
       "layout": "IPY_MODEL_2011b9c35e20401b8b264af3fe86e52a"
      }
     },
     "ffcaedb235c2402181d5bfea5ce45d35": {
      "model_module": "@jupyter-widgets/controls",
      "model_module_version": "1.0.0",
      "model_name": "HTMLModel",
      "state": {
       "layout": "IPY_MODEL_30b975b53b7140d9b3a5f226c94c38ef",
       "style": "IPY_MODEL_be3402a5f847466db4f672c6e1875b11",
       "value": "100% 1/1 [04:13&lt;00:00, 253.54s/it]"
      }
     }
    },
    "version_major": 2,
    "version_minor": 0
   }
  }
 },
 "nbformat": 4,
 "nbformat_minor": 2
}
