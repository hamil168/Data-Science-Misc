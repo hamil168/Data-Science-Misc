{
 "cells": [
  {
   "cell_type": "code",
   "execution_count": null,
   "metadata": {},
   "outputs": [],
   "source": []
  },
  {
   "cell_type": "markdown",
   "metadata": {},
   "source": [
    "When selling used goods online, a combination of tiny,\n",
    "nuanced details in a product description can make a big difference in drumming up interest. Details like:\n",
    "\n",
    "**Avito Qualities**\n",
    "And, even with an optimized product listing, demand for a product may simply not exist–frustrating sellers who may have over-invested in marketing.\n",
    "\n",
    "https://www.kaggle.com/c/avito-demand-prediction\n",
    "\n",
    "Avito, Russia’s largest classified advertisements website, is deeply familiar with this problem. Sellers on their platform sometimes feel frustrated with both too little demand (indicating something is wrong with the product or the product listing) or too much demand (indicating a hot item with a good description was underpriced).\n",
    "\n",
    "In their fourth Kaggle competition, Avito is challenging you to predict demand for an online advertisement based on its full description (title, description, images, etc.), its context (geographically where it was posted, similar ads already posted) and historical demand for similar ads in similar contexts. With this information, Avito can inform sellers on how to best optimize their listing and provide some indication of how much interest they should realistically expect to receive."
   ]
  },
  {
   "cell_type": "markdown",
   "metadata": {},
   "source": [
    "### Update\n",
    "To make it easier to download the training images, we have added several smaller zip archives that hold the same images as train_jpg.zip. If you have already downloaded train_jpg.zip you can ignore these completely."
   ]
  },
  {
   "cell_type": "markdown",
   "metadata": {},
   "source": [
    "### File and column descriptions\n",
    "\n",
    "- train.csv - Train data.\n",
    "- item_id - Ad id.\n",
    "- user_id - User id.\n",
    "- region - Ad region.\n",
    "- city - Ad city.\n",
    "- parent_category_name - Top level ad category as classified by Avito's ad model.\n",
    "- category_name - Fine grain ad category as classified by Avito's ad model.\n",
    "- param_1 - Optional parameter from Avito's ad model.\n",
    "- param_2 - Optional parameter from Avito's ad model.\n",
    "- param_3 - Optional parameter from Avito's ad model.\n",
    "- title - Ad title.\n",
    "- description - Ad description.\n",
    "- price - Ad price.\n",
    "- item_seq_number - Ad sequential number for user.\n",
    "- activation_date- Date ad was placed.\n",
    "- user_type - User type.\n",
    "- image - Id code of image. Ties to a jpg file in train_jpg. Not every ad has an image.\n",
    "- image_top_1 - Avito's classification code for the image.\n",
    "- deal_probability - The target variable. This is the likelihood that an ad actually sold something. It's not possible to verify every transaction with certainty, so this column's value can be any float from zero to one."
   ]
  },
  {
   "cell_type": "markdown",
   "metadata": {},
   "source": [
    "- test.csv - Test data. **Same schema as the train data, minus deal_probability**.\n",
    "- train_active.csv - Supplemental data from ads that were displayed during the same period as train.csv. **Same schema as the train data minus deal_probability, image, and image_top_1**.\n",
    "- test_active.csv - Supplemental data from ads that were displayed during the same period as test.csv. **Same schema as the train data minus deal_probability, image, and image_top_1.**\n",
    "- periods_train.csv - Supplemental data showing the dates when the ads from train_active.csv were activated and when they where displayed.\n",
    "    - item_id - Ad id. Maps to an id in train_active.csv. IDs may show up multiple times in this file if the ad was renewed.\n",
    "    - activation_date - Date the ad was placed.\n",
    "    - date_from - First day the ad was displayed.\n",
    "    - date_to - Last day the ad was displayed.\n",
    "- periods_test.csv - Supplemental data showing the dates when the ads from test_active.csv were activated and when they where displayed. **Same schema as periods_train.csv, except that the item ids map to an ad in test_active.csv**."
   ]
  },
  {
   "cell_type": "markdown",
   "metadata": {},
   "source": [
    "- train_jpg.zip - Images from the ads in train.csv.\n",
    "- test_jpg.zip - Images from the ads in test.csv.\n",
    "- train_jpg_{0, 1, 2, 3, 4}.zip - These are the exact same images as you'll find in train_jpg.zip but split into smaller zip archives so the data are easier to download. If you already have train_jpg.zip you do NOT need to download these. We have not made these zips available in kernels as they would only increase the kernel creation time.\n",
    "\n",
    "### METRIC\n",
    "**RSME**\n",
    "\n",
    "### Sample Submittions\n",
    "- sample_submission.csv - A sample submission in the correct format.\n",
    "- RMSE = 0.44"
   ]
  },
  {
   "cell_type": "markdown",
   "metadata": {},
   "source": [
    "#### June 20, 2018 - Entry deadline. You must accept the competition rules before this date in order to compete."
   ]
  },
  {
   "cell_type": "code",
   "execution_count": null,
   "metadata": {},
   "outputs": [],
   "source": []
  }
 ],
 "metadata": {
  "kernelspec": {
   "display_name": "Python 3",
   "language": "python",
   "name": "python3"
  },
  "language_info": {
   "codemirror_mode": {
    "name": "ipython",
    "version": 3
   },
   "file_extension": ".py",
   "mimetype": "text/x-python",
   "name": "python",
   "nbconvert_exporter": "python",
   "pygments_lexer": "ipython3",
   "version": "3.6.3"
  }
 },
 "nbformat": 4,
 "nbformat_minor": 2
}
